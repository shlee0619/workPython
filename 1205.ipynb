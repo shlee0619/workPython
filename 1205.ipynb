{
  "nbformat": 4,
  "nbformat_minor": 0,
  "metadata": {
    "colab": {
      "provenance": [],
      "toc_visible": true,
      "include_colab_link": true
    },
    "kernelspec": {
      "name": "python3",
      "display_name": "Python 3"
    },
    "language_info": {
      "name": "python"
    }
  },
  "cells": [
    {
      "cell_type": "markdown",
      "metadata": {
        "id": "view-in-github",
        "colab_type": "text"
      },
      "source": [
        "<a href=\"https://colab.research.google.com/github/shlee0619/workPython/blob/main/1205.ipynb\" target=\"_parent\"><img src=\"https://colab.research.google.com/assets/colab-badge.svg\" alt=\"Open In Colab\"/></a>"
      ]
    },
    {
      "cell_type": "markdown",
      "source": [
        "# 파이썬 기초"
      ],
      "metadata": {
        "id": "eSDyUcO2Vb0L"
      }
    },
    {
      "cell_type": "code",
      "execution_count": null,
      "metadata": {
        "id": "TTZfjaRFVPyb"
      },
      "outputs": [],
      "source": [
        "# 주석 ctrl + /\n",
        "# 코드 실행\n",
        "# 1) ctrl + enter: 커서의 위치가 그대로\n",
        "# 2) alt + enter: 새로운 셀로 이동(새로 셀을 만듦)\n",
        "# 3) shift + enter: 새로운 셀로 이동(기존 만들어진 셀)"
      ]
    },
    {
      "cell_type": "code",
      "source": [
        "# 출력을 해주는 함수\n",
        "print(\"안녕 파이썬\")"
      ],
      "metadata": {
        "id": "h4oowJVVW_cs",
        "colab": {
          "base_uri": "https://localhost:8080/"
        },
        "outputId": "27cae024-be94-4d4b-8a55-a4313c3f3dac"
      },
      "execution_count": null,
      "outputs": [
        {
          "output_type": "stream",
          "name": "stdout",
          "text": [
            "안녕 파이썬\n"
          ]
        }
      ]
    },
    {
      "cell_type": "code",
      "source": [
        "print(\"안녕\"*10)"
      ],
      "metadata": {
        "id": "EBEYkDgdXKpP",
        "colab": {
          "base_uri": "https://localhost:8080/"
        },
        "outputId": "cadca6d4-883e-4327-c467-106f9865ce37"
      },
      "execution_count": null,
      "outputs": [
        {
          "output_type": "stream",
          "name": "stdout",
          "text": [
            "안녕안녕안녕안녕안녕안녕안녕안녕안녕안녕\n"
          ]
        }
      ]
    },
    {
      "cell_type": "code",
      "source": [
        "# 표현식\n",
        "23\n",
        "\"Hello\"\n",
        "1+2\n",
        "# + : 연산자"
      ],
      "metadata": {
        "colab": {
          "base_uri": "https://localhost:8080/"
        },
        "id": "JtOTQ5pgXfZr",
        "outputId": "47dc66f2-e7da-4cbd-cf54-8f180242e2c1"
      },
      "execution_count": null,
      "outputs": [
        {
          "output_type": "execute_result",
          "data": {
            "text/plain": [
              "3"
            ]
          },
          "metadata": {},
          "execution_count": 4
        }
      ]
    },
    {
      "cell_type": "code",
      "source": [
        "# 문장: 표현식이 모여서 실행할 수 있는 코드\n",
        "# 한줄의 코드\n",
        "a = 1+2"
      ],
      "metadata": {
        "id": "zurDUYwLXvo8"
      },
      "execution_count": null,
      "outputs": []
    },
    {
      "cell_type": "code",
      "source": [
        "a"
      ],
      "metadata": {
        "id": "xLwwihm7XsFa",
        "colab": {
          "base_uri": "https://localhost:8080/"
        },
        "outputId": "1ef4d207-a7a8-4245-9496-5cf757f5af9f"
      },
      "execution_count": null,
      "outputs": [
        {
          "output_type": "execute_result",
          "data": {
            "text/plain": [
              "3"
            ]
          },
          "metadata": {},
          "execution_count": 6
        }
      ]
    },
    {
      "cell_type": "code",
      "source": [
        "print(\"Hello, Python\")"
      ],
      "metadata": {
        "colab": {
          "base_uri": "https://localhost:8080/"
        },
        "id": "DSCvZ44q0_IF",
        "outputId": "0ae7b307-7fe7-4b9e-deba-52f9cd1d37b5"
      },
      "execution_count": null,
      "outputs": [
        {
          "output_type": "stream",
          "name": "stdout",
          "text": [
            "Hello, Python\n"
          ]
        }
      ]
    },
    {
      "cell_type": "code",
      "source": [
        "# 프로그램: 문장이 모여서 만들어진 코드\n",
        "import time\n",
        "\n",
        "def main():\n",
        "    s = input(\"몇 초 쉬어야 하나요? \")\n",
        "    time.sleep(int(s))\n",
        "    print(\"Hello\")\n",
        "\n",
        "if __name__ == \"__main__\":\n",
        "    main()"
      ],
      "metadata": {
        "colab": {
          "base_uri": "https://localhost:8080/"
        },
        "id": "VEgi2MfB11Ax",
        "outputId": "2d87fe0f-8fe5-45ad-da6d-c8c876a8dbd1"
      },
      "execution_count": null,
      "outputs": [
        {
          "output_type": "stream",
          "name": "stdout",
          "text": [
            "몇 초 쉬어야 하나요? 3\n",
            "Hello\n"
          ]
        }
      ]
    },
    {
      "cell_type": "code",
      "source": [
        "import time\n",
        "s = 1\n",
        "time.sleep(s)\n",
        "print(\"Hello\")"
      ],
      "metadata": {
        "colab": {
          "base_uri": "https://localhost:8080/"
        },
        "id": "QGWA1gWm14_G",
        "outputId": "4d898e3f-9520-4d66-f3c7-917c81197b2d"
      },
      "execution_count": null,
      "outputs": [
        {
          "output_type": "stream",
          "name": "stdout",
          "text": [
            "Hello\n"
          ]
        }
      ]
    },
    {
      "cell_type": "markdown",
      "source": [
        "## 키워드 & 식별자"
      ],
      "metadata": {
        "id": "kzyQhs3GiU2b"
      }
    },
    {
      "cell_type": "code",
      "source": [
        "# 키워드 확인하는 방법\n",
        "import keyword\n",
        "print(keyword.kwlist)"
      ],
      "metadata": {
        "colab": {
          "base_uri": "https://localhost:8080/"
        },
        "id": "NPx28VNobTd5",
        "outputId": "0195de8b-6535-475f-cd26-8ec5d6a0dcb8"
      },
      "execution_count": null,
      "outputs": [
        {
          "output_type": "stream",
          "name": "stdout",
          "text": [
            "['False', 'None', 'True', 'and', 'as', 'assert', 'async', 'await', 'break', 'class', 'continue', 'def', 'del', 'elif', 'else', 'except', 'finally', 'for', 'from', 'global', 'if', 'import', 'in', 'is', 'lambda', 'nonlocal', 'not', 'or', 'pass', 'raise', 'return', 'try', 'while', 'with', 'yield']\n"
          ]
        }
      ]
    },
    {
      "cell_type": "code",
      "source": [
        "# 식별자\n",
        "student_name = \"Tom\"\n",
        "student_name"
      ],
      "metadata": {
        "id": "N_FbFrQJcRSt",
        "colab": {
          "base_uri": "https://localhost:8080/",
          "height": 35
        },
        "outputId": "b6c1a721-af97-47df-f8e4-c346fefce0bb"
      },
      "execution_count": null,
      "outputs": [
        {
          "output_type": "execute_result",
          "data": {
            "text/plain": [
              "'Tom'"
            ],
            "application/vnd.google.colaboratory.intrinsic+json": {
              "type": "string"
            }
          },
          "metadata": {},
          "execution_count": 16
        }
      ]
    },
    {
      "cell_type": "code",
      "source": [
        "StudentName = \"Tom\"\n",
        "StudentName"
      ],
      "metadata": {
        "colab": {
          "base_uri": "https://localhost:8080/",
          "height": 35
        },
        "id": "cWZ6WaLw4Fjn",
        "outputId": "00357f6c-efc9-4848-b02b-a3918c8a9c0b"
      },
      "execution_count": null,
      "outputs": [
        {
          "output_type": "execute_result",
          "data": {
            "text/plain": [
              "'Tom'"
            ],
            "application/vnd.google.colaboratory.intrinsic+json": {
              "type": "string"
            }
          },
          "metadata": {},
          "execution_count": 17
        }
      ]
    },
    {
      "cell_type": "code",
      "source": [
        "class = 1\n",
        "class"
      ],
      "metadata": {
        "colab": {
          "base_uri": "https://localhost:8080/",
          "height": 110
        },
        "id": "N0euX1O_3nwA",
        "outputId": "36632e46-7cba-4898-c034-fd46f1073f2a"
      },
      "execution_count": null,
      "outputs": [
        {
          "output_type": "error",
          "ename": "SyntaxError",
          "evalue": "invalid syntax (<ipython-input-21-e1538c184d80>, line 1)",
          "traceback": [
            "\u001b[0;36m  File \u001b[0;32m\"<ipython-input-21-e1538c184d80>\"\u001b[0;36m, line \u001b[0;32m1\u001b[0m\n\u001b[0;31m    class = 1\u001b[0m\n\u001b[0m          ^\u001b[0m\n\u001b[0;31mSyntaxError\u001b[0m\u001b[0;31m:\u001b[0m invalid syntax\n"
          ]
        }
      ]
    },
    {
      "cell_type": "code",
      "source": [
        "_class = 1\n",
        "_class"
      ],
      "metadata": {
        "colab": {
          "base_uri": "https://localhost:8080/"
        },
        "id": "yLxWSrKh3aUq",
        "outputId": "9f9a450a-6b49-43ac-a2ba-ef5446ce3cc2"
      },
      "execution_count": null,
      "outputs": [
        {
          "output_type": "execute_result",
          "data": {
            "text/plain": [
              "1"
            ]
          },
          "metadata": {},
          "execution_count": 22
        }
      ]
    },
    {
      "cell_type": "code",
      "source": [
        "$class = 1\n",
        "$class"
      ],
      "metadata": {
        "colab": {
          "base_uri": "https://localhost:8080/",
          "height": 110
        },
        "id": "4uhMQWSL_DkJ",
        "outputId": "c4432b4a-41bc-4c84-91aa-c002c7e55ca7"
      },
      "execution_count": null,
      "outputs": [
        {
          "output_type": "error",
          "ename": "SyntaxError",
          "evalue": "invalid syntax (<ipython-input-23-8130e611091d>, line 1)",
          "traceback": [
            "\u001b[0;36m  File \u001b[0;32m\"<ipython-input-23-8130e611091d>\"\u001b[0;36m, line \u001b[0;32m1\u001b[0m\n\u001b[0;31m    $class = 1\u001b[0m\n\u001b[0m    ^\u001b[0m\n\u001b[0;31mSyntaxError\u001b[0m\u001b[0;31m:\u001b[0m invalid syntax\n"
          ]
        }
      ]
    },
    {
      "cell_type": "code",
      "source": [
        "2class = 1\n",
        "2class"
      ],
      "metadata": {
        "colab": {
          "base_uri": "https://localhost:8080/",
          "height": 110
        },
        "id": "1E1Qqdy13z-p",
        "outputId": "fcf1e6e0-0646-4d27-86fa-e44ae296c9b3"
      },
      "execution_count": null,
      "outputs": [
        {
          "output_type": "error",
          "ename": "SyntaxError",
          "evalue": "invalid decimal literal (<ipython-input-24-d218a2b8ef61>, line 1)",
          "traceback": [
            "\u001b[0;36m  File \u001b[0;32m\"<ipython-input-24-d218a2b8ef61>\"\u001b[0;36m, line \u001b[0;32m1\u001b[0m\n\u001b[0;31m    2class = 1\u001b[0m\n\u001b[0m    ^\u001b[0m\n\u001b[0;31mSyntaxError\u001b[0m\u001b[0;31m:\u001b[0m invalid decimal literal\n"
          ]
        }
      ]
    },
    {
      "cell_type": "code",
      "source": [
        "first name = \"Tom\"\n",
        "first name\n",
        "# first name => first_name"
      ],
      "metadata": {
        "colab": {
          "base_uri": "https://localhost:8080/",
          "height": 110
        },
        "id": "1fB9gpEJ3kM-",
        "outputId": "7897dabf-face-4604-c909-49e0018eba3a"
      },
      "execution_count": null,
      "outputs": [
        {
          "output_type": "error",
          "ename": "SyntaxError",
          "evalue": "invalid syntax (<ipython-input-25-bfa0530b619f>, line 1)",
          "traceback": [
            "\u001b[0;36m  File \u001b[0;32m\"<ipython-input-25-bfa0530b619f>\"\u001b[0;36m, line \u001b[0;32m1\u001b[0m\n\u001b[0;31m    first name = \"Tom\"\u001b[0m\n\u001b[0m          ^\u001b[0m\n\u001b[0;31mSyntaxError\u001b[0m\u001b[0;31m:\u001b[0m invalid syntax\n"
          ]
        }
      ]
    },
    {
      "cell_type": "code",
      "source": [
        "# snake_case\n",
        "# camelCase\n",
        "# PascalCase\n",
        "# kebab-case"
      ],
      "metadata": {
        "id": "JyADajmjAD6D"
      },
      "execution_count": null,
      "outputs": []
    },
    {
      "cell_type": "markdown",
      "source": [
        "## 주석"
      ],
      "metadata": {
        "id": "Wq7JhHO54bWH"
      }
    },
    {
      "cell_type": "code",
      "source": [
        "# 파이썬 주석\n",
        "a = 1 + 2 # a 는 3으로 저장\n",
        "a"
      ],
      "metadata": {
        "colab": {
          "base_uri": "https://localhost:8080/"
        },
        "id": "a0wU3JYe4dG4",
        "outputId": "fa3dbc0d-1014-4320-c6ea-f9a74129eced"
      },
      "execution_count": null,
      "outputs": [
        {
          "output_type": "execute_result",
          "data": {
            "text/plain": [
              "3"
            ]
          },
          "metadata": {},
          "execution_count": 26
        }
      ]
    },
    {
      "cell_type": "markdown",
      "source": [
        "## 문자열"
      ],
      "metadata": {
        "id": "8symZT-xp0VS"
      }
    },
    {
      "cell_type": "code",
      "source": [
        "print(\"Korea\")\n",
        "print('Korea')"
      ],
      "metadata": {
        "colab": {
          "base_uri": "https://localhost:8080/"
        },
        "id": "IJNThoi0DayI",
        "outputId": "9c9fec19-8a5f-4e2f-f9d4-b4eb04959a7d"
      },
      "execution_count": null,
      "outputs": [
        {
          "output_type": "stream",
          "name": "stdout",
          "text": [
            "Korea\n",
            "Korea\n"
          ]
        }
      ]
    },
    {
      "cell_type": "code",
      "source": [
        "print(\"Hello\", \"Korea\", \"is\", \"beautiful!\")"
      ],
      "metadata": {
        "colab": {
          "base_uri": "https://localhost:8080/"
        },
        "id": "5UfOiv1FDlig",
        "outputId": "71275b92-1632-463b-938b-f9cf1cc810c9"
      },
      "execution_count": null,
      "outputs": [
        {
          "output_type": "stream",
          "name": "stdout",
          "text": [
            "Hello Korea is beautiful!\n"
          ]
        }
      ]
    },
    {
      "cell_type": "code",
      "source": [
        "print(\"안녕\")\n",
        "print('안녕')"
      ],
      "metadata": {
        "colab": {
          "base_uri": "https://localhost:8080/"
        },
        "id": "Yu4BuwHjov0n",
        "outputId": "58c9b18d-3520-441e-9371-e79f2f377519"
      },
      "execution_count": null,
      "outputs": [
        {
          "output_type": "stream",
          "name": "stdout",
          "text": [
            "안녕\n",
            "안녕\n"
          ]
        }
      ]
    },
    {
      "cell_type": "code",
      "source": [
        "print(\"He said \"Hello\"\")\n",
        "# SyntaxError: invalid syntax => 구문 오류 = 코드 실행 전에 발생하는 오류 = 보통 오타"
      ],
      "metadata": {
        "colab": {
          "base_uri": "https://localhost:8080/",
          "height": 110
        },
        "id": "EcsZcQv4EBpc",
        "outputId": "e3449b0e-464f-48dc-a238-6a78df1afdd2"
      },
      "execution_count": null,
      "outputs": [
        {
          "output_type": "error",
          "ename": "SyntaxError",
          "evalue": "invalid syntax. Perhaps you forgot a comma? (<ipython-input-30-f42fb9687825>, line 1)",
          "traceback": [
            "\u001b[0;36m  File \u001b[0;32m\"<ipython-input-30-f42fb9687825>\"\u001b[0;36m, line \u001b[0;32m1\u001b[0m\n\u001b[0;31m    print(\"He said \"Hello\"\")\u001b[0m\n\u001b[0m          ^\u001b[0m\n\u001b[0;31mSyntaxError\u001b[0m\u001b[0;31m:\u001b[0m invalid syntax. Perhaps you forgot a comma?\n"
          ]
        }
      ]
    },
    {
      "cell_type": "code",
      "source": [
        "# 오류 수정\n",
        "print('He said \"Hello\"')\n",
        "print(\"He said 'Hello'\")"
      ],
      "metadata": {
        "colab": {
          "base_uri": "https://localhost:8080/"
        },
        "id": "cqW6UvKXELjQ",
        "outputId": "b5672739-84a8-4aab-81b4-b6b13de35b6e"
      },
      "execution_count": null,
      "outputs": [
        {
          "output_type": "stream",
          "name": "stdout",
          "text": [
            "He said \"Hello\"\n",
            "He said 'Hello'\n"
          ]
        }
      ]
    },
    {
      "cell_type": "markdown",
      "source": [
        "## m => cm 변환 프로그램"
      ],
      "metadata": {
        "id": "CU4k8UwN21iq"
      }
    },
    {
      "cell_type": "code",
      "source": [
        "# 1 m = 100 cm\n",
        "meter = input(\"키(m)를 입력하세요> \")\n",
        "meter = float(meter)\n",
        "height = meter * 100\n",
        "print(meter, \"m 는 cm 로 변환하면 \", height, \"cm 입니다.\")"
      ],
      "metadata": {
        "colab": {
          "base_uri": "https://localhost:8080/"
        },
        "id": "iwYCiedHK5Er",
        "outputId": "7c76d33f-ecec-4996-c666-52f9afea960d"
      },
      "execution_count": null,
      "outputs": [
        {
          "output_type": "stream",
          "name": "stdout",
          "text": [
            "키(m)를 입력하세요> 1.75\n",
            "1.75 m 는 cm 로 변환하면  175.0 cm 입니다.\n"
          ]
        }
      ]
    },
    {
      "cell_type": "markdown",
      "source": [
        "## inch 를 cm 로 변환하는 프로그램"
      ],
      "metadata": {
        "id": "HZ4OYeLMsIlh"
      }
    },
    {
      "cell_type": "code",
      "source": [
        "# 1 inch = 2.54 cm\n",
        "inch = input(\"inch 를 입력하세요> \")\n",
        "inch = float(inch)\n",
        "cm = inch * 2.54\n",
        "print(inch, \"inch 는 cm 로 변환하면 \", cm, \"cm 입니다.\")"
      ],
      "metadata": {
        "colab": {
          "base_uri": "https://localhost:8080/"
        },
        "id": "f-oFYp8EWDqq",
        "outputId": "f1d5f8bf-3163-4da9-c2da-f5ee58c88680"
      },
      "execution_count": null,
      "outputs": [
        {
          "output_type": "stream",
          "name": "stdout",
          "text": [
            "inch 를 입력하세요> 32\n",
            "32.0 inch 는 cm 로 변환하면  81.28 cm 입니다.\n"
          ]
        }
      ]
    },
    {
      "cell_type": "markdown",
      "source": [
        "# 문자열과 함수"
      ],
      "metadata": {
        "id": "9GJKuasmUaz6"
      }
    },
    {
      "cell_type": "markdown",
      "source": [
        "## format"
      ],
      "metadata": {
        "id": "2z-voOEtUcsa"
      }
    },
    {
      "cell_type": "code",
      "execution_count": null,
      "metadata": {
        "colab": {
          "base_uri": "https://localhost:8080/"
        },
        "id": "Mod6evq9Ti48",
        "outputId": "814fd4fb-ccc6-437b-d209-2aa7d01f5927"
      },
      "outputs": [
        {
          "output_type": "stream",
          "name": "stdout",
          "text": [
            "23\n",
            "<class 'str'>\n"
          ]
        }
      ],
      "source": [
        "# 숫자를 문자열로 변환하는 함수\n",
        "str = \"{}\".format(23); print(str); print(type(str))"
      ]
    },
    {
      "cell_type": "code",
      "source": [
        "\"유퀴즈 상금 {} 만원\".format(100)"
      ],
      "metadata": {
        "colab": {
          "base_uri": "https://localhost:8080/",
          "height": 35
        },
        "id": "GN8oS2gjU36x",
        "outputId": "cd277d7f-7838-48a2-b2c2-f4c4c1e622be"
      },
      "execution_count": null,
      "outputs": [
        {
          "output_type": "execute_result",
          "data": {
            "text/plain": [
              "'유퀴즈 상금 100 만원'"
            ],
            "application/vnd.google.colaboratory.intrinsic+json": {
              "type": "string"
            }
          },
          "metadata": {},
          "execution_count": 36
        }
      ]
    },
    {
      "cell_type": "code",
      "source": [
        "str_a = \"{} {}\".format(23, 24); print(str_a); str_b = \"{} {}\".format(23, 24, 25); print(str_b)"
      ],
      "metadata": {
        "colab": {
          "base_uri": "https://localhost:8080/"
        },
        "id": "S8zWJ9b5PJDf",
        "outputId": "eab6ad37-66b6-40eb-ef8b-f1047c539e66"
      },
      "execution_count": null,
      "outputs": [
        {
          "output_type": "stream",
          "name": "stdout",
          "text": [
            "23 24\n",
            "23 24\n"
          ]
        }
      ]
    },
    {
      "cell_type": "code",
      "source": [
        "\"{} {} {}\".format(1,2,3)"
      ],
      "metadata": {
        "colab": {
          "base_uri": "https://localhost:8080/",
          "height": 35
        },
        "id": "k5pbIQpnVIAe",
        "outputId": "a6441838-3a7b-4b51-f5b0-676b9cc9c8c9"
      },
      "execution_count": null,
      "outputs": [
        {
          "output_type": "execute_result",
          "data": {
            "text/plain": [
              "'1 2 3'"
            ],
            "application/vnd.google.colaboratory.intrinsic+json": {
              "type": "string"
            }
          },
          "metadata": {},
          "execution_count": 38
        }
      ]
    },
    {
      "cell_type": "code",
      "source": [
        "\"{} {} {}\".format(1,2)"
      ],
      "metadata": {
        "id": "6jMMeYFYVVXs",
        "colab": {
          "base_uri": "https://localhost:8080/",
          "height": 147
        },
        "outputId": "0ecc1efb-5199-4514-92d3-8bd2f99f7021"
      },
      "execution_count": null,
      "outputs": [
        {
          "output_type": "error",
          "ename": "IndexError",
          "evalue": "Replacement index 2 out of range for positional args tuple",
          "traceback": [
            "\u001b[0;31m---------------------------------------------------------------------------\u001b[0m",
            "\u001b[0;31mIndexError\u001b[0m                                Traceback (most recent call last)",
            "\u001b[0;32m<ipython-input-39-179369eaf130>\u001b[0m in \u001b[0;36m<cell line: 1>\u001b[0;34m()\u001b[0m\n\u001b[0;32m----> 1\u001b[0;31m \u001b[0;34m\"{} {} {}\"\u001b[0m\u001b[0;34m.\u001b[0m\u001b[0mformat\u001b[0m\u001b[0;34m(\u001b[0m\u001b[0;36m1\u001b[0m\u001b[0;34m,\u001b[0m\u001b[0;36m2\u001b[0m\u001b[0;34m)\u001b[0m\u001b[0;34m\u001b[0m\u001b[0;34m\u001b[0m\u001b[0m\n\u001b[0m",
            "\u001b[0;31mIndexError\u001b[0m: Replacement index 2 out of range for positional args tuple"
          ]
        }
      ]
    },
    {
      "cell_type": "code",
      "source": [
        "\"{} {} {}\".format(1,2,3,4)"
      ],
      "metadata": {
        "colab": {
          "base_uri": "https://localhost:8080/",
          "height": 35
        },
        "id": "TUoMwtGHVnQq",
        "outputId": "15eeb37e-1991-4ee5-e0f9-ea36d1f5bba1"
      },
      "execution_count": null,
      "outputs": [
        {
          "output_type": "execute_result",
          "data": {
            "text/plain": [
              "'1 2 3'"
            ],
            "application/vnd.google.colaboratory.intrinsic+json": {
              "type": "string"
            }
          },
          "metadata": {},
          "execution_count": 40
        }
      ]
    },
    {
      "cell_type": "code",
      "source": [
        "\"{}\".format(2.3)"
      ],
      "metadata": {
        "colab": {
          "base_uri": "https://localhost:8080/",
          "height": 35
        },
        "id": "PcuLJJ3tV6KK",
        "outputId": "0da776af-657b-4710-ef7c-8aa7b5400dc2"
      },
      "execution_count": null,
      "outputs": [
        {
          "output_type": "execute_result",
          "data": {
            "text/plain": [
              "'2.3'"
            ],
            "application/vnd.google.colaboratory.intrinsic+json": {
              "type": "string"
            }
          },
          "metadata": {},
          "execution_count": 6
        }
      ]
    },
    {
      "cell_type": "code",
      "source": [
        "\"{} {} {}\".format(1,\"안녕\",True)"
      ],
      "metadata": {
        "colab": {
          "base_uri": "https://localhost:8080/",
          "height": 35
        },
        "id": "RI8QEwWLW8SG",
        "outputId": "4954f685-fd74-42e0-d4fe-238dc4d56b08"
      },
      "execution_count": null,
      "outputs": [
        {
          "output_type": "execute_result",
          "data": {
            "text/plain": [
              "'1 안녕 True'"
            ],
            "application/vnd.google.colaboratory.intrinsic+json": {
              "type": "string"
            }
          },
          "metadata": {},
          "execution_count": 7
        }
      ]
    },
    {
      "cell_type": "markdown",
      "source": [
        "### 정수형"
      ],
      "metadata": {
        "id": "CB7_h1OhXgPT"
      }
    },
    {
      "cell_type": "code",
      "source": [
        "a = \"{:d}\".format(23); b = \"{:5d}\".format(23); c = \"{:05d}\".format(23); d = \"{:05d}\".format(-23)\n",
        "print(a); print(b); print(c); print(d)"
      ],
      "metadata": {
        "colab": {
          "base_uri": "https://localhost:8080/"
        },
        "id": "JgrGEnZBPeq0",
        "outputId": "c1d34feb-d23c-4124-ee43-1784ebae3cd4"
      },
      "execution_count": null,
      "outputs": [
        {
          "output_type": "stream",
          "name": "stdout",
          "text": [
            "23\n",
            "   23\n",
            "00023\n",
            "-0023\n"
          ]
        }
      ]
    },
    {
      "cell_type": "code",
      "source": [
        "a = \"{:d}\".format(23) # 정수\n",
        "b = \"{:5d}\".format(23) # 자리수 & 남은 자리를 빈칸으로 채움\n",
        "c = \"{:05d}\".format(23) # 자리수 & 남은 자리를 0을 채움\n",
        "d = \"{:05d}\".format(-23) # 자리수 & 한자리 - 기호 & 남은 자리를 0을 채움\n",
        "print(a)\n",
        "print(b)\n",
        "print(c)\n",
        "print(d)"
      ],
      "metadata": {
        "id": "V3EVxnbVXJAi",
        "colab": {
          "base_uri": "https://localhost:8080/"
        },
        "outputId": "561e903e-777a-4466-b693-e8c5cf91df66"
      },
      "execution_count": null,
      "outputs": [
        {
          "output_type": "stream",
          "name": "stdout",
          "text": [
            "23\n",
            "   23\n",
            "00023\n",
            "-0023\n"
          ]
        }
      ]
    },
    {
      "cell_type": "code",
      "source": [
        "a = \"{:+d}\".format(23); b = \"{:+d}\".format(-23); c = \"{: d}\".format(23); d = \"{: d}\".format(-23)\n",
        "print(a); print(b); print(c); print(d)"
      ],
      "metadata": {
        "colab": {
          "base_uri": "https://localhost:8080/"
        },
        "id": "Y1HWoIfLP2jR",
        "outputId": "fab585f0-7d56-4f68-e392-8b9097742c38"
      },
      "execution_count": null,
      "outputs": [
        {
          "output_type": "stream",
          "name": "stdout",
          "text": [
            "+23\n",
            "-23\n",
            " 23\n",
            "-23\n"
          ]
        }
      ]
    },
    {
      "cell_type": "code",
      "source": [
        "a = \"{:+d}\".format(23) # 양수 기호와 함께 출력\n",
        "b = \"{:+d}\".format(-23) # 음수, 무조건 - 기호\n",
        "c = \"{: d}\".format(23) # 양수 기호를 생략해서 출력\n",
        "d = \"{: d}\".format(-23) # 음수, 무조건 - 기호\n",
        "print(a)\n",
        "print(b)\n",
        "print(c)\n",
        "print(d)"
      ],
      "metadata": {
        "id": "MwzJQXeiYhIZ",
        "colab": {
          "base_uri": "https://localhost:8080/"
        },
        "outputId": "3ede7755-bc14-497a-e3d4-3dae45557bdd"
      },
      "execution_count": null,
      "outputs": [
        {
          "output_type": "stream",
          "name": "stdout",
          "text": [
            "+23\n",
            "-23\n",
            " 23\n",
            "-23\n"
          ]
        }
      ]
    },
    {
      "cell_type": "code",
      "source": [
        "a = \"{:+5d}\".format(23) # 자리수 & 숫자 바로 앞에 기호\n",
        "b = \"{:+5d}\".format(-23) #\n",
        "c = \"{:=+5d}\".format(23) # 자리수 & 맨 앞에 기호 & 남아있는 자리를 빈칸으로 채움\n",
        "d = \"{:=+5d}\".format(-23) #\n",
        "e = \"{:=+05d}\".format(23) # 자리수 & 맨 앞에 기호 & 남아있는 자리를 0으로 채움\n",
        "f = \"{:=+05d}\".format(-23) #\n",
        "print(a);print(b);print(c);print(d);print(e);print(f)"
      ],
      "metadata": {
        "colab": {
          "base_uri": "https://localhost:8080/"
        },
        "id": "NHwElBrwerf7",
        "outputId": "ed548030-fd28-416a-9e2d-4575804ebac7"
      },
      "execution_count": null,
      "outputs": [
        {
          "output_type": "stream",
          "name": "stdout",
          "text": [
            "  +23\n",
            "  -23\n",
            "+  23\n",
            "-  23\n",
            "+0023\n",
            "-0023\n"
          ]
        }
      ]
    },
    {
      "cell_type": "code",
      "source": [
        "\"{:+05d}\".format(23) # = 사용할 필요 없음"
      ],
      "metadata": {
        "id": "FtdXKSJ2sIh-",
        "colab": {
          "base_uri": "https://localhost:8080/",
          "height": 35
        },
        "outputId": "40377940-6b72-40ff-f7d5-073a318adcf1"
      },
      "execution_count": null,
      "outputs": [
        {
          "output_type": "execute_result",
          "data": {
            "text/plain": [
              "'+0023'"
            ],
            "application/vnd.google.colaboratory.intrinsic+json": {
              "type": "string"
            }
          },
          "metadata": {},
          "execution_count": 46
        }
      ]
    },
    {
      "cell_type": "code",
      "source": [
        "\"{:=+05d}\".format(-23) #"
      ],
      "metadata": {
        "colab": {
          "base_uri": "https://localhost:8080/",
          "height": 35
        },
        "id": "BjkJbGLKQ9NI",
        "outputId": "07f24e11-1a5c-49f1-da23-01f1380b9865"
      },
      "execution_count": null,
      "outputs": [
        {
          "output_type": "execute_result",
          "data": {
            "text/plain": [
              "'-0023'"
            ],
            "application/vnd.google.colaboratory.intrinsic+json": {
              "type": "string"
            }
          },
          "metadata": {},
          "execution_count": 47
        }
      ]
    },
    {
      "cell_type": "markdown",
      "source": [
        "### 실수형"
      ],
      "metadata": {
        "id": "yALQuNpAhM8u"
      }
    },
    {
      "cell_type": "code",
      "source": [
        "a = \"{:f}\".format(23.45) # 실수\n",
        "b = \"{:15f}\".format(23.45) # 자리수 & 남은 자리를 빈칸으로 채움\n",
        "c = \"{:+15f}\".format(23.45) # 자리수 & 한자리 + 기호 & 남은 자리를 빈칸으로 채움\n",
        "d = \"{:+015f}\".format(-23.45) # 자리수 & 한자리 - 기호 맨앞에 & 남은 자리를 0을 채움\n",
        "print(a);print(b);print(c);print(d)"
      ],
      "metadata": {
        "id": "7f6p-LWSfqDs",
        "colab": {
          "base_uri": "https://localhost:8080/"
        },
        "outputId": "8358d7ac-b2dc-4503-9ec6-15063b107ed0"
      },
      "execution_count": null,
      "outputs": [
        {
          "output_type": "stream",
          "name": "stdout",
          "text": [
            "23.450000\n",
            "      23.450000\n",
            "     +23.450000\n",
            "-0000023.450000\n"
          ]
        }
      ]
    },
    {
      "cell_type": "code",
      "source": [
        "\"{:=+015f}\".format(-23.45) # = 사용할 필요 없음"
      ],
      "metadata": {
        "id": "UQmlmiuTsbHN",
        "colab": {
          "base_uri": "https://localhost:8080/",
          "height": 35
        },
        "outputId": "cb1b74c1-1bad-4433-d288-609139d79812"
      },
      "execution_count": null,
      "outputs": [
        {
          "output_type": "execute_result",
          "data": {
            "text/plain": [
              "'-0000023.450000'"
            ],
            "application/vnd.google.colaboratory.intrinsic+json": {
              "type": "string"
            }
          },
          "metadata": {},
          "execution_count": 49
        }
      ]
    },
    {
      "cell_type": "code",
      "source": [
        "a = \"{:15.3f}\".format(23.456)\n",
        "b = \"{:15.2f}\".format(23.456)\n",
        "c = \"{:15.1f}\".format(23.456)\n",
        "d = \"{:15.1f}\".format(23.45) # 5 보다 커야 반올림\n",
        "e = \"{:15.1f}\".format(23.46)\n",
        "print(a);print(b);print(c);print(d);print(e)"
      ],
      "metadata": {
        "colab": {
          "base_uri": "https://localhost:8080/"
        },
        "id": "OyrNwk-Dh1dR",
        "outputId": "c8179519-2bd3-4cb9-e0de-667317b48aec"
      },
      "execution_count": null,
      "outputs": [
        {
          "output_type": "stream",
          "name": "stdout",
          "text": [
            "         23.456\n",
            "          23.46\n",
            "           23.5\n",
            "           23.4\n",
            "           23.5\n"
          ]
        }
      ]
    },
    {
      "cell_type": "markdown",
      "source": [
        "### 의미가 없는 소수점 제거"
      ],
      "metadata": {
        "id": "fsfPLLFcknC2"
      }
    },
    {
      "cell_type": "code",
      "source": [
        "a = \"{:g}\".format(23.450)\n",
        "b = \"{:g}\".format(23.40)\n",
        "c = \"{:g}\".format(23.0)\n",
        "print(a);print(b);print(c)"
      ],
      "metadata": {
        "colab": {
          "base_uri": "https://localhost:8080/"
        },
        "id": "3jEqgNtyi13w",
        "outputId": "26f0f612-62b6-4043-fddc-3af13791523e"
      },
      "execution_count": null,
      "outputs": [
        {
          "output_type": "stream",
          "name": "stdout",
          "text": [
            "23.45\n",
            "23.4\n",
            "23\n"
          ]
        }
      ]
    },
    {
      "cell_type": "markdown",
      "source": [
        "### 파이썬 숫자 표현 방식"
      ],
      "metadata": {
        "id": "FFcMXN_y7-ux"
      }
    },
    {
      "cell_type": "markdown",
      "source": [
        "파이썬에서는 반올림할 때 숫자가 정확하게 똑같이 반으로 쪼개지면 짝수의 정수로 값을 반환하는 특성을 가지고 있음 = 설계가 그렇게 되어 있음"
      ],
      "metadata": {
        "id": "lIkXsZly8Dty"
      }
    },
    {
      "cell_type": "code",
      "source": [
        "# 정수 2 와 3 사이의 짝수 2 를 반환\n",
        "\"{:15.0f}\".format(2.5)"
      ],
      "metadata": {
        "colab": {
          "base_uri": "https://localhost:8080/",
          "height": 35
        },
        "id": "8SArX9KLH6B5",
        "outputId": "1962c6e1-6858-401e-c501-446775b96871"
      },
      "execution_count": null,
      "outputs": [
        {
          "output_type": "execute_result",
          "data": {
            "text/plain": [
              "'              2'"
            ],
            "application/vnd.google.colaboratory.intrinsic+json": {
              "type": "string"
            }
          },
          "metadata": {},
          "execution_count": 52
        }
      ]
    },
    {
      "cell_type": "code",
      "source": [
        "# 정수 3 과 4 사이의 짝수 4 를 반환\n",
        "\"{:15.0f}\".format(3.5)"
      ],
      "metadata": {
        "colab": {
          "base_uri": "https://localhost:8080/",
          "height": 35
        },
        "id": "lSlq88JnICDx",
        "outputId": "392da161-d1c0-47e0-c728-242c776abf51"
      },
      "execution_count": null,
      "outputs": [
        {
          "output_type": "execute_result",
          "data": {
            "text/plain": [
              "'              4'"
            ],
            "application/vnd.google.colaboratory.intrinsic+json": {
              "type": "string"
            }
          },
          "metadata": {},
          "execution_count": 53
        }
      ]
    },
    {
      "cell_type": "code",
      "source": [
        "# 정수 4 와 5 사이의 짝수 4 를 반환\n",
        "\"{:15.0f}\".format(4.5)"
      ],
      "metadata": {
        "colab": {
          "base_uri": "https://localhost:8080/",
          "height": 35
        },
        "id": "8bvPSGK0I_uI",
        "outputId": "411dcffe-62b4-4aab-8fcd-79ef33e014a9"
      },
      "execution_count": null,
      "outputs": [
        {
          "output_type": "execute_result",
          "data": {
            "text/plain": [
              "'              4'"
            ],
            "application/vnd.google.colaboratory.intrinsic+json": {
              "type": "string"
            }
          },
          "metadata": {},
          "execution_count": 54
        }
      ]
    },
    {
      "cell_type": "code",
      "source": [
        "# 그러나 일반적으로 똑같이 반으로 쪼개지는 실수보다\n",
        "# 0보다 큰 수를 가지는 실수를 사용하는 경우가 많기 때문에\n",
        "# 걱정하지 않아도 됨\n",
        "# 2.5 는 똑같이 반으로 쪼개지는 수이지만\n",
        "# 2.5123 은 한쪽이 0.5123 을, 다른 한쪽은 0.4877 를 가짐\n",
        "\"{:15.0f}\".format(2.5123)"
      ],
      "metadata": {
        "colab": {
          "base_uri": "https://localhost:8080/",
          "height": 35
        },
        "outputId": "ec61ccef-7a73-4e5d-e3d8-3204c4437e85",
        "id": "t86IqWViIqmf"
      },
      "execution_count": null,
      "outputs": [
        {
          "output_type": "execute_result",
          "data": {
            "text/plain": [
              "'              3'"
            ],
            "application/vnd.google.colaboratory.intrinsic+json": {
              "type": "string"
            }
          },
          "metadata": {},
          "execution_count": 55
        }
      ]
    },
    {
      "cell_type": "code",
      "source": [
        "1-0.5123"
      ],
      "metadata": {
        "colab": {
          "base_uri": "https://localhost:8080/"
        },
        "id": "-pnmGv-48yz1",
        "outputId": "1950325b-56d8-4964-e7e3-e5a79eec2932"
      },
      "execution_count": null,
      "outputs": [
        {
          "output_type": "execute_result",
          "data": {
            "text/plain": [
              "0.4877"
            ]
          },
          "metadata": {},
          "execution_count": 56
        }
      ]
    },
    {
      "cell_type": "code",
      "source": [
        "# 3.5 는 똑같이 반으로 쪼개지는 수이지만\n",
        "# 3.5111 은 한쪽이 0.5111 을, 다른 한쪽은 0.4889 를 가짐\n",
        "\"{:15.0f}\".format(3.51111)"
      ],
      "metadata": {
        "colab": {
          "base_uri": "https://localhost:8080/",
          "height": 35
        },
        "outputId": "d137435b-5fca-4c87-9d30-2b8d33389cc7",
        "id": "0tMIfXZ8Iqmg"
      },
      "execution_count": null,
      "outputs": [
        {
          "output_type": "execute_result",
          "data": {
            "text/plain": [
              "'              4'"
            ],
            "application/vnd.google.colaboratory.intrinsic+json": {
              "type": "string"
            }
          },
          "metadata": {},
          "execution_count": 57
        }
      ]
    },
    {
      "cell_type": "code",
      "source": [
        "1-0.5111"
      ],
      "metadata": {
        "colab": {
          "base_uri": "https://localhost:8080/"
        },
        "id": "wjILGyHo9DEq",
        "outputId": "e6bd09c0-3a89-4ebf-8c72-ce528a4b7909"
      },
      "execution_count": null,
      "outputs": [
        {
          "output_type": "execute_result",
          "data": {
            "text/plain": [
              "0.4889"
            ]
          },
          "metadata": {},
          "execution_count": 58
        }
      ]
    },
    {
      "cell_type": "markdown",
      "source": [
        "## f 문자열 (참고만 할 것)"
      ],
      "metadata": {
        "id": "36euFgoOmdx8"
      }
    },
    {
      "cell_type": "code",
      "source": [
        "\"{}\".format(23)"
      ],
      "metadata": {
        "colab": {
          "base_uri": "https://localhost:8080/",
          "height": 35
        },
        "id": "yhjCzQ5-lJ0d",
        "outputId": "0c059694-63a7-4a1e-89ce-1a6be568d4f1"
      },
      "execution_count": null,
      "outputs": [
        {
          "output_type": "execute_result",
          "data": {
            "text/plain": [
              "'23'"
            ],
            "application/vnd.google.colaboratory.intrinsic+json": {
              "type": "string"
            }
          },
          "metadata": {},
          "execution_count": 59
        }
      ]
    },
    {
      "cell_type": "code",
      "source": [
        "f\"{23}\""
      ],
      "metadata": {
        "colab": {
          "base_uri": "https://localhost:8080/",
          "height": 35
        },
        "id": "pkqN-jYUmp0-",
        "outputId": "903d4adf-09c5-4362-a3ec-aa03aaf28649"
      },
      "execution_count": null,
      "outputs": [
        {
          "output_type": "execute_result",
          "data": {
            "text/plain": [
              "'23'"
            ],
            "application/vnd.google.colaboratory.intrinsic+json": {
              "type": "string"
            }
          },
          "metadata": {},
          "execution_count": 60
        }
      ]
    },
    {
      "cell_type": "code",
      "source": [
        "\"{}\".format(2 + 3)"
      ],
      "metadata": {
        "colab": {
          "base_uri": "https://localhost:8080/",
          "height": 35
        },
        "id": "dMdDr9J3muJA",
        "outputId": "d605704b-96df-430a-fcde-3f0c4af14ea5"
      },
      "execution_count": null,
      "outputs": [
        {
          "output_type": "execute_result",
          "data": {
            "text/plain": [
              "'5'"
            ],
            "application/vnd.google.colaboratory.intrinsic+json": {
              "type": "string"
            }
          },
          "metadata": {},
          "execution_count": 61
        }
      ]
    },
    {
      "cell_type": "code",
      "source": [
        "f\"{2+3}\""
      ],
      "metadata": {
        "colab": {
          "base_uri": "https://localhost:8080/",
          "height": 35
        },
        "id": "H57yH2eem-31",
        "outputId": "0265a92a-80e5-4a12-fff4-91d266473233"
      },
      "execution_count": null,
      "outputs": [
        {
          "output_type": "execute_result",
          "data": {
            "text/plain": [
              "'5'"
            ],
            "application/vnd.google.colaboratory.intrinsic+json": {
              "type": "string"
            }
          },
          "metadata": {},
          "execution_count": 62
        }
      ]
    },
    {
      "cell_type": "code",
      "source": [
        "# format() 함수 사용하는 것이 더 좋은 경우\n",
        "# 1) 문자열이 많을 때\n",
        "mc = \"유재석\"\n",
        "reward = 100\n",
        "\"\"\"\\\n",
        "유퀴즈 프로그램은 다양한 사람을 만나서 이야기하는 프로이다.\n",
        "엠씨는 {}이고, 퀴즈를 맞추면 상금 {} 만원을 준다.\\\n",
        "\"\"\".format(mc, reward)"
      ],
      "metadata": {
        "colab": {
          "base_uri": "https://localhost:8080/",
          "height": 35
        },
        "id": "E0TC1nfonDW2",
        "outputId": "831f70d0-2b5b-47d2-8a63-79db95c45965"
      },
      "execution_count": null,
      "outputs": [
        {
          "output_type": "execute_result",
          "data": {
            "text/plain": [
              "'유퀴즈 프로그램은 다양한 사람을 만나서 이야기하는 프로이다.\\n엠씨는 유재석이고, 퀴즈를 맞추면 상금 100 만원을 준다.'"
            ],
            "application/vnd.google.colaboratory.intrinsic+json": {
              "type": "string"
            }
          },
          "metadata": {},
          "execution_count": 63
        }
      ]
    },
    {
      "cell_type": "code",
      "source": [
        "mc = \"유재석\"\n",
        "reward = 100\n",
        "f\"\"\"\\\n",
        "유퀴즈 프로그램은 다양한 사람을 만나서 이야기하는 프로이다.\n",
        "엠씨는 {mc}이고, 퀴즈를 맞추면 상금 {reward} 만원을 준다.\\\n",
        "\"\"\""
      ],
      "metadata": {
        "colab": {
          "base_uri": "https://localhost:8080/",
          "height": 35
        },
        "id": "FGmvQOIFn8sA",
        "outputId": "0a64426c-6693-4e20-ec20-bf5c48373158"
      },
      "execution_count": null,
      "outputs": [
        {
          "output_type": "execute_result",
          "data": {
            "text/plain": [
              "'유퀴즈 프로그램은 다양한 사람을 만나서 이야기하는 프로이다.\\n엠씨는 유재석이고, 퀴즈를 맞추면 상금 100 만원을 준다.'"
            ],
            "application/vnd.google.colaboratory.intrinsic+json": {
              "type": "string"
            }
          },
          "metadata": {},
          "execution_count": 22
        }
      ]
    },
    {
      "cell_type": "code",
      "source": [
        "# 2) 여러 값을 리스트 형태로 사용할 경우\n",
        "# 전개연산자\n",
        "data = [\"강백호\", 17, \"M\", \"난 천재니까\"]\n",
        "\"\"\"\\\n",
        "이름: {},\n",
        "나이: {},\n",
        "성별: {},\n",
        "좌우명: {}\\\n",
        "\"\"\".format(*data)"
      ],
      "metadata": {
        "colab": {
          "base_uri": "https://localhost:8080/",
          "height": 35
        },
        "id": "kzjSN2JysnQN",
        "outputId": "8cde1eaa-963b-44f9-fc52-cda010d51400"
      },
      "execution_count": null,
      "outputs": [
        {
          "output_type": "execute_result",
          "data": {
            "text/plain": [
              "'이름: 강백호,\\n나이: 17,\\n성별: M,\\n좌우명: 난 천재니까'"
            ],
            "application/vnd.google.colaboratory.intrinsic+json": {
              "type": "string"
            }
          },
          "metadata": {},
          "execution_count": 64
        }
      ]
    },
    {
      "cell_type": "code",
      "source": [
        "data = [\"강백호\", 17, \"M\", \"난 천재니까\"]\n",
        "f\"\"\"\\\n",
        "이름: {data[0]},\n",
        "나이: {data[1]},\n",
        "성별: {data[2]},\n",
        "좌우명: {data[3]}\\\n",
        "\"\"\""
      ],
      "metadata": {
        "colab": {
          "base_uri": "https://localhost:8080/",
          "height": 35
        },
        "id": "wbLQM98DuFt-",
        "outputId": "9c60427f-eece-4973-b14e-76b051e79cdc"
      },
      "execution_count": null,
      "outputs": [
        {
          "output_type": "execute_result",
          "data": {
            "text/plain": [
              "'이름: 강백호,\\n나이: 17,\\n성별: M,\\n좌우명: 난 천재니까'"
            ],
            "application/vnd.google.colaboratory.intrinsic+json": {
              "type": "string"
            }
          },
          "metadata": {},
          "execution_count": 27
        }
      ]
    },
    {
      "cell_type": "markdown",
      "source": [
        "## 공백 제거"
      ],
      "metadata": {
        "id": "Ybm6PBv7xDke"
      }
    },
    {
      "cell_type": "code",
      "source": [
        "# 양쪽 = both = left & right = 앞 & 뒤\n",
        "string = \"            안녕              \"\n",
        "string.strip()"
      ],
      "metadata": {
        "id": "xvedHbm3wTig",
        "colab": {
          "base_uri": "https://localhost:8080/",
          "height": 35
        },
        "outputId": "ee365011-d368-4449-b4e5-3ba2aea109f2"
      },
      "execution_count": null,
      "outputs": [
        {
          "output_type": "execute_result",
          "data": {
            "text/plain": [
              "'안녕'"
            ],
            "application/vnd.google.colaboratory.intrinsic+json": {
              "type": "string"
            }
          },
          "metadata": {},
          "execution_count": 65
        }
      ]
    },
    {
      "cell_type": "code",
      "source": [
        "# 왼쪽 = left = 앞\n",
        "string = \"            안녕              \"\n",
        "string.lstrip()"
      ],
      "metadata": {
        "id": "QiwRNT2nxW2w",
        "colab": {
          "base_uri": "https://localhost:8080/",
          "height": 35
        },
        "outputId": "5fb58f3e-a51a-4383-c9d4-4224cc5eb1b6"
      },
      "execution_count": null,
      "outputs": [
        {
          "output_type": "execute_result",
          "data": {
            "text/plain": [
              "'안녕              '"
            ],
            "application/vnd.google.colaboratory.intrinsic+json": {
              "type": "string"
            }
          },
          "metadata": {},
          "execution_count": 66
        }
      ]
    },
    {
      "cell_type": "code",
      "source": [
        "# 오른쪽 = right = 뒤\n",
        "string = \"            안녕              \"\n",
        "string.rstrip()"
      ],
      "metadata": {
        "id": "YRYuUPhnxmR-",
        "colab": {
          "base_uri": "https://localhost:8080/",
          "height": 35
        },
        "outputId": "731a24f7-696a-4a5f-8685-64e60f202822"
      },
      "execution_count": null,
      "outputs": [
        {
          "output_type": "execute_result",
          "data": {
            "text/plain": [
              "'            안녕'"
            ],
            "application/vnd.google.colaboratory.intrinsic+json": {
              "type": "string"
            }
          },
          "metadata": {},
          "execution_count": 67
        }
      ]
    },
    {
      "cell_type": "markdown",
      "source": [
        "## 현재 날짜 시간"
      ],
      "metadata": {
        "id": "RLnClmPEX_Oj"
      }
    },
    {
      "cell_type": "code",
      "source": [
        "import datetime\n",
        "now = datetime.datetime.now()\n",
        "print(now)\n",
        "print(now.year)\n",
        "print(now.month)\n",
        "print(now.day)\n",
        "print(now.hour)\n",
        "print(now.minute)\n",
        "print(now.second)\n",
        "print(now.weekday())\n",
        "# 0: 월, 1: 화, 2: 수, 3: 목, 4: 금, 5: 토, 6: 일"
      ],
      "metadata": {
        "id": "fujNgZszYCQD",
        "colab": {
          "base_uri": "https://localhost:8080/"
        },
        "outputId": "9929df7d-f7a8-430f-accb-bf9e92404423"
      },
      "execution_count": null,
      "outputs": [
        {
          "output_type": "stream",
          "name": "stdout",
          "text": [
            "2024-12-05 02:15:29.168002\n",
            "2024\n",
            "12\n",
            "5\n",
            "2\n",
            "15\n",
            "29\n",
            "3\n"
          ]
        }
      ]
    },
    {
      "cell_type": "code",
      "source": [
        "import datetime\n",
        "now = datetime.datetime.now()\n",
        "\"{}년 {}월 {}일 {}시 {}분 {}초입니다.\".format(now.year, now.month, now.day,\n",
        "                                     now.hour, now.minute, now.second)"
      ],
      "metadata": {
        "colab": {
          "base_uri": "https://localhost:8080/",
          "height": 35
        },
        "id": "7s-N_abCZRf8",
        "outputId": "ff20fae9-29a8-4dc2-ee3c-9577edd02928"
      },
      "execution_count": null,
      "outputs": [
        {
          "output_type": "execute_result",
          "data": {
            "text/plain": [
              "'2024년 12월 5일 2시 15분 29초입니다.'"
            ],
            "application/vnd.google.colaboratory.intrinsic+json": {
              "type": "string"
            }
          },
          "metadata": {},
          "execution_count": 69
        }
      ]
    },
    {
      "cell_type": "code",
      "source": [
        "# 계절을 알려주는 프로그램\n",
        "import datetime\n",
        "now = datetime.datetime.now()\n",
        "if 3 <= now.month <= 5:\n",
        "  print(\"와 봄이야\")\n",
        "if 6 <= now.month <= 8:\n",
        "  print(\"야 여름이다\")\n",
        "if 9 <= now.month <= 11:\n",
        "  print(\"고독한 가을이야\")\n",
        "if now.month == 12 or 1 <= now.month <= 2:\n",
        "  print(\"겨울의 왕국\")"
      ],
      "metadata": {
        "colab": {
          "base_uri": "https://localhost:8080/"
        },
        "id": "Bx1qk761ZOAk",
        "outputId": "050a1d87-2b7e-4b8e-d3ea-e9b697840454"
      },
      "execution_count": null,
      "outputs": [
        {
          "output_type": "stream",
          "name": "stdout",
          "text": [
            "겨울의 왕국\n"
          ]
        }
      ]
    },
    {
      "cell_type": "code",
      "source": [
        "print(now)"
      ],
      "metadata": {
        "colab": {
          "base_uri": "https://localhost:8080/"
        },
        "id": "h0Jm6kUWdkOc",
        "outputId": "c774dd8a-abc6-41fe-c7e3-7b2ef331eb5a"
      },
      "execution_count": null,
      "outputs": [
        {
          "output_type": "stream",
          "name": "stdout",
          "text": [
            "2024-12-05 02:15:29.620589\n"
          ]
        }
      ]
    },
    {
      "cell_type": "code",
      "source": [
        "# 오전 오후를 구별하는 프로그램\n",
        "import datetime\n",
        "now = datetime.datetime.now()\n",
        "korea_hour = now.hour+9\n",
        "if korea_hour < 12:\n",
        "  print(\"현재 오전 {}시입니다. ㅠㅠ\".format(korea_hour))\n",
        "if korea_hour >= 12:\n",
        "  print(\"현재 오후 {}시입니다. ^^\".format(korea_hour))"
      ],
      "metadata": {
        "colab": {
          "base_uri": "https://localhost:8080/"
        },
        "id": "3kzaeDLoYXXA",
        "outputId": "5100214e-b8ed-4c52-b58d-69ca43099c25"
      },
      "execution_count": null,
      "outputs": [
        {
          "output_type": "stream",
          "name": "stdout",
          "text": [
            "현재 오전 11시입니다. ㅠㅠ\n"
          ]
        }
      ]
    },
    {
      "cell_type": "markdown",
      "source": [
        "## if ~ elif ~ else 조건문"
      ],
      "metadata": {
        "id": "iBNZ3oeynThb"
      }
    },
    {
      "cell_type": "code",
      "source": [
        "# 계절을 알려주는 프로그램\n",
        "import datetime\n",
        "now = datetime.datetime.now()\n",
        "if 3 <= now.month <= 5:\n",
        "  print(\"와 봄이야\")\n",
        "elif 6 <= now.month <= 8:\n",
        "  print(\"야 여름이다\")\n",
        "elif 9 <= now.month <= 11:\n",
        "  print(\"고독한 가을이야\")\n",
        "else:\n",
        "  print(\"겨울의 왕국\")"
      ],
      "metadata": {
        "colab": {
          "base_uri": "https://localhost:8080/"
        },
        "id": "3HvTp0DlmZyT",
        "outputId": "fd915581-32a6-494b-d580-cc033199495c"
      },
      "execution_count": null,
      "outputs": [
        {
          "output_type": "stream",
          "name": "stdout",
          "text": [
            "겨울의 왕국\n"
          ]
        }
      ]
    },
    {
      "cell_type": "code",
      "source": [
        "# 학점을 알려주는 프로그램\n",
        "# A: 3.5~4.5\n",
        "# B: 2.5~3.5\n",
        "# C: 1.5~2.5\n",
        "# D: 0~1.5\n",
        "# F: 0\n",
        "score = float(input(\"학점을 입력하세요> \"))\n",
        "if 3.5 <= score <= 4.5:\n",
        "  print(\"당신의 학점은 A입니다.\")\n",
        "elif 2.5 <= score < 3.5:\n",
        "  print(\"당신의 학점은 B입니다.\")\n",
        "elif 1.5 <= score < 2.5:\n",
        "  print(\"당신의 학점은 C입니다.\")\n",
        "elif 0 < score < 1.5:\n",
        "  print(\"당신의 학점은 D입니다.\")\n",
        "else:\n",
        "  print(\"당신의 학점은 F입니다.\")"
      ],
      "metadata": {
        "colab": {
          "base_uri": "https://localhost:8080/"
        },
        "id": "OyR4IOWunq45",
        "outputId": "47c5b3d0-d884-4c33-8788-8424945530e1"
      },
      "execution_count": null,
      "outputs": [
        {
          "output_type": "stream",
          "name": "stdout",
          "text": [
            "학점을 입력하세요> 3.0\n",
            "당신의 학점은 B입니다.\n"
          ]
        }
      ]
    },
    {
      "cell_type": "code",
      "source": [
        "score = float(input(\"학점을 입력하세요> \"))\n",
        "if 3.5 <= score <= 4.5:\n",
        "  print(\"당신의 학점은 A입니다.\")\n",
        "elif 2.5 <= score:\n",
        "  print(\"당신의 학점은 B입니다.\")\n",
        "elif 1.5 <= score:\n",
        "  print(\"당신의 학점은 C입니다.\")\n",
        "elif 0 < score:\n",
        "  print(\"당신의 학점은 D입니다.\")\n",
        "else:\n",
        "  print(\"당신의 학점은 F입니다.\")"
      ],
      "metadata": {
        "colab": {
          "base_uri": "https://localhost:8080/"
        },
        "id": "nSnwI413rTsF",
        "outputId": "00478ebe-a13e-4921-ef43-6c43af1ec4f9"
      },
      "execution_count": null,
      "outputs": [
        {
          "output_type": "stream",
          "name": "stdout",
          "text": [
            "학점을 입력하세요> 3.0\n",
            "당신의 학점은 B입니다.\n"
          ]
        }
      ]
    },
    {
      "cell_type": "markdown",
      "source": [
        "## 조건문에 들어가면 False 로 바뀌는 값"
      ],
      "metadata": {
        "id": "TVHPFE3EstTe"
      }
    },
    {
      "cell_type": "code",
      "source": [
        "if None:\n",
        "  print(\"None 값은 현재 True입니다.\")\n",
        "else:\n",
        "  print(\"None 값은 현재 False입니다.\")"
      ],
      "metadata": {
        "colab": {
          "base_uri": "https://localhost:8080/"
        },
        "id": "5sxD2moUsxoo",
        "outputId": "6f49a55c-036b-4d18-d218-162366f61b03"
      },
      "execution_count": null,
      "outputs": [
        {
          "output_type": "stream",
          "name": "stdout",
          "text": [
            "None 값은 현재 False입니다.\n"
          ]
        }
      ]
    },
    {
      "cell_type": "code",
      "source": [
        "if 0:\n",
        "  print(\"0 값은 현재 True입니다.\")\n",
        "else:\n",
        "  print(\"0 값은 현재 False입니다.\")"
      ],
      "metadata": {
        "colab": {
          "base_uri": "https://localhost:8080/"
        },
        "id": "2a1LUCKltRDg",
        "outputId": "d2cac352-5222-41c4-d7c0-1e229ec5cdca"
      },
      "execution_count": null,
      "outputs": [
        {
          "output_type": "stream",
          "name": "stdout",
          "text": [
            "0 값은 현재 False입니다.\n"
          ]
        }
      ]
    },
    {
      "cell_type": "code",
      "source": [
        "if []:\n",
        "  print(\"리스트 값은 현재 True입니다.\")\n",
        "else:\n",
        "  print(\"리스트 값은 현재 False입니다.\")"
      ],
      "metadata": {
        "colab": {
          "base_uri": "https://localhost:8080/"
        },
        "id": "HH6EKY8dtfNK",
        "outputId": "19fff1fd-e14c-434e-9ffa-c2b9e75ad1ee"
      },
      "execution_count": null,
      "outputs": [
        {
          "output_type": "stream",
          "name": "stdout",
          "text": [
            "리스트 값은 현재 False입니다.\n"
          ]
        }
      ]
    },
    {
      "cell_type": "code",
      "source": [
        "if 1:\n",
        "  print(\"1 값은 현재 True입니다.\")\n",
        "else:\n",
        "  print(\"1 값은 현재 False입니다.\")"
      ],
      "metadata": {
        "colab": {
          "base_uri": "https://localhost:8080/"
        },
        "id": "k3i98FlHttIB",
        "outputId": "3229b143-932a-4152-8b2a-ae2e3e2cedd6"
      },
      "execution_count": null,
      "outputs": [
        {
          "output_type": "stream",
          "name": "stdout",
          "text": [
            "1 값은 현재 True입니다.\n"
          ]
        }
      ]
    },
    {
      "cell_type": "markdown",
      "source": [
        "## pass 키워드"
      ],
      "metadata": {
        "id": "PHUzb-xdxPUf"
      }
    },
    {
      "cell_type": "code",
      "source": [
        "if 4 % 2 == 0:\n",
        "print(\"짝수\")"
      ],
      "metadata": {
        "colab": {
          "base_uri": "https://localhost:8080/",
          "height": 110
        },
        "id": "XqweCLWpgY9D",
        "outputId": "11697ac8-b5f1-4db9-fb25-7edcc56ed7ec"
      },
      "execution_count": null,
      "outputs": [
        {
          "output_type": "error",
          "ename": "IndentationError",
          "evalue": "expected an indented block after 'if' statement on line 1 (<ipython-input-84-f3ef2f22c11e>, line 2)",
          "traceback": [
            "\u001b[0;36m  File \u001b[0;32m\"<ipython-input-84-f3ef2f22c11e>\"\u001b[0;36m, line \u001b[0;32m2\u001b[0m\n\u001b[0;31m    print(\"짝수\")\u001b[0m\n\u001b[0m    ^\u001b[0m\n\u001b[0;31mIndentationError\u001b[0m\u001b[0;31m:\u001b[0m expected an indented block after 'if' statement on line 1\n"
          ]
        }
      ]
    },
    {
      "cell_type": "code",
      "source": [
        "if 4 % 2 == 0:\n",
        "  print(\"짝수\")"
      ],
      "metadata": {
        "colab": {
          "base_uri": "https://localhost:8080/"
        },
        "id": "W5dwL9regoff",
        "outputId": "863ba1e5-96d9-4123-beb1-a6e2bd95bfbb"
      },
      "execution_count": null,
      "outputs": [
        {
          "output_type": "stream",
          "name": "stdout",
          "text": [
            "짝수\n"
          ]
        }
      ]
    },
    {
      "cell_type": "code",
      "source": [
        "no = input(\"숫자(정수)를 입력하세요> \")\n",
        "last_no = int(no[-1])\n",
        "if last_no % 2 == 0:\n",
        "  pass\n",
        "else:\n",
        "  pass"
      ],
      "metadata": {
        "colab": {
          "base_uri": "https://localhost:8080/"
        },
        "id": "dAc1bbUrxON6",
        "outputId": "4088ac78-c547-4420-cfaa-7cb801213e03"
      },
      "execution_count": null,
      "outputs": [
        {
          "name": "stdout",
          "output_type": "stream",
          "text": [
            "숫자(정수)를 입력하세요> 12\n"
          ]
        }
      ]
    },
    {
      "cell_type": "code",
      "source": [
        "no = input(\"숫자(정수)를 입력하세요> \")\n",
        "last_no = int(no[-1])\n",
        "if last_no % 2 == 0:\n",
        "  raise NotImplementedError\n",
        "else:\n",
        "  raise NotImplementedError"
      ],
      "metadata": {
        "colab": {
          "base_uri": "https://localhost:8080/",
          "height": 239
        },
        "id": "7JxMWANmxk8v",
        "outputId": "00673ee4-659f-47e6-fa3b-bae8243f0bca"
      },
      "execution_count": null,
      "outputs": [
        {
          "name": "stdout",
          "output_type": "stream",
          "text": [
            "숫자(정수)를 입력하세요> 12\n"
          ]
        },
        {
          "output_type": "error",
          "ename": "NotImplementedError",
          "evalue": "",
          "traceback": [
            "\u001b[0;31m---------------------------------------------------------------------------\u001b[0m",
            "\u001b[0;31mNotImplementedError\u001b[0m                       Traceback (most recent call last)",
            "\u001b[0;32m<ipython-input-88-f21dc483d97d>\u001b[0m in \u001b[0;36m<cell line: 3>\u001b[0;34m()\u001b[0m\n\u001b[1;32m      2\u001b[0m \u001b[0mlast_no\u001b[0m \u001b[0;34m=\u001b[0m \u001b[0mint\u001b[0m\u001b[0;34m(\u001b[0m\u001b[0mno\u001b[0m\u001b[0;34m[\u001b[0m\u001b[0;34m-\u001b[0m\u001b[0;36m1\u001b[0m\u001b[0;34m]\u001b[0m\u001b[0;34m)\u001b[0m\u001b[0;34m\u001b[0m\u001b[0;34m\u001b[0m\u001b[0m\n\u001b[1;32m      3\u001b[0m \u001b[0;32mif\u001b[0m \u001b[0mlast_no\u001b[0m \u001b[0;34m%\u001b[0m \u001b[0;36m2\u001b[0m \u001b[0;34m==\u001b[0m \u001b[0;36m0\u001b[0m\u001b[0;34m:\u001b[0m\u001b[0;34m\u001b[0m\u001b[0;34m\u001b[0m\u001b[0m\n\u001b[0;32m----> 4\u001b[0;31m   \u001b[0;32mraise\u001b[0m \u001b[0mNotImplementedError\u001b[0m\u001b[0;34m\u001b[0m\u001b[0;34m\u001b[0m\u001b[0m\n\u001b[0m\u001b[1;32m      5\u001b[0m \u001b[0;32melse\u001b[0m\u001b[0;34m:\u001b[0m\u001b[0;34m\u001b[0m\u001b[0;34m\u001b[0m\u001b[0m\n\u001b[1;32m      6\u001b[0m   \u001b[0;32mraise\u001b[0m \u001b[0mNotImplementedError\u001b[0m\u001b[0;34m\u001b[0m\u001b[0;34m\u001b[0m\u001b[0m\n",
            "\u001b[0;31mNotImplementedError\u001b[0m: "
          ]
        }
      ]
    },
    {
      "cell_type": "markdown",
      "source": [
        "## 전개 연산자"
      ],
      "metadata": {
        "id": "wbai2ipE_mty"
      }
    },
    {
      "cell_type": "code",
      "source": [
        "# 1) 리스트 안에서 사용\n",
        "a = [1,2,3]\n",
        "b = [*a] # 비파괴적 처리 != append 함수와 다름\n",
        "c = [*a, *a]\n",
        "print(a);print(b);print(c)"
      ],
      "metadata": {
        "colab": {
          "base_uri": "https://localhost:8080/"
        },
        "id": "_XoSWnbT98Q7",
        "outputId": "f2dc687e-f1f0-4520-c1c1-972911a30321"
      },
      "execution_count": null,
      "outputs": [
        {
          "output_type": "stream",
          "name": "stdout",
          "text": [
            "[1, 2, 3]\n",
            "[1, 2, 3]\n",
            "[1, 2, 3, 1, 2, 3]\n"
          ]
        }
      ]
    },
    {
      "cell_type": "code",
      "source": [
        "a = [1,2,3]\n",
        "b = a.append(4)\n",
        "print(a)\n",
        "print(b)"
      ],
      "metadata": {
        "colab": {
          "base_uri": "https://localhost:8080/"
        },
        "id": "-FJdqCGtxYAl",
        "outputId": "a3cb14e4-18f1-4e51-bb00-6d5a1a739676"
      },
      "execution_count": null,
      "outputs": [
        {
          "output_type": "stream",
          "name": "stdout",
          "text": [
            "[1, 2, 3, 4]\n",
            "None\n"
          ]
        }
      ]
    },
    {
      "cell_type": "code",
      "source": [
        "a = [1,2,3]\n",
        "a.append(4)\n",
        "print(a)"
      ],
      "metadata": {
        "colab": {
          "base_uri": "https://localhost:8080/"
        },
        "id": "RTOrXF2sednO",
        "outputId": "5be8d3f6-b686-439d-9c56-9e79133ef385"
      },
      "execution_count": null,
      "outputs": [
        {
          "output_type": "stream",
          "name": "stdout",
          "text": [
            "[1, 2, 3, 4]\n"
          ]
        }
      ]
    },
    {
      "cell_type": "code",
      "source": [
        "a = [1,2,3]\n",
        "b = [*a, 4]\n",
        "print(a)\n",
        "print(b)"
      ],
      "metadata": {
        "colab": {
          "base_uri": "https://localhost:8080/"
        },
        "id": "Qtv4pgkIxlYd",
        "outputId": "3b637503-dc68-448d-d791-fd1f9a24bf54"
      },
      "execution_count": null,
      "outputs": [
        {
          "output_type": "stream",
          "name": "stdout",
          "text": [
            "[1, 2, 3]\n",
            "[1, 2, 3, 4]\n"
          ]
        }
      ]
    },
    {
      "cell_type": "code",
      "source": [
        "# 2) 함수에서 사용\n",
        "print(a)\n",
        "print(*a)\n",
        "print(1,2,3) # 가변매개변수"
      ],
      "metadata": {
        "colab": {
          "base_uri": "https://localhost:8080/"
        },
        "id": "Do1yJXvx_5it",
        "outputId": "d70a300a-78fe-4467-908e-3c647970aced"
      },
      "execution_count": null,
      "outputs": [
        {
          "output_type": "stream",
          "name": "stdout",
          "text": [
            "[1, 2, 3]\n",
            "1 2 3\n",
            "1 2 3\n"
          ]
        }
      ]
    },
    {
      "cell_type": "markdown",
      "source": [
        "## 중첩 리스트와 중첩 반복문"
      ],
      "metadata": {
        "id": "GWHTWOGHAYnx"
      }
    },
    {
      "cell_type": "code",
      "source": [
        "list_of_list = [\n",
        "    [1, 2, 3],\n",
        "    [4, 5, 6, 7],\n",
        "    [8, 9]\n",
        "]\n",
        "\n",
        "for items in list_of_list:\n",
        "    print(items)"
      ],
      "metadata": {
        "colab": {
          "base_uri": "https://localhost:8080/"
        },
        "id": "pqrGyJdWAsNb",
        "outputId": "6b6da084-fd78-438b-fec6-bff03aac41e3"
      },
      "execution_count": null,
      "outputs": [
        {
          "output_type": "stream",
          "name": "stdout",
          "text": [
            "[1, 2, 3]\n",
            "[4, 5, 6, 7]\n",
            "[8, 9]\n"
          ]
        }
      ]
    },
    {
      "cell_type": "code",
      "source": [
        "list_of_list = [\n",
        "    [1, 2, 3],\n",
        "    [4, 5, 6, 7],\n",
        "    [8, 9]\n",
        "]\n",
        "\n",
        "for items in list_of_list:\n",
        "    for item in items:\n",
        "        print(item)"
      ],
      "metadata": {
        "colab": {
          "base_uri": "https://localhost:8080/"
        },
        "id": "CgAfTX1QAxb7",
        "outputId": "d2edd735-1eef-435c-f36f-15ba680e89ba"
      },
      "execution_count": null,
      "outputs": [
        {
          "output_type": "stream",
          "name": "stdout",
          "text": [
            "1\n",
            "2\n",
            "3\n",
            "4\n",
            "5\n",
            "6\n",
            "7\n",
            "8\n",
            "9\n"
          ]
        }
      ]
    },
    {
      "cell_type": "markdown",
      "source": [
        "## 여러 개 값을 가지는 딕셔너리"
      ],
      "metadata": {
        "id": "DHijZ6D0p-hT"
      }
    },
    {
      "cell_type": "code",
      "source": [
        "# 여러 개의 값을 가지는 딕셔너리 생성\n",
        "bs = {\n",
        "    \"선수\": [\"채치수\",\"정대만\",\"송태섭\",\"강백호\",\"서태웅\"],\n",
        "    \"감독\": [\"안감독\"],\n",
        "    \"매니저\": [\"한나\"]\n",
        "}\n",
        "print(bs)"
      ],
      "metadata": {
        "id": "_CeOmY0rl6un",
        "colab": {
          "base_uri": "https://localhost:8080/"
        },
        "outputId": "92fd02e7-6e66-47ad-bb0f-67e4dea25669"
      },
      "execution_count": null,
      "outputs": [
        {
          "output_type": "stream",
          "name": "stdout",
          "text": [
            "{'선수': ['채치수', '정대만', '송태섭', '강백호', '서태웅'], '감독': ['안감독'], '매니저': ['한나']}\n"
          ]
        }
      ]
    },
    {
      "cell_type": "markdown",
      "source": [
        "## 값을 보여주는 함수"
      ],
      "metadata": {
        "id": "xdNO9m7RyPBf"
      }
    },
    {
      "cell_type": "code",
      "source": [
        "# 존재하는 키로 값 보기\n",
        "bs[\"감독\"]"
      ],
      "metadata": {
        "colab": {
          "base_uri": "https://localhost:8080/"
        },
        "id": "SLP08k3Eu_Z6",
        "outputId": "59a13b95-dc09-4855-d0fc-664c87f4ef90"
      },
      "execution_count": null,
      "outputs": [
        {
          "output_type": "execute_result",
          "data": {
            "text/plain": [
              "['안감독']"
            ]
          },
          "metadata": {},
          "execution_count": 97
        }
      ]
    },
    {
      "cell_type": "code",
      "source": [
        "# 존재하지 않는 키로 값 보기 = KeyError\n",
        "bs[\"감독님\"]"
      ],
      "metadata": {
        "id": "p7L0F_kqyZfD",
        "colab": {
          "base_uri": "https://localhost:8080/",
          "height": 166
        },
        "outputId": "0a52f09a-2666-415a-8896-854c3d71c496"
      },
      "execution_count": null,
      "outputs": [
        {
          "output_type": "error",
          "ename": "KeyError",
          "evalue": "'감독님'",
          "traceback": [
            "\u001b[0;31m---------------------------------------------------------------------------\u001b[0m",
            "\u001b[0;31mKeyError\u001b[0m                                  Traceback (most recent call last)",
            "\u001b[0;32m<ipython-input-98-0ea26c017db8>\u001b[0m in \u001b[0;36m<cell line: 2>\u001b[0;34m()\u001b[0m\n\u001b[1;32m      1\u001b[0m \u001b[0;31m# 존재하지 않는 키로 값 보기 = KeyError\u001b[0m\u001b[0;34m\u001b[0m\u001b[0;34m\u001b[0m\u001b[0m\n\u001b[0;32m----> 2\u001b[0;31m \u001b[0mbs\u001b[0m\u001b[0;34m[\u001b[0m\u001b[0;34m\"감독님\"\u001b[0m\u001b[0;34m]\u001b[0m\u001b[0;34m\u001b[0m\u001b[0;34m\u001b[0m\u001b[0m\n\u001b[0m",
            "\u001b[0;31mKeyError\u001b[0m: '감독님'"
          ]
        }
      ]
    },
    {
      "cell_type": "code",
      "source": [
        "# 존재하지 않는 키로 값 보기 = 에러 없이 결과가 없다는 내용\n",
        "bs.get(\"감독\")"
      ],
      "metadata": {
        "colab": {
          "base_uri": "https://localhost:8080/"
        },
        "id": "WpAOxiTzyfoT",
        "outputId": "e4c82b7c-37dc-4c9a-a2b7-4513ff98e7bc"
      },
      "execution_count": null,
      "outputs": [
        {
          "output_type": "execute_result",
          "data": {
            "text/plain": [
              "['안감독']"
            ]
          },
          "metadata": {},
          "execution_count": 99
        }
      ]
    },
    {
      "cell_type": "code",
      "source": [
        "value = bs.get(\"감독님\")\n",
        "print(value)"
      ],
      "metadata": {
        "colab": {
          "base_uri": "https://localhost:8080/"
        },
        "id": "vl3J1oY6zkKD",
        "outputId": "57e776f3-0452-4ecb-8a25-afe0e802f913"
      },
      "execution_count": null,
      "outputs": [
        {
          "output_type": "stream",
          "name": "stdout",
          "text": [
            "None\n"
          ]
        }
      ]
    },
    {
      "cell_type": "markdown",
      "source": [
        "## 중첩 반복문으로 피라미드 만들기"
      ],
      "metadata": {
        "id": "pbizgARsXPpV"
      }
    },
    {
      "cell_type": "code",
      "source": [
        "# 1)\n",
        "output = \"\"\n",
        "\n",
        "for i in range(1, 10):\n",
        "    for j in range(0, i):\n",
        "        output += \"*\"\n",
        "    output += \"\\n\"\n",
        "\n",
        "print(output)"
      ],
      "metadata": {
        "colab": {
          "base_uri": "https://localhost:8080/"
        },
        "id": "P0R28Qxhmbee",
        "outputId": "ed06bc51-1d8e-4573-9404-350526f23812"
      },
      "execution_count": null,
      "outputs": [
        {
          "output_type": "stream",
          "name": "stdout",
          "text": [
            "*\n",
            "**\n",
            "***\n",
            "****\n",
            "*****\n",
            "******\n",
            "*******\n",
            "********\n",
            "*********\n",
            "\n"
          ]
        }
      ]
    },
    {
      "cell_type": "code",
      "source": [
        "# 2)\n",
        "output = \"\"\n",
        "\n",
        "for i in range(1, 15):\n",
        "    for j in range(14, i, -1):\n",
        "        output += ' '\n",
        "    for k in range(0, 2 * i - 1):\n",
        "        output += '*'\n",
        "    output += '\\n'\n",
        "\n",
        "print(output)"
      ],
      "metadata": {
        "colab": {
          "base_uri": "https://localhost:8080/"
        },
        "id": "Bl00urxsm66Q",
        "outputId": "63667f8e-e623-41dc-b384-989bf604c4a9"
      },
      "execution_count": null,
      "outputs": [
        {
          "output_type": "stream",
          "name": "stdout",
          "text": [
            "             *\n",
            "            ***\n",
            "           *****\n",
            "          *******\n",
            "         *********\n",
            "        ***********\n",
            "       *************\n",
            "      ***************\n",
            "     *****************\n",
            "    *******************\n",
            "   *********************\n",
            "  ***********************\n",
            " *************************\n",
            "***************************\n",
            "\n"
          ]
        }
      ]
    },
    {
      "cell_type": "code",
      "source": [
        "list(range(14, 1, - 1))"
      ],
      "metadata": {
        "colab": {
          "base_uri": "https://localhost:8080/"
        },
        "id": "TPXAofKFCqHi",
        "outputId": "908a006f-e239-469c-f0d0-45026ef98717"
      },
      "execution_count": null,
      "outputs": [
        {
          "output_type": "execute_result",
          "data": {
            "text/plain": [
              "[14, 13, 12, 11, 10, 9, 8, 7, 6, 5, 4, 3, 2]"
            ]
          },
          "metadata": {},
          "execution_count": 107
        }
      ]
    },
    {
      "cell_type": "code",
      "source": [
        "output = \"\"\n",
        "\n",
        "for i in range(1, 15):\n",
        "    for j in range(i, 15):\n",
        "        output += ' '\n",
        "    for k in range(0, i * 2 - 1):\n",
        "        output += '*'\n",
        "    output += '\\n'\n",
        "\n",
        "print(output)"
      ],
      "metadata": {
        "colab": {
          "base_uri": "https://localhost:8080/"
        },
        "id": "SG5jHDaZCT9i",
        "outputId": "07d90e09-e8e0-4b20-9b2b-01b191414bf1"
      },
      "execution_count": null,
      "outputs": [
        {
          "output_type": "stream",
          "name": "stdout",
          "text": [
            "              *\n",
            "             ***\n",
            "            *****\n",
            "           *******\n",
            "          *********\n",
            "         ***********\n",
            "        *************\n",
            "       ***************\n",
            "      *****************\n",
            "     *******************\n",
            "    *********************\n",
            "   ***********************\n",
            "  *************************\n",
            " ***************************\n",
            "\n"
          ]
        }
      ]
    },
    {
      "cell_type": "markdown",
      "source": [
        "## 시간 기반으로 반복"
      ],
      "metadata": {
        "id": "61c3IY7lNqny"
      }
    },
    {
      "cell_type": "code",
      "source": [
        "# 유닉스 타임\n",
        "import time\n",
        "time.time()"
      ],
      "metadata": {
        "colab": {
          "base_uri": "https://localhost:8080/"
        },
        "id": "xpq9K7BlJSa0",
        "outputId": "aecc18de-238a-4ce3-c352-ee79cfe1ef6d"
      },
      "execution_count": null,
      "outputs": [
        {
          "output_type": "execute_result",
          "data": {
            "text/plain": [
              "1733369207.4282877"
            ]
          },
          "metadata": {},
          "execution_count": 109
        }
      ]
    },
    {
      "cell_type": "code",
      "source": [
        "import time\n",
        "number = 0\n",
        "target = time.time() + 3\n",
        "while time.time() < target:\n",
        "  number += 1\n",
        "print(number)\n",
        "# 3초 동안 반복한 횟수"
      ],
      "metadata": {
        "colab": {
          "base_uri": "https://localhost:8080/"
        },
        "id": "3EdWONmNNtmC",
        "outputId": "bcd262c3-c6ea-4aa4-985e-c549c60927ac"
      },
      "execution_count": null,
      "outputs": [
        {
          "output_type": "stream",
          "name": "stdout",
          "text": [
            "14208812\n"
          ]
        }
      ]
    },
    {
      "cell_type": "markdown",
      "source": [
        "# 함수"
      ],
      "metadata": {
        "id": "_QPNpqcYwiHf"
      }
    },
    {
      "cell_type": "code",
      "source": [
        "def test(x):\n",
        "  return x + 2"
      ],
      "metadata": {
        "id": "BqEFN2P1wkf7"
      },
      "execution_count": null,
      "outputs": []
    },
    {
      "cell_type": "code",
      "source": [
        "test(2)"
      ],
      "metadata": {
        "colab": {
          "base_uri": "https://localhost:8080/"
        },
        "id": "YN6nuR2oIPnG",
        "outputId": "02c8ee63-1b24-4d08-8804-2f9c77ba5a7c"
      },
      "execution_count": null,
      "outputs": [
        {
          "output_type": "execute_result",
          "data": {
            "text/plain": [
              "4"
            ]
          },
          "metadata": {},
          "execution_count": 112
        }
      ]
    },
    {
      "cell_type": "code",
      "source": [
        "# 함수의 형태\n",
        "# 매개변수 O & 반환값 O\n",
        "def plus1(x, y):\n",
        "  return x + y\n",
        "# 매개변수 O & 반환값 X\n",
        "def plus2(x, y):\n",
        "  print(x + y)\n",
        "# 매개변수 X & 반환값 O\n",
        "def plus3():\n",
        "  return 2 + 3\n",
        "# 매개변수 X & 반환값 X\n",
        "def plus4():\n",
        "  print(2 + 3)"
      ],
      "metadata": {
        "id": "_sMTbP-AIRJk"
      },
      "execution_count": null,
      "outputs": []
    },
    {
      "cell_type": "code",
      "source": [
        "plus1(2, 3)"
      ],
      "metadata": {
        "colab": {
          "base_uri": "https://localhost:8080/"
        },
        "id": "2M1xIkr649xe",
        "outputId": "37bc6009-300e-4306-d1c0-38b08b5c080b"
      },
      "execution_count": null,
      "outputs": [
        {
          "output_type": "execute_result",
          "data": {
            "text/plain": [
              "5"
            ]
          },
          "metadata": {},
          "execution_count": 121
        }
      ]
    },
    {
      "cell_type": "code",
      "source": [
        "plus2(2, 3)"
      ],
      "metadata": {
        "colab": {
          "base_uri": "https://localhost:8080/"
        },
        "id": "SNPRHjhY5CII",
        "outputId": "f50be484-6f6a-4901-c35e-654788e2adc4"
      },
      "execution_count": null,
      "outputs": [
        {
          "output_type": "stream",
          "name": "stdout",
          "text": [
            "5\n"
          ]
        }
      ]
    },
    {
      "cell_type": "code",
      "source": [
        "plus3()"
      ],
      "metadata": {
        "colab": {
          "base_uri": "https://localhost:8080/"
        },
        "id": "EGatZFRs5ILH",
        "outputId": "584dfdba-7edd-4745-831c-a1ad571afa9c"
      },
      "execution_count": null,
      "outputs": [
        {
          "output_type": "execute_result",
          "data": {
            "text/plain": [
              "5"
            ]
          },
          "metadata": {},
          "execution_count": 123
        }
      ]
    },
    {
      "cell_type": "code",
      "source": [
        "plus4()"
      ],
      "metadata": {
        "colab": {
          "base_uri": "https://localhost:8080/"
        },
        "id": "DgzUOU5_5KSz",
        "outputId": "46d0b9b9-e6f0-4b7f-c104-6dc9c6628ae3"
      },
      "execution_count": null,
      "outputs": [
        {
          "output_type": "stream",
          "name": "stdout",
          "text": [
            "5\n"
          ]
        }
      ]
    },
    {
      "cell_type": "code",
      "source": [
        "a = plus1(2, 3)\n",
        "b = plus2(2, 3)\n",
        "c = plus3()\n",
        "d = plus4()"
      ],
      "metadata": {
        "colab": {
          "base_uri": "https://localhost:8080/"
        },
        "id": "9wulBRskJLTZ",
        "outputId": "025ba056-7d53-4c3c-8585-94f356d12fe1"
      },
      "execution_count": null,
      "outputs": [
        {
          "output_type": "stream",
          "name": "stdout",
          "text": [
            "5\n",
            "5\n"
          ]
        }
      ]
    },
    {
      "cell_type": "code",
      "source": [
        "a = plus1(2, 3)"
      ],
      "metadata": {
        "id": "dPtC3_E5P87U"
      },
      "execution_count": null,
      "outputs": []
    },
    {
      "cell_type": "code",
      "source": [
        "b = plus2(2, 3) # print() 출력"
      ],
      "metadata": {
        "colab": {
          "base_uri": "https://localhost:8080/"
        },
        "id": "_8B_fyfGP-hA",
        "outputId": "57b9ebd6-3a9d-41e2-9585-71b7cf3e8859"
      },
      "execution_count": null,
      "outputs": [
        {
          "output_type": "stream",
          "name": "stdout",
          "text": [
            "5\n"
          ]
        }
      ]
    },
    {
      "cell_type": "code",
      "source": [
        "c = plus3()"
      ],
      "metadata": {
        "id": "zoWn86cEQAFu"
      },
      "execution_count": null,
      "outputs": []
    },
    {
      "cell_type": "code",
      "source": [
        "d = plus4() # print() 출력"
      ],
      "metadata": {
        "colab": {
          "base_uri": "https://localhost:8080/"
        },
        "id": "D2lHil8XQELS",
        "outputId": "88d2fa1c-1d65-45d1-82ab-1465fbb51212"
      },
      "execution_count": null,
      "outputs": [
        {
          "output_type": "stream",
          "name": "stdout",
          "text": [
            "5\n"
          ]
        }
      ]
    },
    {
      "cell_type": "code",
      "source": [
        "print(a)\n",
        "print(b) # 반환값이 없으면 None\n",
        "print(c)\n",
        "print(d) # 반환값이 없으면 None"
      ],
      "metadata": {
        "colab": {
          "base_uri": "https://localhost:8080/"
        },
        "id": "6kvVnU2kPt6y",
        "outputId": "2d6acbda-fe5f-4d6f-b556-4ccb393a95f6"
      },
      "execution_count": null,
      "outputs": [
        {
          "output_type": "stream",
          "name": "stdout",
          "text": [
            "5\n",
            "None\n",
            "5\n",
            "None\n"
          ]
        }
      ]
    },
    {
      "cell_type": "markdown",
      "source": [
        "## reversed, reverse 함수"
      ],
      "metadata": {
        "id": "_urQUas9KRj5"
      }
    },
    {
      "cell_type": "code",
      "source": [
        "# reversed\n",
        "list_a = [1,2,3,4,5]\n",
        "list_b = reversed(list_a)\n",
        "print(list_a)\n",
        "print(list_b) # 이터레이터 객체\n",
        "print(list(list_b))\n",
        "# 역반복문\n",
        "for i in reversed(list_a):\n",
        "  print(i)"
      ],
      "metadata": {
        "colab": {
          "base_uri": "https://localhost:8080/"
        },
        "id": "VHIKLBzZTF0i",
        "outputId": "2476497f-cd01-4fb4-c459-f2fc3419ffdd"
      },
      "execution_count": null,
      "outputs": [
        {
          "output_type": "stream",
          "name": "stdout",
          "text": [
            "[1, 2, 3, 4, 5]\n",
            "<list_reverseiterator object at 0x7f05a8419a50>\n",
            "[5, 4, 3, 2, 1]\n",
            "5\n",
            "4\n",
            "3\n",
            "2\n",
            "1\n"
          ]
        }
      ]
    },
    {
      "cell_type": "code",
      "source": [
        "temp = reversed([1, 2, 3, 4, 5])\n",
        "for i in temp:\n",
        "  print(\"first: {i}\", format(i))\n",
        "for i in temp:\n",
        "  print(\"second: {i}\", format(i))\n",
        "# 첫번째 반복문 결과만 나옴 => 함수의 결과가 제너레이터\n",
        "# reversed() 함수와 반복문을 함께 사용할 때는 함수의 결과를 temp 로 저장하여 사용하지 않고,\n",
        "# for 구문 내부에서 바로 사용하면 됨"
      ],
      "metadata": {
        "colab": {
          "base_uri": "https://localhost:8080/"
        },
        "id": "QRWdwAt5ZE1m",
        "outputId": "a243ebba-d288-478e-915b-98e3745d18ba"
      },
      "execution_count": null,
      "outputs": [
        {
          "output_type": "stream",
          "name": "stdout",
          "text": [
            "first: {i} 5\n",
            "first: {i} 4\n",
            "first: {i} 3\n",
            "first: {i} 2\n",
            "first: {i} 1\n"
          ]
        }
      ]
    },
    {
      "cell_type": "code",
      "source": [
        "# 오류 수정\n",
        "temp = [1, 2, 3, 4, 5, 6]\n",
        "for i in reversed(temp):\n",
        "  print(\"first: {i}\", format(i))\n",
        "for i in reversed(temp):\n",
        "  print(\"second: {i}\", format(i))"
      ],
      "metadata": {
        "colab": {
          "base_uri": "https://localhost:8080/"
        },
        "id": "NwyTR4Eybydj",
        "outputId": "287cb28c-5ecc-4d60-eebe-3ea027ef47cb"
      },
      "execution_count": null,
      "outputs": [
        {
          "output_type": "stream",
          "name": "stdout",
          "text": [
            "first: {i} 6\n",
            "first: {i} 5\n",
            "first: {i} 4\n",
            "first: {i} 3\n",
            "first: {i} 2\n",
            "first: {i} 1\n",
            "second: {i} 6\n",
            "second: {i} 5\n",
            "second: {i} 4\n",
            "second: {i} 3\n",
            "second: {i} 2\n",
            "second: {i} 1\n"
          ]
        }
      ]
    },
    {
      "cell_type": "code",
      "source": [
        "# reverse\n",
        "list_a = [1,2,3,4,5]\n",
        "list_b = list_a.reverse()\n",
        "print(list_a) # 파괴적 처리\n",
        "print(list_b) # 반환값이 없음"
      ],
      "metadata": {
        "colab": {
          "base_uri": "https://localhost:8080/"
        },
        "id": "iWRI0gWXky0b",
        "outputId": "c7b34975-7d5c-48c1-8bf4-7aeebcbb50db"
      },
      "execution_count": null,
      "outputs": [
        {
          "output_type": "stream",
          "name": "stdout",
          "text": [
            "[5, 4, 3, 2, 1]\n",
            "None\n"
          ]
        }
      ]
    },
    {
      "cell_type": "code",
      "source": [
        "list_a = [1,2,3,4,5]\n",
        "list_a.reverse()\n",
        "print(list_a)"
      ],
      "metadata": {
        "colab": {
          "base_uri": "https://localhost:8080/"
        },
        "id": "yzgvY049taxr",
        "outputId": "21b407c3-4090-4226-db33-049839a5d1ff"
      },
      "execution_count": null,
      "outputs": [
        {
          "output_type": "stream",
          "name": "stdout",
          "text": [
            "[5, 4, 3, 2, 1]\n"
          ]
        }
      ]
    },
    {
      "cell_type": "markdown",
      "source": [
        "## 이터레이터"
      ],
      "metadata": {
        "id": "rO1GdHjkExR9"
      }
    },
    {
      "cell_type": "code",
      "source": [
        "a = [1,2,3]\n",
        "b = reversed(a)\n",
        "print(b)\n",
        "print(list(b))\n",
        "print(list(b)) # 제네레이터 = 코드 조금씩 실행 = 메모리 효율성"
      ],
      "metadata": {
        "id": "2kIfhFiwBHuA",
        "colab": {
          "base_uri": "https://localhost:8080/"
        },
        "outputId": "4d3c9c9b-9026-407c-9465-03af118fe818"
      },
      "execution_count": null,
      "outputs": [
        {
          "output_type": "stream",
          "name": "stdout",
          "text": [
            "<list_reverseiterator object at 0x7f05a841a050>\n",
            "[3, 2, 1]\n",
            "[]\n"
          ]
        }
      ]
    },
    {
      "cell_type": "code",
      "source": [
        "a = [1,2,3]\n",
        "b = list(reversed(a))\n",
        "print(b);print(b)"
      ],
      "metadata": {
        "id": "1BTwyRDAFLsG",
        "colab": {
          "base_uri": "https://localhost:8080/"
        },
        "outputId": "7dde0271-206d-4733-cbe2-21d39b0812f3"
      },
      "execution_count": null,
      "outputs": [
        {
          "output_type": "stream",
          "name": "stdout",
          "text": [
            "[3, 2, 1]\n",
            "[3, 2, 1]\n"
          ]
        }
      ]
    },
    {
      "cell_type": "code",
      "source": [
        "print(b)"
      ],
      "metadata": {
        "colab": {
          "base_uri": "https://localhost:8080/"
        },
        "id": "mjUFNK0WLnOX",
        "outputId": "95928ffe-61da-4762-cc5e-531ca8d5200a"
      },
      "execution_count": null,
      "outputs": [
        {
          "output_type": "stream",
          "name": "stdout",
          "text": [
            "[3, 2, 1]\n"
          ]
        }
      ]
    },
    {
      "cell_type": "code",
      "source": [
        "# 제네레이터 함수 실행\n",
        "a = [1,2,3]\n",
        "b = reversed(a)\n",
        "print(next(b))\n",
        "print(next(b))\n",
        "print(next(b))"
      ],
      "metadata": {
        "id": "KYHfNy9vFigv",
        "colab": {
          "base_uri": "https://localhost:8080/"
        },
        "outputId": "5747a30f-bd56-4d0b-c704-ef257f0db99d"
      },
      "execution_count": null,
      "outputs": [
        {
          "output_type": "stream",
          "name": "stdout",
          "text": [
            "3\n",
            "2\n",
            "1\n"
          ]
        }
      ]
    },
    {
      "cell_type": "code",
      "source": [
        "print(next(b))"
      ],
      "metadata": {
        "colab": {
          "base_uri": "https://localhost:8080/",
          "height": 147
        },
        "id": "k3kGyI58Ly0x",
        "outputId": "d2f3cb9f-537e-4ca8-c18a-f3289e97d3f4"
      },
      "execution_count": null,
      "outputs": [
        {
          "output_type": "error",
          "ename": "StopIteration",
          "evalue": "",
          "traceback": [
            "\u001b[0;31m---------------------------------------------------------------------------\u001b[0m",
            "\u001b[0;31mStopIteration\u001b[0m                             Traceback (most recent call last)",
            "\u001b[0;32m<ipython-input-136-0b064482c990>\u001b[0m in \u001b[0;36m<cell line: 1>\u001b[0;34m()\u001b[0m\n\u001b[0;32m----> 1\u001b[0;31m \u001b[0mprint\u001b[0m\u001b[0;34m(\u001b[0m\u001b[0mnext\u001b[0m\u001b[0;34m(\u001b[0m\u001b[0mb\u001b[0m\u001b[0;34m)\u001b[0m\u001b[0;34m)\u001b[0m\u001b[0;34m\u001b[0m\u001b[0;34m\u001b[0m\u001b[0m\n\u001b[0m",
            "\u001b[0;31mStopIteration\u001b[0m: "
          ]
        }
      ]
    },
    {
      "cell_type": "markdown",
      "source": [
        "## 리스트 컴프리헨션"
      ],
      "metadata": {
        "id": "y6F9rD6ydTLb"
      }
    },
    {
      "cell_type": "code",
      "source": [
        "# 리스트 컴프리헨션 문법을 모른다면\n",
        "list_a = []\n",
        "list_b = []\n",
        "for i in range(1,5+1):\n",
        "  list_a.append(i)\n",
        "  list_b.append(i ** 2)\n",
        "\n",
        "print(list_a);print(list_b)"
      ],
      "metadata": {
        "colab": {
          "base_uri": "https://localhost:8080/"
        },
        "id": "c4pI4hDCcWpU",
        "outputId": "b8f4fd31-28e6-40aa-cfb1-9083a5553143"
      },
      "execution_count": null,
      "outputs": [
        {
          "output_type": "stream",
          "name": "stdout",
          "text": [
            "[1, 2, 3, 4, 5]\n",
            "[1, 4, 9, 16, 25]\n"
          ]
        }
      ]
    },
    {
      "cell_type": "code",
      "source": [
        "# 리스트 컴프리헨션 문법으로 재현\n",
        "list_c = [i for i in range(1,5+1)]\n",
        "list_d = [i ** 2 for i in range(1,5+1)]\n",
        "print(list_c)\n",
        "print(list_d)"
      ],
      "metadata": {
        "colab": {
          "base_uri": "https://localhost:8080/"
        },
        "id": "L7mz90L9d7bA",
        "outputId": "33ac68c5-ae6d-4b5f-ba4a-c9a456846716"
      },
      "execution_count": null,
      "outputs": [
        {
          "output_type": "stream",
          "name": "stdout",
          "text": [
            "[1, 2, 3, 4, 5]\n",
            "[1, 4, 9, 16, 25]\n"
          ]
        }
      ]
    },
    {
      "cell_type": "code",
      "source": [
        "# 필터링 = 조건문 추가\n",
        "result = []\n",
        "for i in range(5):\n",
        "  if i % 2 == 1:\n",
        "    result.append(i)\n",
        "\n",
        "result"
      ],
      "metadata": {
        "colab": {
          "base_uri": "https://localhost:8080/"
        },
        "id": "sHlaHQ7iEasA",
        "outputId": "4d381fee-deda-4eea-ffa6-bff4d6b04ebc"
      },
      "execution_count": null,
      "outputs": [
        {
          "output_type": "execute_result",
          "data": {
            "text/plain": [
              "[1, 3]"
            ]
          },
          "metadata": {},
          "execution_count": 139
        }
      ]
    },
    {
      "cell_type": "code",
      "source": [
        "result = [i for i in range(5) if i % 2 == 1]\n",
        "result"
      ],
      "metadata": {
        "colab": {
          "base_uri": "https://localhost:8080/"
        },
        "id": "zVtmY6MwEpEz",
        "outputId": "f8043004-c2e9-40cb-cef1-9cb0b503dd17"
      },
      "execution_count": null,
      "outputs": [
        {
          "output_type": "execute_result",
          "data": {
            "text/plain": [
              "[1, 3]"
            ]
          },
          "metadata": {},
          "execution_count": 140
        }
      ]
    },
    {
      "cell_type": "code",
      "source": [
        "# 과일만 리스트로 저장\n",
        "# 가독성을 위해 줄바꿈\n",
        "list_a = [\"사과\", \"참외\", \"수박\", \"토마토\"]\n",
        "fruit = [i # 표현식(값 표현)\n",
        "         for i in list_a # 반복문\n",
        "         if i != \"토마토\"] # 조건문\n",
        "print(fruit)"
      ],
      "metadata": {
        "colab": {
          "base_uri": "https://localhost:8080/"
        },
        "id": "Nw6xwFjWfZBd",
        "outputId": "d5a0da6e-fdaf-48d6-cbec-3ea92be58852"
      },
      "execution_count": null,
      "outputs": [
        {
          "output_type": "stream",
          "name": "stdout",
          "text": [
            "['사과', '참외', '수박']\n"
          ]
        }
      ]
    },
    {
      "cell_type": "markdown",
      "source": [
        "## 구문 내부에 여러 문자열 사용시 문제점"
      ],
      "metadata": {
        "id": "HX8RFDHy5MZA"
      }
    },
    {
      "cell_type": "markdown",
      "source": [
        "### 들여쓰기 문제"
      ],
      "metadata": {
        "id": "-xiVQadxHQ4f"
      }
    },
    {
      "cell_type": "code",
      "execution_count": null,
      "metadata": {
        "colab": {
          "base_uri": "https://localhost:8080/"
        },
        "id": "9PuxClS24_0B",
        "outputId": "a70ed199-55bc-43ed-bb82-f120668bef6d"
      },
      "outputs": [
        {
          "output_type": "stream",
          "name": "stdout",
          "text": [
            "정수를 입력하세요> 5\n",
            "  입력한 숫자는 5입니다.\n",
            "  5는 홀수입니다.  \n"
          ]
        }
      ],
      "source": [
        "# 홀수, 짝수 구분하는 프로그램\n",
        "number = int(input(\"정수를 입력하세요> \"))\n",
        "if number % 2 == 0: # 짝수\n",
        "  print(\"\"\"\\\n",
        "  입력한 숫자는 {}입니다.\n",
        "  {}는 짝수입니다.\\\n",
        "  \"\"\".format(number, number))\n",
        "else: # 홀수\n",
        "  print(\"\"\"\\\n",
        "  입력한 숫자는 {}입니다.\n",
        "  {}는 홀수입니다.\\\n",
        "  \"\"\".format(number, number))\n",
        "# 같이 들여쓰기가 되는 문제점"
      ]
    },
    {
      "cell_type": "code",
      "source": [
        "# 들여쓰기가 되는 문제를 해결해보자\n",
        "number = int(input(\"정수를 입력하세요> \"))\n",
        "if number % 2 == 0: # 짝수\n",
        "  print(\"\"\"\\\n",
        "입력한 숫자는 {}입니다.\n",
        "{}는 짝수입니다.\\\n",
        "  \"\"\".format(number, number))\n",
        "else: # 홀수\n",
        "  print(\"\"\"\\\n",
        "입력한 숫자는 {}입니다.\n",
        "{}는 홀수입니다.\\\n",
        "  \"\"\".format(number, number))\n",
        "# 문장 안에서 들여쓰기 통일성이 없어짐 = 코드의 일관성이 없음 = 가독성이 떨어짐"
      ],
      "metadata": {
        "id": "zEJexvzs6u0W",
        "colab": {
          "base_uri": "https://localhost:8080/"
        },
        "outputId": "a8fad13c-ac62-454c-c217-848af84774b6"
      },
      "execution_count": null,
      "outputs": [
        {
          "output_type": "stream",
          "name": "stdout",
          "text": [
            "정수를 입력하세요> 5\n",
            "입력한 숫자는 5입니다.\n",
            "5는 홀수입니다.  \n"
          ]
        }
      ]
    },
    {
      "cell_type": "code",
      "source": [
        "# 문제 해결 = \\n 사용\n",
        "number = int(input(\"정수를 입력하세요> \"))\n",
        "if number % 2 == 0: # 짝수\n",
        "  print(\"입력한 숫자는 {}입니다.\\n{}는 짝수입니다.\".format(number, number))\n",
        "else: # 홀수\n",
        "  print(\"입력한 숫자는 {}입니다.\\n{}는 홀수입니다.\".format(number, number))"
      ],
      "metadata": {
        "colab": {
          "base_uri": "https://localhost:8080/"
        },
        "id": "t1URK0w_7-hD",
        "outputId": "7b78afa7-da0f-4ed1-cf04-96eb1471e8df"
      },
      "execution_count": null,
      "outputs": [
        {
          "output_type": "stream",
          "name": "stdout",
          "text": [
            "정수를 입력하세요> 5\n",
            "입력한 숫자는 5입니다.\n",
            "5는 홀수입니다.\n"
          ]
        }
      ]
    },
    {
      "cell_type": "markdown",
      "source": [
        "### 괄호로 문자열 연결하기"
      ],
      "metadata": {
        "id": "OMOFKAoxHZCO"
      }
    },
    {
      "cell_type": "code",
      "source": [
        "# 소괄호로 문자 연결 => , 없이 사용해야 함!\n",
        "a = (\n",
        "    \"나는 \"\n",
        "    \"여름을 \"\n",
        "    \"좋아합니다\"\n",
        ")\n",
        "print(a)\n",
        "print(type(a))"
      ],
      "metadata": {
        "id": "39Mn08BN_KMe",
        "colab": {
          "base_uri": "https://localhost:8080/"
        },
        "outputId": "6183d68f-fa41-4b09-a20c-675b362efc98"
      },
      "execution_count": null,
      "outputs": [
        {
          "output_type": "stream",
          "name": "stdout",
          "text": [
            "나는 여름을 좋아합니다\n",
            "<class 'str'>\n"
          ]
        }
      ]
    },
    {
      "cell_type": "code",
      "source": [
        "a = (\n",
        "    \"나는 \",\n",
        "    \"여름을 \",\n",
        "    \"좋아합니다\"\n",
        ")\n",
        "print(a)\n",
        "print(type(a))"
      ],
      "metadata": {
        "id": "d-J5nJ_N_chp",
        "colab": {
          "base_uri": "https://localhost:8080/"
        },
        "outputId": "56359ab7-aabf-4d2d-f975-d6f22b9f31b5"
      },
      "execution_count": null,
      "outputs": [
        {
          "output_type": "stream",
          "name": "stdout",
          "text": [
            "('나는 ', '여름을 ', '좋아합니다')\n",
            "<class 'tuple'>\n"
          ]
        }
      ]
    },
    {
      "cell_type": "code",
      "source": [
        "# 한 줄이 아닌 여러 줄\n",
        "a = (\n",
        "    \"나는 \\n\"\n",
        "    \"여름을 \\n\"\n",
        "    \"좋아합니다\"\n",
        ")\n",
        "print(a)\n",
        "print(type(a))"
      ],
      "metadata": {
        "colab": {
          "base_uri": "https://localhost:8080/"
        },
        "id": "PBTVCINP_4i0",
        "outputId": "67e18058-9f18-4678-cfe9-e9b7d21d61b8"
      },
      "execution_count": null,
      "outputs": [
        {
          "output_type": "stream",
          "name": "stdout",
          "text": [
            "나는 \n",
            "여름을 \n",
            "좋아합니다\n",
            "<class 'str'>\n"
          ]
        }
      ]
    },
    {
      "cell_type": "code",
      "source": [
        "number = int(input(\"정수를 입력하세요> \"))\n",
        "if number % 2 == 0: # 짝수\n",
        "  print((\"입력한 숫자는 {}입니다.\\n\"\n",
        "         \"{}는 짝수입니다.\").format(number, number))\n",
        "else: # 홀수\n",
        "  print((\"입력한 숫자는 {}입니다.\\n\"\n",
        "         \"{}는 홀수입니다.\").format(number, number))"
      ],
      "metadata": {
        "colab": {
          "base_uri": "https://localhost:8080/"
        },
        "id": "anJVbZnKANtx",
        "outputId": "49e24e48-3e69-45ca-bec4-f74fc1f0c08b"
      },
      "execution_count": null,
      "outputs": [
        {
          "output_type": "stream",
          "name": "stdout",
          "text": [
            "정수를 입력하세요> 5\n",
            "입력한 숫자는 5입니다.\n",
            "5는 홀수입니다.\n"
          ]
        }
      ]
    },
    {
      "cell_type": "markdown",
      "source": [
        "### join()"
      ],
      "metadata": {
        "id": "qc7tUfH59OU1"
      }
    },
    {
      "cell_type": "code",
      "source": [
        "print(\"\".join(\"괄호로 \", \"문자열을 하나로 \", \"연결해보자\"))"
      ],
      "metadata": {
        "colab": {
          "base_uri": "https://localhost:8080/",
          "height": 147
        },
        "id": "G4yKzmQjIXZt",
        "outputId": "40e03e2e-cdf0-47cc-e5cc-5a66ecab1dfd"
      },
      "execution_count": null,
      "outputs": [
        {
          "output_type": "error",
          "ename": "TypeError",
          "evalue": "str.join() takes exactly one argument (3 given)",
          "traceback": [
            "\u001b[0;31m---------------------------------------------------------------------------\u001b[0m",
            "\u001b[0;31mTypeError\u001b[0m                                 Traceback (most recent call last)",
            "\u001b[0;32m<ipython-input-150-eac2bb894cd8>\u001b[0m in \u001b[0;36m<cell line: 1>\u001b[0;34m()\u001b[0m\n\u001b[0;32m----> 1\u001b[0;31m \u001b[0mprint\u001b[0m\u001b[0;34m(\u001b[0m\u001b[0;34m\"\"\u001b[0m\u001b[0;34m.\u001b[0m\u001b[0mjoin\u001b[0m\u001b[0;34m(\u001b[0m\u001b[0;34m\"괄호로 \"\u001b[0m\u001b[0;34m,\u001b[0m \u001b[0;34m\"문자열을 하나로 \"\u001b[0m\u001b[0;34m,\u001b[0m \u001b[0;34m\"연결해보자\"\u001b[0m\u001b[0;34m)\u001b[0m\u001b[0;34m)\u001b[0m\u001b[0;34m\u001b[0m\u001b[0;34m\u001b[0m\u001b[0m\n\u001b[0m",
            "\u001b[0;31mTypeError\u001b[0m: str.join() takes exactly one argument (3 given)"
          ]
        }
      ]
    },
    {
      "cell_type": "code",
      "source": [
        "# 에러 해결 = 리스트 = 대괄호\n",
        "print(\"\".join([\"괄호로 \", \"문자열을 하나로 \", \"연결해보자\"]))"
      ],
      "metadata": {
        "colab": {
          "base_uri": "https://localhost:8080/"
        },
        "id": "tMgi_bmmIBJP",
        "outputId": "3166f48c-d74d-450a-800b-7fe15b73ff1f"
      },
      "execution_count": null,
      "outputs": [
        {
          "output_type": "stream",
          "name": "stdout",
          "text": [
            "괄호로 문자열을 하나로 연결해보자\n"
          ]
        }
      ]
    },
    {
      "cell_type": "code",
      "source": [
        "print(\"-\".join([\"010\", \"1234\", \"5678\"]))\n",
        "print(\" \".join([\"010\", \"1234\", \"5678\"]))\n",
        "print(\"|\".join([\"010\", \"1234\", \"5678\"]))"
      ],
      "metadata": {
        "colab": {
          "base_uri": "https://localhost:8080/"
        },
        "id": "SFSLHmFP8Yoi",
        "outputId": "e5e47ad3-97a4-4054-9bdd-3ae0ac7b9120"
      },
      "execution_count": null,
      "outputs": [
        {
          "output_type": "stream",
          "name": "stdout",
          "text": [
            "010-1234-5678\n",
            "010 1234 5678\n",
            "010|1234|5678\n"
          ]
        }
      ]
    },
    {
      "cell_type": "code",
      "source": [
        "number = int(input(\"정수를 입력하세요> \"))\n",
        "if number % 2 == 0: # 짝수\n",
        "  print(\"\\n\".join([\"입력한 숫자는 {}입니다.\", \"{}는 짝수입니다.\"]).format(number, number))\n",
        "else: # 홀수\n",
        "  print(\"\\n\".join([\"입력한 숫자는 {}입니다.\", \"{}는 홀수입니다.\"]).format(number, number))"
      ],
      "metadata": {
        "colab": {
          "base_uri": "https://localhost:8080/"
        },
        "id": "h0tz_FMY9_W2",
        "outputId": "9a03d912-0d4d-4f80-de6f-835fee966ab0"
      },
      "execution_count": null,
      "outputs": [
        {
          "output_type": "stream",
          "name": "stdout",
          "text": [
            "정수를 입력하세요> 5\n",
            "입력한 숫자는 5입니다.\n",
            "5는 홀수입니다.\n"
          ]
        }
      ]
    },
    {
      "cell_type": "markdown",
      "source": [
        "## 사용자 정의 함수"
      ],
      "metadata": {
        "id": "N0ojUizuIqfj"
      }
    },
    {
      "cell_type": "markdown",
      "source": [
        "### 일반 매개변수/키워드 매개변수"
      ],
      "metadata": {
        "id": "rEivJRTQStDn"
      }
    },
    {
      "cell_type": "code",
      "source": [
        "# 일반 매개변수 = 값을 순서대로 입력해야 함\n",
        "# 입력한 값을 n 번 반복하는 함수\n",
        "def print_n_times(value, n):\n",
        "  for i in range(n): # n 은 반드시 정수\n",
        "    print(value) # 무슨 값이든 상관 없음\n",
        "\n",
        "print_n_times(\"안녕\", 3)"
      ],
      "metadata": {
        "colab": {
          "base_uri": "https://localhost:8080/"
        },
        "id": "bj3fNvsNXG00",
        "outputId": "305cf37b-e764-4e80-a1f0-03395bc5504f"
      },
      "execution_count": null,
      "outputs": [
        {
          "output_type": "stream",
          "name": "stdout",
          "text": [
            "안녕\n",
            "안녕\n",
            "안녕\n"
          ]
        }
      ]
    },
    {
      "cell_type": "code",
      "source": [
        "# 키워드 매개변수\n",
        "print_n_times(value = \"안녕\", n = 3)\n",
        "# 키워드로 모두 사용할 때는 상관없음"
      ],
      "metadata": {
        "colab": {
          "base_uri": "https://localhost:8080/"
        },
        "id": "tCYT_URdbPb8",
        "outputId": "5f781f13-3c4b-46ed-e9ce-c5894f668be1"
      },
      "execution_count": null,
      "outputs": [
        {
          "output_type": "stream",
          "name": "stdout",
          "text": [
            "안녕\n",
            "안녕\n",
            "안녕\n"
          ]
        }
      ]
    },
    {
      "cell_type": "code",
      "source": [
        "print_n_times(n = 3, value = \"안녕\")\n",
        "# 순서 상관 없음"
      ],
      "metadata": {
        "colab": {
          "base_uri": "https://localhost:8080/"
        },
        "id": "oJFbe9pOrLCI",
        "outputId": "b163070b-ae15-4e07-c4be-4e7f2de7d058"
      },
      "execution_count": null,
      "outputs": [
        {
          "output_type": "stream",
          "name": "stdout",
          "text": [
            "안녕\n",
            "안녕\n",
            "안녕\n"
          ]
        }
      ]
    },
    {
      "cell_type": "code",
      "source": [
        "# 위치 매개 변수 먼저 입력 후 키워드 매개변수 입력\n",
        "print_n_times(\"안녕\", n = 3)\n",
        "# 일반 매개변수 > 키워드 매개변수"
      ],
      "metadata": {
        "colab": {
          "base_uri": "https://localhost:8080/"
        },
        "id": "tmDzsnY9bmdQ",
        "outputId": "120c486d-dd56-45bf-cfbc-c89ef859b43b"
      },
      "execution_count": null,
      "outputs": [
        {
          "output_type": "stream",
          "name": "stdout",
          "text": [
            "안녕\n",
            "안녕\n",
            "안녕\n"
          ]
        }
      ]
    },
    {
      "cell_type": "code",
      "source": [
        "print_n_times(n = 3, \"안녕\")\n",
        "# 일반 매개변수 > 키워드 매개변수"
      ],
      "metadata": {
        "colab": {
          "base_uri": "https://localhost:8080/",
          "height": 110
        },
        "id": "VKJWXk2rbo9Q",
        "outputId": "77c7dfd1-b622-4a84-c89d-065bfefd968c"
      },
      "execution_count": null,
      "outputs": [
        {
          "output_type": "error",
          "ename": "SyntaxError",
          "evalue": "positional argument follows keyword argument (<ipython-input-162-2e9a32d7028f>, line 1)",
          "traceback": [
            "\u001b[0;36m  File \u001b[0;32m\"<ipython-input-162-2e9a32d7028f>\"\u001b[0;36m, line \u001b[0;32m1\u001b[0m\n\u001b[0;31m    print_n_times(n = 3, \"안녕\")\u001b[0m\n\u001b[0m                             ^\u001b[0m\n\u001b[0;31mSyntaxError\u001b[0m\u001b[0;31m:\u001b[0m positional argument follows keyword argument\n"
          ]
        }
      ]
    },
    {
      "cell_type": "markdown",
      "source": [
        "### 매개변수와 관련된 TypeError"
      ],
      "metadata": {
        "id": "zDegDAjdAPHG"
      }
    },
    {
      "cell_type": "code",
      "source": [
        "# 함수를 호출할 때, 매개변수를 넣지 않거나 더 많이 넣으면 발생\n",
        "print_n_times()\n",
        "# 매개변수 value, n이 없다는 오류 발생"
      ],
      "metadata": {
        "id": "XPbFmi-tK20a",
        "colab": {
          "base_uri": "https://localhost:8080/",
          "height": 184
        },
        "outputId": "46d60a5e-1416-4420-9f8e-98a1d0fb3916"
      },
      "execution_count": null,
      "outputs": [
        {
          "output_type": "error",
          "ename": "TypeError",
          "evalue": "print_n_times() missing 2 required positional arguments: 'value' and 'n'",
          "traceback": [
            "\u001b[0;31m---------------------------------------------------------------------------\u001b[0m",
            "\u001b[0;31mTypeError\u001b[0m                                 Traceback (most recent call last)",
            "\u001b[0;32m<ipython-input-163-dc58d0a7601c>\u001b[0m in \u001b[0;36m<cell line: 2>\u001b[0;34m()\u001b[0m\n\u001b[1;32m      1\u001b[0m \u001b[0;31m# 함수를 호출할 때, 매개변수를 넣지 않거나 더 많이 넣으면 발생\u001b[0m\u001b[0;34m\u001b[0m\u001b[0;34m\u001b[0m\u001b[0m\n\u001b[0;32m----> 2\u001b[0;31m \u001b[0mprint_n_times\u001b[0m\u001b[0;34m(\u001b[0m\u001b[0;34m)\u001b[0m\u001b[0;34m\u001b[0m\u001b[0;34m\u001b[0m\u001b[0m\n\u001b[0m\u001b[1;32m      3\u001b[0m \u001b[0;31m# 매개변수 value, n이 없다는 오류 발생\u001b[0m\u001b[0;34m\u001b[0m\u001b[0;34m\u001b[0m\u001b[0m\n",
            "\u001b[0;31mTypeError\u001b[0m: print_n_times() missing 2 required positional arguments: 'value' and 'n'"
          ]
        }
      ]
    },
    {
      "cell_type": "code",
      "source": [
        "print_n_times(\"안녕\")\n",
        "# 매개변수 n이 없다는 오류 발생"
      ],
      "metadata": {
        "colab": {
          "base_uri": "https://localhost:8080/",
          "height": 166
        },
        "id": "bI9EfD7Z_ur9",
        "outputId": "ffd84368-083c-4fe1-d2ae-2e9c7badab42"
      },
      "execution_count": null,
      "outputs": [
        {
          "output_type": "error",
          "ename": "TypeError",
          "evalue": "print_n_times() missing 1 required positional argument: 'n'",
          "traceback": [
            "\u001b[0;31m---------------------------------------------------------------------------\u001b[0m",
            "\u001b[0;31mTypeError\u001b[0m                                 Traceback (most recent call last)",
            "\u001b[0;32m<ipython-input-165-1d914c8a5fa2>\u001b[0m in \u001b[0;36m<cell line: 1>\u001b[0;34m()\u001b[0m\n\u001b[0;32m----> 1\u001b[0;31m \u001b[0mprint_n_times\u001b[0m\u001b[0;34m(\u001b[0m\u001b[0;34m\"안녕\"\u001b[0m\u001b[0;34m)\u001b[0m\u001b[0;34m\u001b[0m\u001b[0;34m\u001b[0m\u001b[0m\n\u001b[0m\u001b[1;32m      2\u001b[0m \u001b[0;31m# 매개변수 n이 없다는 오류 발생\u001b[0m\u001b[0;34m\u001b[0m\u001b[0;34m\u001b[0m\u001b[0m\n",
            "\u001b[0;31mTypeError\u001b[0m: print_n_times() missing 1 required positional argument: 'n'"
          ]
        }
      ]
    },
    {
      "cell_type": "code",
      "source": [
        "print_n_times(\"안녕\", 5, 10)\n",
        "# 매개변수 2개가 필요한데, 3개가 주어졌다는 오류 발생"
      ],
      "metadata": {
        "colab": {
          "base_uri": "https://localhost:8080/",
          "height": 166
        },
        "id": "Scfydr37Ae4M",
        "outputId": "ae684a29-0fff-4fa6-b164-4a146917961f"
      },
      "execution_count": null,
      "outputs": [
        {
          "output_type": "error",
          "ename": "TypeError",
          "evalue": "print_n_times() takes 2 positional arguments but 3 were given",
          "traceback": [
            "\u001b[0;31m---------------------------------------------------------------------------\u001b[0m",
            "\u001b[0;31mTypeError\u001b[0m                                 Traceback (most recent call last)",
            "\u001b[0;32m<ipython-input-166-7d6ae186c644>\u001b[0m in \u001b[0;36m<cell line: 1>\u001b[0;34m()\u001b[0m\n\u001b[0;32m----> 1\u001b[0;31m \u001b[0mprint_n_times\u001b[0m\u001b[0;34m(\u001b[0m\u001b[0;34m\"안녕\"\u001b[0m\u001b[0;34m,\u001b[0m \u001b[0;36m5\u001b[0m\u001b[0;34m,\u001b[0m \u001b[0;36m10\u001b[0m\u001b[0;34m)\u001b[0m\u001b[0;34m\u001b[0m\u001b[0;34m\u001b[0m\u001b[0m\n\u001b[0m\u001b[1;32m      2\u001b[0m \u001b[0;31m# 매개변수 2개가 필요한데, 3개가 주어졌다는 오류 발생\u001b[0m\u001b[0;34m\u001b[0m\u001b[0;34m\u001b[0m\u001b[0m\n",
            "\u001b[0;31mTypeError\u001b[0m: print_n_times() takes 2 positional arguments but 3 were given"
          ]
        }
      ]
    },
    {
      "cell_type": "code",
      "source": [
        "print_n_times(\"안녕\", 3/2) # range 에 정수형이 들어 가야하기 때문에 오류 발생"
      ],
      "metadata": {
        "id": "2gKTafXiKZDr",
        "colab": {
          "base_uri": "https://localhost:8080/",
          "height": 276
        },
        "outputId": "d87782ef-5b05-4584-dde2-4dfdf52d9b23"
      },
      "execution_count": null,
      "outputs": [
        {
          "output_type": "error",
          "ename": "TypeError",
          "evalue": "'float' object cannot be interpreted as an integer",
          "traceback": [
            "\u001b[0;31m---------------------------------------------------------------------------\u001b[0m",
            "\u001b[0;31mTypeError\u001b[0m                                 Traceback (most recent call last)",
            "\u001b[0;32m<ipython-input-167-7d43320175b2>\u001b[0m in \u001b[0;36m<cell line: 1>\u001b[0;34m()\u001b[0m\n\u001b[0;32m----> 1\u001b[0;31m \u001b[0mprint_n_times\u001b[0m\u001b[0;34m(\u001b[0m\u001b[0;34m\"안녕\"\u001b[0m\u001b[0;34m,\u001b[0m \u001b[0;36m3\u001b[0m\u001b[0;34m/\u001b[0m\u001b[0;36m2\u001b[0m\u001b[0;34m)\u001b[0m \u001b[0;31m# range 에 정수형이 들어 가야하기 때문에 오류 발생\u001b[0m\u001b[0;34m\u001b[0m\u001b[0;34m\u001b[0m\u001b[0m\n\u001b[0m",
            "\u001b[0;32m<ipython-input-157-b7cc9d86bf85>\u001b[0m in \u001b[0;36mprint_n_times\u001b[0;34m(value, n)\u001b[0m\n\u001b[1;32m      2\u001b[0m \u001b[0;31m# 입력한 값을 n 번 반복하는 함수\u001b[0m\u001b[0;34m\u001b[0m\u001b[0;34m\u001b[0m\u001b[0m\n\u001b[1;32m      3\u001b[0m \u001b[0;32mdef\u001b[0m \u001b[0mprint_n_times\u001b[0m\u001b[0;34m(\u001b[0m\u001b[0mvalue\u001b[0m\u001b[0;34m,\u001b[0m \u001b[0mn\u001b[0m\u001b[0;34m)\u001b[0m\u001b[0;34m:\u001b[0m\u001b[0;34m\u001b[0m\u001b[0;34m\u001b[0m\u001b[0m\n\u001b[0;32m----> 4\u001b[0;31m   \u001b[0;32mfor\u001b[0m \u001b[0mi\u001b[0m \u001b[0;32min\u001b[0m \u001b[0mrange\u001b[0m\u001b[0;34m(\u001b[0m\u001b[0mn\u001b[0m\u001b[0;34m)\u001b[0m\u001b[0;34m:\u001b[0m \u001b[0;31m# n 은 반드시 정수\u001b[0m\u001b[0;34m\u001b[0m\u001b[0;34m\u001b[0m\u001b[0m\n\u001b[0m\u001b[1;32m      5\u001b[0m     \u001b[0mprint\u001b[0m\u001b[0;34m(\u001b[0m\u001b[0mvalue\u001b[0m\u001b[0;34m)\u001b[0m \u001b[0;31m# 무슨 값이든 상관 없음\u001b[0m\u001b[0;34m\u001b[0m\u001b[0;34m\u001b[0m\u001b[0m\n\u001b[1;32m      6\u001b[0m \u001b[0;34m\u001b[0m\u001b[0m\n",
            "\u001b[0;31mTypeError\u001b[0m: 'float' object cannot be interpreted as an integer"
          ]
        }
      ]
    },
    {
      "cell_type": "markdown",
      "source": [
        "### 기본매개변수"
      ],
      "metadata": {
        "id": "CKfzPqhH2tDt"
      }
    },
    {
      "cell_type": "code",
      "source": [
        "# 기본 매개변수 = 기본값을 가지는 매개변수\n",
        "def print_n_times(value, n = 3):\n",
        "  for i in range(n): # n 은 반드시 정수\n",
        "    print(value) # 무슨 값이든 상관 없음\n",
        "\n",
        "print_n_times(\"안녕\")\n",
        "# 일반 매개변수 > 기본 매개변수"
      ],
      "metadata": {
        "colab": {
          "base_uri": "https://localhost:8080/"
        },
        "id": "BbIUwxPX2tk-",
        "outputId": "3aad989b-2c5a-4b9e-8b08-7559921b962f"
      },
      "execution_count": null,
      "outputs": [
        {
          "output_type": "stream",
          "name": "stdout",
          "text": [
            "안녕\n",
            "안녕\n",
            "안녕\n"
          ]
        }
      ]
    },
    {
      "cell_type": "code",
      "source": [
        "print_n_times(\"안녕\", n = 5)"
      ],
      "metadata": {
        "colab": {
          "base_uri": "https://localhost:8080/"
        },
        "id": "Mt11xTII24CQ",
        "outputId": "8ef30ae9-75fd-48a8-cca4-3113361e8bbf"
      },
      "execution_count": null,
      "outputs": [
        {
          "output_type": "stream",
          "name": "stdout",
          "text": [
            "안녕\n",
            "안녕\n",
            "안녕\n",
            "안녕\n",
            "안녕\n"
          ]
        }
      ]
    },
    {
      "cell_type": "code",
      "source": [
        "def print_n_times(n = 3, value):\n",
        "  for i in range(n): # n 은 반드시 정수\n",
        "    print(value) # 무슨 값이든 상관 없음\n",
        "\n",
        "print_n_times(\"안녕\")\n",
        "# 일반 매개변수 > 기본 매개변수"
      ],
      "metadata": {
        "colab": {
          "base_uri": "https://localhost:8080/",
          "height": 110
        },
        "id": "1UgSO63s_XMY",
        "outputId": "65c995af-37b1-42eb-e4fb-7f31938cda6c"
      },
      "execution_count": null,
      "outputs": [
        {
          "output_type": "error",
          "ename": "SyntaxError",
          "evalue": "non-default argument follows default argument (<ipython-input-168-78f70f85a1bc>, line 1)",
          "traceback": [
            "\u001b[0;36m  File \u001b[0;32m\"<ipython-input-168-78f70f85a1bc>\"\u001b[0;36m, line \u001b[0;32m1\u001b[0m\n\u001b[0;31m    def print_n_times(n = 3, value):\u001b[0m\n\u001b[0m                             ^\u001b[0m\n\u001b[0;31mSyntaxError\u001b[0m\u001b[0;31m:\u001b[0m non-default argument follows default argument\n"
          ]
        }
      ]
    },
    {
      "cell_type": "markdown",
      "source": [
        "### 가변매개변수"
      ],
      "metadata": {
        "id": "5G_9wKwzMz7B"
      }
    },
    {
      "cell_type": "code",
      "source": [
        "# def 함수 이름(매개변수, 매개변수, ..., *가변매개변수):\n",
        "#    명령어"
      ],
      "metadata": {
        "id": "qIMHwobhwZJw"
      },
      "execution_count": null,
      "outputs": []
    },
    {
      "cell_type": "code",
      "source": [
        "# 가변 매개변수 = 입력할 수 있는 값의 개수 제한이 없음\n",
        "# 일반 매개변수 뒤에 와야 함\n",
        "def print_n_times(n, *values):\n",
        "  for i in range(n): # n 은 반드시 정수\n",
        "    for j in values:\n",
        "      print(j)\n",
        "\n",
        "print_n_times(3, \"안녕\", \"파이썬\", \"재밌니\")\n",
        "# 일반 매개변수 > 가변 매개변수"
      ],
      "metadata": {
        "id": "0H9jPNxzMlpb",
        "colab": {
          "base_uri": "https://localhost:8080/"
        },
        "outputId": "6247f92b-ff77-4e95-bd54-dc9c193faaeb"
      },
      "execution_count": null,
      "outputs": [
        {
          "output_type": "stream",
          "name": "stdout",
          "text": [
            "안녕\n",
            "파이썬\n",
            "재밌니\n",
            "안녕\n",
            "파이썬\n",
            "재밌니\n",
            "안녕\n",
            "파이썬\n",
            "재밌니\n"
          ]
        }
      ]
    },
    {
      "cell_type": "code",
      "source": [
        "print_n_times(\"안녕\", \"파이썬\", \"재밌니\", n = 3)\n",
        "# 일반 매개변수 > 가변 매개변수"
      ],
      "metadata": {
        "colab": {
          "base_uri": "https://localhost:8080/",
          "height": 166
        },
        "id": "M-Kn8ZdBA2NS",
        "outputId": "b05200da-a48a-4f08-879e-00a1afe8c8b5"
      },
      "execution_count": null,
      "outputs": [
        {
          "output_type": "error",
          "ename": "TypeError",
          "evalue": "print_n_times() got multiple values for argument 'n'",
          "traceback": [
            "\u001b[0;31m---------------------------------------------------------------------------\u001b[0m",
            "\u001b[0;31mTypeError\u001b[0m                                 Traceback (most recent call last)",
            "\u001b[0;32m<ipython-input-170-b7ddc3bf067e>\u001b[0m in \u001b[0;36m<cell line: 1>\u001b[0;34m()\u001b[0m\n\u001b[0;32m----> 1\u001b[0;31m \u001b[0mprint_n_times\u001b[0m\u001b[0;34m(\u001b[0m\u001b[0;34m\"안녕\"\u001b[0m\u001b[0;34m,\u001b[0m \u001b[0;34m\"파이썬\"\u001b[0m\u001b[0;34m,\u001b[0m \u001b[0;34m\"재밌니\"\u001b[0m\u001b[0;34m,\u001b[0m \u001b[0mn\u001b[0m \u001b[0;34m=\u001b[0m \u001b[0;36m3\u001b[0m\u001b[0;34m)\u001b[0m\u001b[0;34m\u001b[0m\u001b[0;34m\u001b[0m\u001b[0m\n\u001b[0m\u001b[1;32m      2\u001b[0m \u001b[0;31m# 일반 매개변수 > 가변 매개변수\u001b[0m\u001b[0;34m\u001b[0m\u001b[0;34m\u001b[0m\u001b[0m\n",
            "\u001b[0;31mTypeError\u001b[0m: print_n_times() got multiple values for argument 'n'"
          ]
        }
      ]
    },
    {
      "cell_type": "code",
      "source": [
        "def print_n_times(*values, n):\n",
        "  for i in range(n): # n 은 반드시 정수\n",
        "    for j in values:\n",
        "      print(j)\n",
        "\n",
        "print_n_times(\"안녕\", \"파이썬\", \"재밌니\", 3)\n",
        "# 가변 매개변수의 값이 어디까지인지 알기 어려움"
      ],
      "metadata": {
        "colab": {
          "base_uri": "https://localhost:8080/",
          "height": 202
        },
        "id": "ZLDjxAG02AoC",
        "outputId": "60a6503a-5251-4bdf-d60c-9a1278011993"
      },
      "execution_count": null,
      "outputs": [
        {
          "output_type": "error",
          "ename": "TypeError",
          "evalue": "print_n_times() missing 1 required keyword-only argument: 'n'",
          "traceback": [
            "\u001b[0;31m---------------------------------------------------------------------------\u001b[0m",
            "\u001b[0;31mTypeError\u001b[0m                                 Traceback (most recent call last)",
            "\u001b[0;32m<ipython-input-171-ab1525810bd0>\u001b[0m in \u001b[0;36m<cell line: 6>\u001b[0;34m()\u001b[0m\n\u001b[1;32m      4\u001b[0m       \u001b[0mprint\u001b[0m\u001b[0;34m(\u001b[0m\u001b[0mj\u001b[0m\u001b[0;34m)\u001b[0m\u001b[0;34m\u001b[0m\u001b[0;34m\u001b[0m\u001b[0m\n\u001b[1;32m      5\u001b[0m \u001b[0;34m\u001b[0m\u001b[0m\n\u001b[0;32m----> 6\u001b[0;31m \u001b[0mprint_n_times\u001b[0m\u001b[0;34m(\u001b[0m\u001b[0;34m\"안녕\"\u001b[0m\u001b[0;34m,\u001b[0m \u001b[0;34m\"파이썬\"\u001b[0m\u001b[0;34m,\u001b[0m \u001b[0;34m\"재밌니\"\u001b[0m\u001b[0;34m,\u001b[0m \u001b[0;36m3\u001b[0m\u001b[0;34m)\u001b[0m\u001b[0;34m\u001b[0m\u001b[0;34m\u001b[0m\u001b[0m\n\u001b[0m\u001b[1;32m      7\u001b[0m \u001b[0;31m# 가변 매개변수의 값이 어디까지인지 알기 어려움\u001b[0m\u001b[0;34m\u001b[0m\u001b[0;34m\u001b[0m\u001b[0m\n",
            "\u001b[0;31mTypeError\u001b[0m: print_n_times() missing 1 required keyword-only argument: 'n'"
          ]
        }
      ]
    },
    {
      "cell_type": "code",
      "source": [
        "print_n_times(\"안녕\", \"파이썬\", \"재밌니\", n = 3)"
      ],
      "metadata": {
        "colab": {
          "base_uri": "https://localhost:8080/"
        },
        "id": "4It4zTGuogxt",
        "outputId": "aec2d3d1-6e49-45bc-f665-039cdddb89fe"
      },
      "execution_count": null,
      "outputs": [
        {
          "output_type": "stream",
          "name": "stdout",
          "text": [
            "안녕\n",
            "파이썬\n",
            "재밌니\n",
            "안녕\n",
            "파이썬\n",
            "재밌니\n",
            "안녕\n",
            "파이썬\n",
            "재밌니\n"
          ]
        }
      ]
    },
    {
      "cell_type": "code",
      "source": [
        "def print_n_times(*values, n = 3):\n",
        "  for i in range(n): # n 은 반드시 정수\n",
        "    for j in values:\n",
        "      print(j)\n",
        "\n",
        "print_n_times(\"안녕\", \"파이썬\", \"재밌니\", 3)\n",
        "print_n_times(\"안녕\", \"파이썬\", \"재밌니\")\n",
        "print_n_times(\"안녕\", \"파이썬\", \"재밌니\", n = 2)\n",
        "# 가변 매개변수 > 키워드 매개변수"
      ],
      "metadata": {
        "colab": {
          "base_uri": "https://localhost:8080/"
        },
        "id": "BsJWuzxxBvj0",
        "outputId": "fabc0037-573e-4fce-9b43-c891aba11aa5"
      },
      "execution_count": null,
      "outputs": [
        {
          "output_type": "stream",
          "name": "stdout",
          "text": [
            "안녕\n",
            "파이썬\n",
            "재밌니\n",
            "3\n",
            "안녕\n",
            "파이썬\n",
            "재밌니\n",
            "3\n",
            "안녕\n",
            "파이썬\n",
            "재밌니\n",
            "3\n",
            "안녕\n",
            "파이썬\n",
            "재밌니\n",
            "안녕\n",
            "파이썬\n",
            "재밌니\n",
            "안녕\n",
            "파이썬\n",
            "재밌니\n",
            "안녕\n",
            "파이썬\n",
            "재밌니\n",
            "안녕\n",
            "파이썬\n",
            "재밌니\n"
          ]
        }
      ]
    },
    {
      "cell_type": "markdown",
      "source": [
        "### 가변 매개변수와 기본 매개변수를 함께 사용해보자"
      ],
      "metadata": {
        "id": "JtFQj6xJK3JE"
      }
    },
    {
      "cell_type": "code",
      "source": [
        "# 기본 매개변수가 가변 매개변수 앞에 오는 경우\n",
        "def print_n_times(n = 2, *values):\n",
        "  for i in range(n): # n 은 반드시 정수\n",
        "    for j in values:\n",
        "      print(j)\n",
        "\n",
        "print_n_times(\"안녕\", \"파이썬\", \"재밌니\")\n",
        "# 기본 매개변수 > 가변 매개변수\n",
        "# 기본 매개변수 사용이 안되었으므로 의미가 사라짐"
      ],
      "metadata": {
        "id": "2FhL2gmOJoNy",
        "colab": {
          "base_uri": "https://localhost:8080/",
          "height": 349
        },
        "outputId": "0c68b2de-6303-42ce-f27a-e4ca5ed1db9f"
      },
      "execution_count": null,
      "outputs": [
        {
          "output_type": "error",
          "ename": "TypeError",
          "evalue": "'str' object cannot be interpreted as an integer",
          "traceback": [
            "\u001b[0;31m---------------------------------------------------------------------------\u001b[0m",
            "\u001b[0;31mTypeError\u001b[0m                                 Traceback (most recent call last)",
            "\u001b[0;32m<ipython-input-180-05c31879f2f4>\u001b[0m in \u001b[0;36m<cell line: 7>\u001b[0;34m()\u001b[0m\n\u001b[1;32m      5\u001b[0m       \u001b[0mprint\u001b[0m\u001b[0;34m(\u001b[0m\u001b[0mj\u001b[0m\u001b[0;34m)\u001b[0m\u001b[0;34m\u001b[0m\u001b[0;34m\u001b[0m\u001b[0m\n\u001b[1;32m      6\u001b[0m \u001b[0;34m\u001b[0m\u001b[0m\n\u001b[0;32m----> 7\u001b[0;31m \u001b[0mprint_n_times\u001b[0m\u001b[0;34m(\u001b[0m\u001b[0;34m\"안녕\"\u001b[0m\u001b[0;34m,\u001b[0m \u001b[0;34m\"파이썬\"\u001b[0m\u001b[0;34m,\u001b[0m \u001b[0;34m\"재밌니\"\u001b[0m\u001b[0;34m)\u001b[0m\u001b[0;34m\u001b[0m\u001b[0;34m\u001b[0m\u001b[0m\n\u001b[0m\u001b[1;32m      8\u001b[0m \u001b[0;31m# 기본 매개변수 > 가변 매개변수\u001b[0m\u001b[0;34m\u001b[0m\u001b[0;34m\u001b[0m\u001b[0m\n\u001b[1;32m      9\u001b[0m \u001b[0;31m# 기본 매개변수 사용이 안되었으므로 의미가 사라짐\u001b[0m\u001b[0;34m\u001b[0m\u001b[0;34m\u001b[0m\u001b[0m\n",
            "\u001b[0;32m<ipython-input-180-05c31879f2f4>\u001b[0m in \u001b[0;36mprint_n_times\u001b[0;34m(n, *values)\u001b[0m\n\u001b[1;32m      1\u001b[0m \u001b[0;31m# 기본 매개변수가 가변 매개변수 앞에 오는 경우\u001b[0m\u001b[0;34m\u001b[0m\u001b[0;34m\u001b[0m\u001b[0m\n\u001b[1;32m      2\u001b[0m \u001b[0;32mdef\u001b[0m \u001b[0mprint_n_times\u001b[0m\u001b[0;34m(\u001b[0m\u001b[0mn\u001b[0m \u001b[0;34m=\u001b[0m \u001b[0;36m2\u001b[0m\u001b[0;34m,\u001b[0m \u001b[0;34m*\u001b[0m\u001b[0mvalues\u001b[0m\u001b[0;34m)\u001b[0m\u001b[0;34m:\u001b[0m\u001b[0;34m\u001b[0m\u001b[0;34m\u001b[0m\u001b[0m\n\u001b[0;32m----> 3\u001b[0;31m   \u001b[0;32mfor\u001b[0m \u001b[0mi\u001b[0m \u001b[0;32min\u001b[0m \u001b[0mrange\u001b[0m\u001b[0;34m(\u001b[0m\u001b[0mn\u001b[0m\u001b[0;34m)\u001b[0m\u001b[0;34m:\u001b[0m \u001b[0;31m# n 은 반드시 정수\u001b[0m\u001b[0;34m\u001b[0m\u001b[0;34m\u001b[0m\u001b[0m\n\u001b[0m\u001b[1;32m      4\u001b[0m     \u001b[0;32mfor\u001b[0m \u001b[0mj\u001b[0m \u001b[0;32min\u001b[0m \u001b[0mvalues\u001b[0m\u001b[0;34m:\u001b[0m\u001b[0;34m\u001b[0m\u001b[0;34m\u001b[0m\u001b[0m\n\u001b[1;32m      5\u001b[0m       \u001b[0mprint\u001b[0m\u001b[0;34m(\u001b[0m\u001b[0mj\u001b[0m\u001b[0;34m)\u001b[0m\u001b[0;34m\u001b[0m\u001b[0;34m\u001b[0m\u001b[0m\n",
            "\u001b[0;31mTypeError\u001b[0m: 'str' object cannot be interpreted as an integer"
          ]
        }
      ]
    },
    {
      "cell_type": "code",
      "source": [
        "print_n_times(n= 2, \"안녕\", \"파이썬\", \"재밌니\")"
      ],
      "metadata": {
        "colab": {
          "base_uri": "https://localhost:8080/",
          "height": 110
        },
        "id": "dmf4eUaDuVRM",
        "outputId": "96758113-3b41-4ab7-c530-f315343fafb3"
      },
      "execution_count": null,
      "outputs": [
        {
          "output_type": "error",
          "ename": "SyntaxError",
          "evalue": "positional argument follows keyword argument (<ipython-input-181-917f0e74e6e9>, line 1)",
          "traceback": [
            "\u001b[0;36m  File \u001b[0;32m\"<ipython-input-181-917f0e74e6e9>\"\u001b[0;36m, line \u001b[0;32m1\u001b[0m\n\u001b[0;31m    print_n_times(n= 2, \"안녕\", \"파이썬\", \"재밌니\")\u001b[0m\n\u001b[0m                                          ^\u001b[0m\n\u001b[0;31mSyntaxError\u001b[0m\u001b[0;31m:\u001b[0m positional argument follows keyword argument\n"
          ]
        }
      ]
    },
    {
      "cell_type": "code",
      "source": [
        "def print_n_times(*values, n = 2):\n",
        "  for i in range(n): # n 은 반드시 정수\n",
        "    for j in values:\n",
        "      print(j)"
      ],
      "metadata": {
        "id": "rSFodsKQvPVt"
      },
      "execution_count": null,
      "outputs": []
    },
    {
      "cell_type": "code",
      "source": [
        "print_n_times(\"안녕\", \"파이썬\", \"재밌니\", n= 3)"
      ],
      "metadata": {
        "colab": {
          "base_uri": "https://localhost:8080/"
        },
        "id": "19cuMGVhuxu7",
        "outputId": "89fcbbe0-b745-4702-fa0a-4b4c9e12493c"
      },
      "execution_count": null,
      "outputs": [
        {
          "output_type": "stream",
          "name": "stdout",
          "text": [
            "안녕\n",
            "파이썬\n",
            "재밌니\n",
            "안녕\n",
            "파이썬\n",
            "재밌니\n",
            "안녕\n",
            "파이썬\n",
            "재밌니\n"
          ]
        }
      ]
    },
    {
      "cell_type": "code",
      "source": [
        "# 기본 매개변수가 가변 매개변수 앞에 오는 경우\n",
        "def print_n_times(n = 2, *values):\n",
        "  for i in range(n): # n 은 반드시 정수\n",
        "    for j in values:\n",
        "      print(j)\n",
        "\n",
        "print_n_times(3, \"안녕\", \"파이썬\", \"재밌니\")\n",
        "# 일반 매개변수 > 가변 매개변수"
      ],
      "metadata": {
        "colab": {
          "base_uri": "https://localhost:8080/"
        },
        "id": "_iGot69PDKhH",
        "outputId": "100ca53f-81fb-4ea7-a759-55e55e7c1549"
      },
      "execution_count": null,
      "outputs": [
        {
          "output_type": "stream",
          "name": "stdout",
          "text": [
            "안녕\n",
            "파이썬\n",
            "재밌니\n",
            "안녕\n",
            "파이썬\n",
            "재밌니\n",
            "안녕\n",
            "파이썬\n",
            "재밌니\n"
          ]
        }
      ]
    },
    {
      "cell_type": "code",
      "source": [
        "# 기본 매개변수가 가변 매개변수 앞에 오는 경우\n",
        "def print_n_times(n = 2, *values):\n",
        "  for i in range(n): # n 은 반드시 정수\n",
        "    for j in values:\n",
        "      print(j)\n",
        "\n",
        "print_n_times(n = 3, \"안녕\", \"파이썬\", \"재밌니\")\n",
        "# 기본 매개변수의 의미가 사라짐"
      ],
      "metadata": {
        "colab": {
          "base_uri": "https://localhost:8080/",
          "height": 110
        },
        "id": "xKQzjF3NDdrL",
        "outputId": "6260cf7b-7c29-4809-c494-48b7926cc459"
      },
      "execution_count": null,
      "outputs": [
        {
          "output_type": "error",
          "ename": "SyntaxError",
          "evalue": "positional argument follows keyword argument (<ipython-input-182-2fd99d55b7cb>, line 7)",
          "traceback": [
            "\u001b[0;36m  File \u001b[0;32m\"<ipython-input-182-2fd99d55b7cb>\"\u001b[0;36m, line \u001b[0;32m7\u001b[0m\n\u001b[0;31m    print_n_times(n = 3, \"안녕\", \"파이썬\", \"재밌니\")\u001b[0m\n\u001b[0m                                           ^\u001b[0m\n\u001b[0;31mSyntaxError\u001b[0m\u001b[0;31m:\u001b[0m positional argument follows keyword argument\n"
          ]
        }
      ]
    },
    {
      "cell_type": "code",
      "source": [
        "# 기본 매개변수가 가변 매개변수 앞에 오는 경우\n",
        "def print_n_times(n = 2, *values):\n",
        "  for i in range(n): # n 은 반드시 정수\n",
        "    for j in values:\n",
        "      print(j)\n",
        "\n",
        "print_n_times(\"안녕\", \"파이썬\", \"재밌니\", n = 2)\n",
        "# 기본 매개변수의 의미가 사라짐"
      ],
      "metadata": {
        "colab": {
          "base_uri": "https://localhost:8080/",
          "height": 202
        },
        "id": "q3UysmxvDuSi",
        "outputId": "c71f4928-eea3-4bd0-b3d1-0b5c0b5085af"
      },
      "execution_count": null,
      "outputs": [
        {
          "output_type": "error",
          "ename": "TypeError",
          "evalue": "print_n_times() got multiple values for argument 'n'",
          "traceback": [
            "\u001b[0;31m---------------------------------------------------------------------------\u001b[0m",
            "\u001b[0;31mTypeError\u001b[0m                                 Traceback (most recent call last)",
            "\u001b[0;32m<ipython-input-183-58a7c24d975d>\u001b[0m in \u001b[0;36m<cell line: 7>\u001b[0;34m()\u001b[0m\n\u001b[1;32m      5\u001b[0m       \u001b[0mprint\u001b[0m\u001b[0;34m(\u001b[0m\u001b[0mj\u001b[0m\u001b[0;34m)\u001b[0m\u001b[0;34m\u001b[0m\u001b[0;34m\u001b[0m\u001b[0m\n\u001b[1;32m      6\u001b[0m \u001b[0;34m\u001b[0m\u001b[0m\n\u001b[0;32m----> 7\u001b[0;31m \u001b[0mprint_n_times\u001b[0m\u001b[0;34m(\u001b[0m\u001b[0;34m\"안녕\"\u001b[0m\u001b[0;34m,\u001b[0m \u001b[0;34m\"파이썬\"\u001b[0m\u001b[0;34m,\u001b[0m \u001b[0;34m\"재밌니\"\u001b[0m\u001b[0;34m,\u001b[0m \u001b[0mn\u001b[0m \u001b[0;34m=\u001b[0m \u001b[0;36m2\u001b[0m\u001b[0;34m)\u001b[0m\u001b[0;34m\u001b[0m\u001b[0;34m\u001b[0m\u001b[0m\n\u001b[0m\u001b[1;32m      8\u001b[0m \u001b[0;31m# 기본 매개변수의 의미가 사라짐\u001b[0m\u001b[0;34m\u001b[0m\u001b[0;34m\u001b[0m\u001b[0m\n",
            "\u001b[0;31mTypeError\u001b[0m: print_n_times() got multiple values for argument 'n'"
          ]
        }
      ]
    },
    {
      "cell_type": "code",
      "source": [
        "# 기본 매개변수가 가변 매개변수 뒤에 오는 경우\n",
        "def print_n_times(*values, n = 3):\n",
        "  for i in range(n): # n 은 반드시 정수\n",
        "    for j in values:\n",
        "      print(j)\n",
        "\n",
        "# 가변매개변수 뒤에 기본매개변수\n",
        "print_n_times(\"안녕\", \"파이썬\", \"재밌니\")\n",
        "# 기본값이므로 n = 3 생략 가능\n",
        "print_n_times(\"안녕\", \"파이썬\", \"재밌니\", n = 3)\n",
        "# 가변 매개변수 > 키워드 매개변수"
      ],
      "metadata": {
        "id": "T8VUzToTS-0m",
        "colab": {
          "base_uri": "https://localhost:8080/"
        },
        "outputId": "fe2e9cbb-dba1-4bf7-af86-e46e6efdf346"
      },
      "execution_count": null,
      "outputs": [
        {
          "output_type": "stream",
          "name": "stdout",
          "text": [
            "안녕\n",
            "파이썬\n",
            "재밌니\n",
            "안녕\n",
            "파이썬\n",
            "재밌니\n",
            "안녕\n",
            "파이썬\n",
            "재밌니\n",
            "안녕\n",
            "파이썬\n",
            "재밌니\n",
            "안녕\n",
            "파이썬\n",
            "재밌니\n",
            "안녕\n",
            "파이썬\n",
            "재밌니\n"
          ]
        }
      ]
    },
    {
      "cell_type": "code",
      "source": [
        "# 키워드 매개변수 형태로 사용해야 함 = 이름 지정\n",
        "print_n_times(\"안녕\", \"파이썬\", \"재밌니\", 5)\n",
        "# 이름 없이 값만 넣으면 가변 매개변수로 처리됨\n",
        "# 가변 매개변수가 우선이 되버림"
      ],
      "metadata": {
        "id": "O3ZpwiDkTX7V",
        "colab": {
          "base_uri": "https://localhost:8080/"
        },
        "outputId": "06205c06-2b59-4399-e667-dd4f083d77e8"
      },
      "execution_count": null,
      "outputs": [
        {
          "output_type": "stream",
          "name": "stdout",
          "text": [
            "안녕\n",
            "파이썬\n",
            "재밌니\n",
            "5\n",
            "안녕\n",
            "파이썬\n",
            "재밌니\n",
            "5\n",
            "안녕\n",
            "파이썬\n",
            "재밌니\n",
            "5\n"
          ]
        }
      ]
    },
    {
      "cell_type": "code",
      "source": [
        "# 매개변수의 이름을 지정해서 입력\n",
        "# 가변매개변수 뒤에서 사용\n",
        "print_n_times(\"안녕\", \"파이썬\", \"재밌니\", n = 2)\n",
        "# 가변 매개변수 > 키워드 매개변수"
      ],
      "metadata": {
        "id": "B-xBWeI8MVEN",
        "colab": {
          "base_uri": "https://localhost:8080/"
        },
        "outputId": "9d35d335-7be7-4f93-9653-86e3a1087c98"
      },
      "execution_count": null,
      "outputs": [
        {
          "output_type": "stream",
          "name": "stdout",
          "text": [
            "안녕\n",
            "파이썬\n",
            "재밌니\n",
            "안녕\n",
            "파이썬\n",
            "재밌니\n"
          ]
        }
      ]
    },
    {
      "cell_type": "markdown",
      "source": [
        "### 키워드 매개변수를 사용하면 좋은 점"
      ],
      "metadata": {
        "id": "b58KUQI9Lb5p"
      }
    },
    {
      "cell_type": "code",
      "source": [
        "# 키워드 매개변수를 사용하면 좋은 점\n",
        "# 순서 고려하지 않아도 됨\n",
        "def test(a, b = 3, c = 4):\n",
        "  print(a + b + c)"
      ],
      "metadata": {
        "id": "rUzzCZZVTgoE"
      },
      "execution_count": null,
      "outputs": []
    },
    {
      "cell_type": "code",
      "source": [
        "# 1) 기본 형태로 사용 = 매개변수 순서대로 입력\n",
        "test(2,4,6)"
      ],
      "metadata": {
        "id": "VkvAn1i0T_lv",
        "colab": {
          "base_uri": "https://localhost:8080/"
        },
        "outputId": "42b40a66-d5d0-474e-f82a-e1738a0bb9b6"
      },
      "execution_count": null,
      "outputs": [
        {
          "output_type": "stream",
          "name": "stdout",
          "text": [
            "12\n"
          ]
        }
      ]
    },
    {
      "cell_type": "code",
      "source": [
        "test(2)\n",
        "# a = 2"
      ],
      "metadata": {
        "id": "ttY1nImDUIeo",
        "colab": {
          "base_uri": "https://localhost:8080/"
        },
        "outputId": "68fc9402-d682-41f8-92fe-a089b4290b3b"
      },
      "execution_count": null,
      "outputs": [
        {
          "output_type": "stream",
          "name": "stdout",
          "text": [
            "9\n"
          ]
        }
      ]
    },
    {
      "cell_type": "code",
      "source": [
        "# 2) 키워드 매개변수로 입력\n",
        "test(a = 2)"
      ],
      "metadata": {
        "id": "iAu8PWbjUPtc",
        "colab": {
          "base_uri": "https://localhost:8080/"
        },
        "outputId": "544dfc56-4db5-46f3-e003-953ac7fe5ba4"
      },
      "execution_count": null,
      "outputs": [
        {
          "output_type": "stream",
          "name": "stdout",
          "text": [
            "9\n"
          ]
        }
      ]
    },
    {
      "cell_type": "code",
      "source": [
        "test(a = 2, b = 4, c = 7)"
      ],
      "metadata": {
        "id": "9PRdQHGmUeDU",
        "colab": {
          "base_uri": "https://localhost:8080/"
        },
        "outputId": "73bad482-5572-45ca-9056-dbea4d3f6728"
      },
      "execution_count": null,
      "outputs": [
        {
          "output_type": "stream",
          "name": "stdout",
          "text": [
            "13\n"
          ]
        }
      ]
    },
    {
      "cell_type": "code",
      "source": [
        "# 3) 키워드 매개변수 순서를 바꿔 입력\n",
        "test(c = 7, b = 4, a = 2)"
      ],
      "metadata": {
        "id": "AyE6E0EqUi7R",
        "colab": {
          "base_uri": "https://localhost:8080/"
        },
        "outputId": "7784c077-1e19-46be-a3b1-2148cf67bfd0"
      },
      "execution_count": null,
      "outputs": [
        {
          "output_type": "stream",
          "name": "stdout",
          "text": [
            "13\n"
          ]
        }
      ]
    },
    {
      "cell_type": "code",
      "source": [
        "# 4) 키워드 매개변수 일부만 사용\n",
        "test(a = 2, c = 7)\n",
        "# b = 3"
      ],
      "metadata": {
        "id": "OZ1pUkzHUykB",
        "colab": {
          "base_uri": "https://localhost:8080/"
        },
        "outputId": "06d866d5-5ee0-4460-d311-8a7c9b80613b"
      },
      "execution_count": null,
      "outputs": [
        {
          "output_type": "stream",
          "name": "stdout",
          "text": [
            "12\n"
          ]
        }
      ]
    },
    {
      "cell_type": "code",
      "source": [
        "test(2, c = 7)\n",
        "# a = 2, b = 3"
      ],
      "metadata": {
        "id": "n2oFO5T9VEUj",
        "colab": {
          "base_uri": "https://localhost:8080/"
        },
        "outputId": "5de1ae0e-5b11-472c-bdcf-94da9300fef2"
      },
      "execution_count": null,
      "outputs": [
        {
          "output_type": "stream",
          "name": "stdout",
          "text": [
            "12\n"
          ]
        }
      ]
    },
    {
      "cell_type": "markdown",
      "source": [
        "### 키워드 가변매개변수"
      ],
      "metadata": {
        "id": "xeKcIQrpNpHD"
      }
    },
    {
      "cell_type": "code",
      "source": [
        "def print_n_times(n = 3, **values):\n",
        "  print(values)\n",
        "  for i in range(n): # n 은 반드시 정수\n",
        "    print(\"{first}\".format(**values))\n",
        "    print(\"{second}\".format(**values))\n",
        "    print(\"{third}\".format(**values))\n",
        "\n",
        "print_n_times(first = \"안녕\", second = \"파이썬\", third = \"재밌니\")\n",
        "# 키워드 가변매개변수는 맨 마지막에 사용\n",
        "# 키워드 매개변수 > 키워드 가변 매개변수"
      ],
      "metadata": {
        "colab": {
          "base_uri": "https://localhost:8080/"
        },
        "id": "-GjMbHvSNoPH",
        "outputId": "06e1eb51-def7-4519-b431-cd9d9af949b5"
      },
      "execution_count": null,
      "outputs": [
        {
          "output_type": "stream",
          "name": "stdout",
          "text": [
            "{'first': '안녕', 'second': '파이썬', 'third': '재밌니'}\n",
            "안녕\n",
            "파이썬\n",
            "재밌니\n",
            "안녕\n",
            "파이썬\n",
            "재밌니\n",
            "안녕\n",
            "파이썬\n",
            "재밌니\n"
          ]
        }
      ]
    },
    {
      "cell_type": "code",
      "source": [
        "print_n_times(n = 5, first = \"안녕\", second = \"파이썬\", third = \"재밌니\")"
      ],
      "metadata": {
        "colab": {
          "base_uri": "https://localhost:8080/"
        },
        "id": "9Ps1yWScQnFp",
        "outputId": "13b99baa-787a-4b19-eb36-b0bfbd444fae"
      },
      "execution_count": null,
      "outputs": [
        {
          "output_type": "stream",
          "name": "stdout",
          "text": [
            "{'first': '안녕', 'second': '파이썬', 'third': '재밌니'}\n",
            "안녕\n",
            "파이썬\n",
            "재밌니\n",
            "안녕\n",
            "파이썬\n",
            "재밌니\n",
            "안녕\n",
            "파이썬\n",
            "재밌니\n",
            "안녕\n",
            "파이썬\n",
            "재밌니\n",
            "안녕\n",
            "파이썬\n",
            "재밌니\n"
          ]
        }
      ]
    },
    {
      "cell_type": "code",
      "source": [
        "print_n_times(first = \"안녕\", second = \"파이썬\", third = \"재밌니\", n = 5)"
      ],
      "metadata": {
        "colab": {
          "base_uri": "https://localhost:8080/"
        },
        "id": "pEM7vpnfQvNu",
        "outputId": "cea80517-f1d4-45d6-c91f-31b926555b75"
      },
      "execution_count": null,
      "outputs": [
        {
          "output_type": "stream",
          "name": "stdout",
          "text": [
            "{'first': '안녕', 'second': '파이썬', 'third': '재밌니'}\n",
            "안녕\n",
            "파이썬\n",
            "재밌니\n",
            "안녕\n",
            "파이썬\n",
            "재밌니\n",
            "안녕\n",
            "파이썬\n",
            "재밌니\n",
            "안녕\n",
            "파이썬\n",
            "재밌니\n",
            "안녕\n",
            "파이썬\n",
            "재밌니\n"
          ]
        }
      ]
    },
    {
      "cell_type": "code",
      "source": [
        "def print_n_times(**values, n = 3):\n",
        "  print(values)\n",
        "  for i in range(n): # n 은 반드시 정수\n",
        "    print(\"{first}\".format(**values))\n",
        "    print(\"{second}\".format(**values))\n",
        "    print(\"{third}\".format(**values))\n",
        "\n",
        "print_n_times(first = \"안녕\", second = \"파이썬\", third = \"재밌니\")"
      ],
      "metadata": {
        "colab": {
          "base_uri": "https://localhost:8080/",
          "height": 110
        },
        "id": "0qJ6qIGGN1pc",
        "outputId": "11791cb7-5ec6-40e8-8b13-0cd750c152ea"
      },
      "execution_count": null,
      "outputs": [
        {
          "output_type": "error",
          "ename": "SyntaxError",
          "evalue": "invalid syntax (<ipython-input-197-b7a1ade2b8e2>, line 1)",
          "traceback": [
            "\u001b[0;36m  File \u001b[0;32m\"<ipython-input-197-b7a1ade2b8e2>\"\u001b[0;36m, line \u001b[0;32m1\u001b[0m\n\u001b[0;31m    def print_n_times(**values, n = 3):\u001b[0m\n\u001b[0m                                ^\u001b[0m\n\u001b[0;31mSyntaxError\u001b[0m\u001b[0;31m:\u001b[0m invalid syntax\n"
          ]
        }
      ]
    },
    {
      "cell_type": "markdown",
      "source": [
        "## 입력한 값을 모두 더하는 함수"
      ],
      "metadata": {
        "id": "_YVSV_MrZygS"
      }
    },
    {
      "cell_type": "code",
      "source": [
        "# 일반매개변수\n",
        "def sum_all(start, end):\n",
        "  output = 0\n",
        "  for i in range(start, end+1):\n",
        "    output += i\n",
        "  return output"
      ],
      "metadata": {
        "id": "vt5gNVKMZ4lQ"
      },
      "execution_count": null,
      "outputs": []
    },
    {
      "cell_type": "code",
      "source": [
        "# 일반매개변수로 사용 = 순서대로 입력\n",
        "sum_all(1,3)"
      ],
      "metadata": {
        "colab": {
          "base_uri": "https://localhost:8080/"
        },
        "id": "6uU4NUd9anKZ",
        "outputId": "fa9af604-e965-44a7-b5ff-3fed08550f7d"
      },
      "execution_count": null,
      "outputs": [
        {
          "output_type": "execute_result",
          "data": {
            "text/plain": [
              "6"
            ]
          },
          "metadata": {},
          "execution_count": 199
        }
      ]
    },
    {
      "cell_type": "code",
      "source": [
        "# 키워드 매개변수로 사용 = 순서 상관 없음\n",
        "sum_all(start = 1, end = 3)"
      ],
      "metadata": {
        "colab": {
          "base_uri": "https://localhost:8080/"
        },
        "id": "sFgBUxAQaydX",
        "outputId": "414819cf-81c5-4084-83be-41cb36a36e4a"
      },
      "execution_count": null,
      "outputs": [
        {
          "output_type": "execute_result",
          "data": {
            "text/plain": [
              "6"
            ]
          },
          "metadata": {},
          "execution_count": 200
        }
      ]
    },
    {
      "cell_type": "code",
      "source": [
        "sum_all(end = 3, start = 1)"
      ],
      "metadata": {
        "colab": {
          "base_uri": "https://localhost:8080/"
        },
        "id": "dsL6VyE4a9Aa",
        "outputId": "d4a1c693-7f62-4683-dfc5-dba4b4d295d4"
      },
      "execution_count": null,
      "outputs": [
        {
          "output_type": "execute_result",
          "data": {
            "text/plain": [
              "6"
            ]
          },
          "metadata": {},
          "execution_count": 201
        }
      ]
    },
    {
      "cell_type": "code",
      "source": [
        "# 기본매개변수\n",
        "# 간격을 추가해서 합계\n",
        "def sum_all(start = 1, end = 10, step = 2):\n",
        "  output = 0\n",
        "  for i in range(start, end+1, step):\n",
        "    output += i\n",
        "  return output"
      ],
      "metadata": {
        "id": "3YJf9YCRbCBv"
      },
      "execution_count": null,
      "outputs": []
    },
    {
      "cell_type": "code",
      "source": [
        "sum_all()\n",
        "# 1 + 3 + 5 + 7 + 9"
      ],
      "metadata": {
        "id": "yFvQLv0HcH88",
        "colab": {
          "base_uri": "https://localhost:8080/"
        },
        "outputId": "ddaede9c-f416-485f-f879-bb17778d53c9"
      },
      "execution_count": null,
      "outputs": [
        {
          "output_type": "execute_result",
          "data": {
            "text/plain": [
              "25"
            ]
          },
          "metadata": {},
          "execution_count": 203
        }
      ]
    },
    {
      "cell_type": "code",
      "source": [
        "# 일반매개변수로 사용 = 순서대로 입력\n",
        "sum_all(1, 5, 2)\n",
        "# 1 + 3 + 5"
      ],
      "metadata": {
        "id": "rjS7g-vocNWC",
        "colab": {
          "base_uri": "https://localhost:8080/"
        },
        "outputId": "35b15b64-b2e2-466d-846e-891eb0ec19bf"
      },
      "execution_count": null,
      "outputs": [
        {
          "output_type": "execute_result",
          "data": {
            "text/plain": [
              "9"
            ]
          },
          "metadata": {},
          "execution_count": 204
        }
      ]
    },
    {
      "cell_type": "code",
      "source": [
        "# 키워드 매개변수로 사용 = 순서 상관 없음\n",
        "sum_all(start = 1, end = 5, step = 2)"
      ],
      "metadata": {
        "id": "tK1ok6JMcXJz",
        "colab": {
          "base_uri": "https://localhost:8080/"
        },
        "outputId": "a6436344-a5d8-4d5a-a256-aadb83bed5dd"
      },
      "execution_count": null,
      "outputs": [
        {
          "output_type": "execute_result",
          "data": {
            "text/plain": [
              "9"
            ]
          },
          "metadata": {},
          "execution_count": 205
        }
      ]
    },
    {
      "cell_type": "code",
      "source": [
        "sum_all(step = 2, start = 1, end = 5)"
      ],
      "metadata": {
        "id": "nAN78lStcmwZ",
        "colab": {
          "base_uri": "https://localhost:8080/"
        },
        "outputId": "a1f46a54-0765-4b8d-8edc-69f8a5062911"
      },
      "execution_count": null,
      "outputs": [
        {
          "output_type": "execute_result",
          "data": {
            "text/plain": [
              "9"
            ]
          },
          "metadata": {},
          "execution_count": 206
        }
      ]
    },
    {
      "cell_type": "code",
      "source": [
        "# 키워드 매개변수 일부만 사용\n",
        "sum_all(start = 1, step = 2)\n",
        "# end = 10\n",
        "# 1 + 3 + 5 + 7 + 9"
      ],
      "metadata": {
        "id": "9ixlAMJVcrvQ",
        "colab": {
          "base_uri": "https://localhost:8080/"
        },
        "outputId": "50d20a73-7d93-444b-f592-17ec407ec019"
      },
      "execution_count": null,
      "outputs": [
        {
          "output_type": "execute_result",
          "data": {
            "text/plain": [
              "25"
            ]
          },
          "metadata": {},
          "execution_count": 207
        }
      ]
    },
    {
      "cell_type": "markdown",
      "source": [
        "# 함수의 활용"
      ],
      "metadata": {
        "id": "BrJeKgvxvV4U"
      }
    },
    {
      "cell_type": "markdown",
      "source": [
        "## 재귀함수"
      ],
      "metadata": {
        "id": "0CsnRNBYvYU0"
      }
    },
    {
      "cell_type": "code",
      "source": [
        "# 팩토리얼\n",
        "# 반복문으로 구현\n",
        "\n",
        "# 숫자 순서대로\n",
        "def factorial(n):\n",
        "  output = 1\n",
        "  for i in range(1,n+1):\n",
        "    output *= i\n",
        "  return output"
      ],
      "metadata": {
        "id": "x2znQWM7c3sx"
      },
      "execution_count": null,
      "outputs": []
    },
    {
      "cell_type": "code",
      "source": [
        "print(factorial(1))\n",
        "print(factorial(2))\n",
        "print(factorial(3))"
      ],
      "metadata": {
        "id": "bPwoqEBlwJ9u",
        "colab": {
          "base_uri": "https://localhost:8080/"
        },
        "outputId": "69b45569-26e3-4552-df25-d03367a4301c"
      },
      "execution_count": null,
      "outputs": [
        {
          "output_type": "stream",
          "name": "stdout",
          "text": [
            "1\n",
            "2\n",
            "6\n"
          ]
        }
      ]
    },
    {
      "cell_type": "code",
      "source": [
        "# 숫자 순서 반대로\n",
        "def factorial(n):\n",
        "  output = 1\n",
        "  for i in range(n,1-1,-1):\n",
        "    output *= i\n",
        "  return output"
      ],
      "metadata": {
        "id": "BQO3nJQZwSAX"
      },
      "execution_count": null,
      "outputs": []
    },
    {
      "cell_type": "code",
      "source": [
        "print(factorial(1))\n",
        "print(factorial(2))\n",
        "print(factorial(3))"
      ],
      "metadata": {
        "colab": {
          "base_uri": "https://localhost:8080/"
        },
        "id": "gxYapF6gwqRM",
        "outputId": "998f9b95-a1f0-4880-97e9-60ecb749718d"
      },
      "execution_count": null,
      "outputs": [
        {
          "output_type": "stream",
          "name": "stdout",
          "text": [
            "1\n",
            "2\n",
            "6\n"
          ]
        }
      ]
    },
    {
      "cell_type": "code",
      "source": [
        "# 재귀함수로 구현\n",
        "def factorial(n):\n",
        "  if n == 0:\n",
        "    return 1\n",
        "  else:\n",
        "    return n * factorial(n-1)\n",
        "    # n = 3\n",
        "    # 3 * factorial(2)\n",
        "    # 3 * 2 * factorial(1)\n",
        "    # 3 * 2 * 1 * factorial(0)\n",
        "    # 3 * 2 * 1 * 1 = 6"
      ],
      "metadata": {
        "id": "OsfO2SL3xe9j"
      },
      "execution_count": null,
      "outputs": []
    },
    {
      "cell_type": "code",
      "source": [
        "print(factorial(1))\n",
        "print(factorial(2))\n",
        "print(factorial(3))"
      ],
      "metadata": {
        "colab": {
          "base_uri": "https://localhost:8080/"
        },
        "id": "DIkjRIgEyB8D",
        "outputId": "4a09fd3b-02d6-43b8-b8fd-1840174c83d2"
      },
      "execution_count": null,
      "outputs": [
        {
          "output_type": "stream",
          "name": "stdout",
          "text": [
            "1\n",
            "2\n",
            "6\n"
          ]
        }
      ]
    },
    {
      "cell_type": "markdown",
      "source": [
        "## 피보나치 수열"
      ],
      "metadata": {
        "id": "o1ZWf4qi13u8"
      }
    },
    {
      "cell_type": "code",
      "source": [
        "# 피보나치 수열 = 앞의 두 숫자를 합한게 다음 숫자\n",
        "def fibonacci(n):\n",
        "  if n == 1:\n",
        "    return 1\n",
        "  elif n == 2:\n",
        "    return 1\n",
        "  else:\n",
        "    return fibonacci(n-1) + fibonacci(n-2)\n",
        "    # n = 3\n",
        "    # f(3) = f(2) + f(1) = 1 + 1 = 2\n",
        "    # n = 4\n",
        "    # f(4) = f(3) + f(2) = f(2) + f(1) + 1 = 2 + 1 = 3"
      ],
      "metadata": {
        "id": "xszfdynI17BP"
      },
      "execution_count": null,
      "outputs": []
    },
    {
      "cell_type": "code",
      "source": [
        "print(fibonacci(1))\n",
        "print(fibonacci(2))\n",
        "print(fibonacci(3))\n",
        "print(fibonacci(4))\n",
        "print(fibonacci(5))"
      ],
      "metadata": {
        "id": "8m2YumOs2aT9",
        "colab": {
          "base_uri": "https://localhost:8080/"
        },
        "outputId": "192cbe5b-eb6f-482f-a5e6-980ad4a4dc60"
      },
      "execution_count": null,
      "outputs": [
        {
          "output_type": "stream",
          "name": "stdout",
          "text": [
            "1\n",
            "1\n",
            "2\n",
            "3\n",
            "5\n"
          ]
        }
      ]
    },
    {
      "cell_type": "code",
      "source": [
        "print(fibonacci(25))"
      ],
      "metadata": {
        "colab": {
          "base_uri": "https://localhost:8080/"
        },
        "id": "pg_ydGpN30cA",
        "outputId": "9d51d5ff-a961-4c67-df52-49df7ebd79da"
      },
      "execution_count": null,
      "outputs": [
        {
          "output_type": "stream",
          "name": "stdout",
          "text": [
            "75025\n"
          ]
        }
      ]
    },
    {
      "cell_type": "code",
      "source": [
        "print(fibonacci(50)) # 같은 계산 반복하는 문제 발생"
      ],
      "metadata": {
        "id": "o5ytVMgu2h67",
        "colab": {
          "base_uri": "https://localhost:8080/",
          "height": 300
        },
        "outputId": "eedab6a7-cd4a-422f-e1ce-36946c7b8989"
      },
      "execution_count": null,
      "outputs": [
        {
          "output_type": "error",
          "ename": "KeyboardInterrupt",
          "evalue": "",
          "traceback": [
            "\u001b[0;31m---------------------------------------------------------------------------\u001b[0m",
            "\u001b[0;31mKeyboardInterrupt\u001b[0m                         Traceback (most recent call last)",
            "\u001b[0;32m<ipython-input-217-a05d7ce37f43>\u001b[0m in \u001b[0;36m<cell line: 1>\u001b[0;34m()\u001b[0m\n\u001b[0;32m----> 1\u001b[0;31m \u001b[0mprint\u001b[0m\u001b[0;34m(\u001b[0m\u001b[0mfibonacci\u001b[0m\u001b[0;34m(\u001b[0m\u001b[0;36m50\u001b[0m\u001b[0;34m)\u001b[0m\u001b[0;34m)\u001b[0m \u001b[0;31m# 같은 계산 반복하는 문제 발생\u001b[0m\u001b[0;34m\u001b[0m\u001b[0;34m\u001b[0m\u001b[0m\n\u001b[0m",
            "\u001b[0;32m<ipython-input-214-dd0e4fbbb79a>\u001b[0m in \u001b[0;36mfibonacci\u001b[0;34m(n)\u001b[0m\n\u001b[1;32m      6\u001b[0m     \u001b[0;32mreturn\u001b[0m \u001b[0;36m1\u001b[0m\u001b[0;34m\u001b[0m\u001b[0;34m\u001b[0m\u001b[0m\n\u001b[1;32m      7\u001b[0m   \u001b[0;32melse\u001b[0m\u001b[0;34m:\u001b[0m\u001b[0;34m\u001b[0m\u001b[0;34m\u001b[0m\u001b[0m\n\u001b[0;32m----> 8\u001b[0;31m     \u001b[0;32mreturn\u001b[0m \u001b[0mfibonacci\u001b[0m\u001b[0;34m(\u001b[0m\u001b[0mn\u001b[0m\u001b[0;34m-\u001b[0m\u001b[0;36m1\u001b[0m\u001b[0;34m)\u001b[0m \u001b[0;34m+\u001b[0m \u001b[0mfibonacci\u001b[0m\u001b[0;34m(\u001b[0m\u001b[0mn\u001b[0m\u001b[0;34m-\u001b[0m\u001b[0;36m2\u001b[0m\u001b[0;34m)\u001b[0m\u001b[0;34m\u001b[0m\u001b[0;34m\u001b[0m\u001b[0m\n\u001b[0m\u001b[1;32m      9\u001b[0m     \u001b[0;31m# n = 3\u001b[0m\u001b[0;34m\u001b[0m\u001b[0;34m\u001b[0m\u001b[0m\n\u001b[1;32m     10\u001b[0m     \u001b[0;31m# f(3) = f(2) + f(1) = 1 + 1 = 2\u001b[0m\u001b[0;34m\u001b[0m\u001b[0;34m\u001b[0m\u001b[0m\n",
            "\u001b[0;32m<ipython-input-214-dd0e4fbbb79a>\u001b[0m in \u001b[0;36mfibonacci\u001b[0;34m(n)\u001b[0m\n\u001b[1;32m      6\u001b[0m     \u001b[0;32mreturn\u001b[0m \u001b[0;36m1\u001b[0m\u001b[0;34m\u001b[0m\u001b[0;34m\u001b[0m\u001b[0m\n\u001b[1;32m      7\u001b[0m   \u001b[0;32melse\u001b[0m\u001b[0;34m:\u001b[0m\u001b[0;34m\u001b[0m\u001b[0;34m\u001b[0m\u001b[0m\n\u001b[0;32m----> 8\u001b[0;31m     \u001b[0;32mreturn\u001b[0m \u001b[0mfibonacci\u001b[0m\u001b[0;34m(\u001b[0m\u001b[0mn\u001b[0m\u001b[0;34m-\u001b[0m\u001b[0;36m1\u001b[0m\u001b[0;34m)\u001b[0m \u001b[0;34m+\u001b[0m \u001b[0mfibonacci\u001b[0m\u001b[0;34m(\u001b[0m\u001b[0mn\u001b[0m\u001b[0;34m-\u001b[0m\u001b[0;36m2\u001b[0m\u001b[0;34m)\u001b[0m\u001b[0;34m\u001b[0m\u001b[0;34m\u001b[0m\u001b[0m\n\u001b[0m\u001b[1;32m      9\u001b[0m     \u001b[0;31m# n = 3\u001b[0m\u001b[0;34m\u001b[0m\u001b[0;34m\u001b[0m\u001b[0m\n\u001b[1;32m     10\u001b[0m     \u001b[0;31m# f(3) = f(2) + f(1) = 1 + 1 = 2\u001b[0m\u001b[0;34m\u001b[0m\u001b[0;34m\u001b[0m\u001b[0m\n",
            "\u001b[0;32m<ipython-input-214-dd0e4fbbb79a>\u001b[0m in \u001b[0;36mfibonacci\u001b[0;34m(n)\u001b[0m\n\u001b[1;32m      6\u001b[0m     \u001b[0;32mreturn\u001b[0m \u001b[0;36m1\u001b[0m\u001b[0;34m\u001b[0m\u001b[0;34m\u001b[0m\u001b[0m\n\u001b[1;32m      7\u001b[0m   \u001b[0;32melse\u001b[0m\u001b[0;34m:\u001b[0m\u001b[0;34m\u001b[0m\u001b[0;34m\u001b[0m\u001b[0m\n\u001b[0;32m----> 8\u001b[0;31m     \u001b[0;32mreturn\u001b[0m \u001b[0mfibonacci\u001b[0m\u001b[0;34m(\u001b[0m\u001b[0mn\u001b[0m\u001b[0;34m-\u001b[0m\u001b[0;36m1\u001b[0m\u001b[0;34m)\u001b[0m \u001b[0;34m+\u001b[0m \u001b[0mfibonacci\u001b[0m\u001b[0;34m(\u001b[0m\u001b[0mn\u001b[0m\u001b[0;34m-\u001b[0m\u001b[0;36m2\u001b[0m\u001b[0;34m)\u001b[0m\u001b[0;34m\u001b[0m\u001b[0;34m\u001b[0m\u001b[0m\n\u001b[0m\u001b[1;32m      9\u001b[0m     \u001b[0;31m# n = 3\u001b[0m\u001b[0;34m\u001b[0m\u001b[0;34m\u001b[0m\u001b[0m\n\u001b[1;32m     10\u001b[0m     \u001b[0;31m# f(3) = f(2) + f(1) = 1 + 1 = 2\u001b[0m\u001b[0;34m\u001b[0m\u001b[0;34m\u001b[0m\u001b[0m\n",
            "\u001b[0;32m<ipython-input-214-dd0e4fbbb79a>\u001b[0m in \u001b[0;36mfibonacci\u001b[0;34m(n)\u001b[0m\n\u001b[1;32m      6\u001b[0m     \u001b[0;32mreturn\u001b[0m \u001b[0;36m1\u001b[0m\u001b[0;34m\u001b[0m\u001b[0;34m\u001b[0m\u001b[0m\n\u001b[1;32m      7\u001b[0m   \u001b[0;32melse\u001b[0m\u001b[0;34m:\u001b[0m\u001b[0;34m\u001b[0m\u001b[0;34m\u001b[0m\u001b[0m\n\u001b[0;32m----> 8\u001b[0;31m     \u001b[0;32mreturn\u001b[0m \u001b[0mfibonacci\u001b[0m\u001b[0;34m(\u001b[0m\u001b[0mn\u001b[0m\u001b[0;34m-\u001b[0m\u001b[0;36m1\u001b[0m\u001b[0;34m)\u001b[0m \u001b[0;34m+\u001b[0m \u001b[0mfibonacci\u001b[0m\u001b[0;34m(\u001b[0m\u001b[0mn\u001b[0m\u001b[0;34m-\u001b[0m\u001b[0;36m2\u001b[0m\u001b[0;34m)\u001b[0m\u001b[0;34m\u001b[0m\u001b[0;34m\u001b[0m\u001b[0m\n\u001b[0m\u001b[1;32m      9\u001b[0m     \u001b[0;31m# n = 3\u001b[0m\u001b[0;34m\u001b[0m\u001b[0;34m\u001b[0m\u001b[0m\n\u001b[1;32m     10\u001b[0m     \u001b[0;31m# f(3) = f(2) + f(1) = 1 + 1 = 2\u001b[0m\u001b[0;34m\u001b[0m\u001b[0;34m\u001b[0m\u001b[0m\n",
            "\u001b[0;32m<ipython-input-214-dd0e4fbbb79a>\u001b[0m in \u001b[0;36mfibonacci\u001b[0;34m(n)\u001b[0m\n\u001b[1;32m      6\u001b[0m     \u001b[0;32mreturn\u001b[0m \u001b[0;36m1\u001b[0m\u001b[0;34m\u001b[0m\u001b[0;34m\u001b[0m\u001b[0m\n\u001b[1;32m      7\u001b[0m   \u001b[0;32melse\u001b[0m\u001b[0;34m:\u001b[0m\u001b[0;34m\u001b[0m\u001b[0;34m\u001b[0m\u001b[0m\n\u001b[0;32m----> 8\u001b[0;31m     \u001b[0;32mreturn\u001b[0m \u001b[0mfibonacci\u001b[0m\u001b[0;34m(\u001b[0m\u001b[0mn\u001b[0m\u001b[0;34m-\u001b[0m\u001b[0;36m1\u001b[0m\u001b[0;34m)\u001b[0m \u001b[0;34m+\u001b[0m \u001b[0mfibonacci\u001b[0m\u001b[0;34m(\u001b[0m\u001b[0mn\u001b[0m\u001b[0;34m-\u001b[0m\u001b[0;36m2\u001b[0m\u001b[0;34m)\u001b[0m\u001b[0;34m\u001b[0m\u001b[0;34m\u001b[0m\u001b[0m\n\u001b[0m\u001b[1;32m      9\u001b[0m     \u001b[0;31m# n = 3\u001b[0m\u001b[0;34m\u001b[0m\u001b[0;34m\u001b[0m\u001b[0m\n\u001b[1;32m     10\u001b[0m     \u001b[0;31m# f(3) = f(2) + f(1) = 1 + 1 = 2\u001b[0m\u001b[0;34m\u001b[0m\u001b[0;34m\u001b[0m\u001b[0m\n",
            "\u001b[0;32m<ipython-input-214-dd0e4fbbb79a>\u001b[0m in \u001b[0;36mfibonacci\u001b[0;34m(n)\u001b[0m\n\u001b[1;32m      6\u001b[0m     \u001b[0;32mreturn\u001b[0m \u001b[0;36m1\u001b[0m\u001b[0;34m\u001b[0m\u001b[0;34m\u001b[0m\u001b[0m\n\u001b[1;32m      7\u001b[0m   \u001b[0;32melse\u001b[0m\u001b[0;34m:\u001b[0m\u001b[0;34m\u001b[0m\u001b[0;34m\u001b[0m\u001b[0m\n\u001b[0;32m----> 8\u001b[0;31m     \u001b[0;32mreturn\u001b[0m \u001b[0mfibonacci\u001b[0m\u001b[0;34m(\u001b[0m\u001b[0mn\u001b[0m\u001b[0;34m-\u001b[0m\u001b[0;36m1\u001b[0m\u001b[0;34m)\u001b[0m \u001b[0;34m+\u001b[0m \u001b[0mfibonacci\u001b[0m\u001b[0;34m(\u001b[0m\u001b[0mn\u001b[0m\u001b[0;34m-\u001b[0m\u001b[0;36m2\u001b[0m\u001b[0;34m)\u001b[0m\u001b[0;34m\u001b[0m\u001b[0;34m\u001b[0m\u001b[0m\n\u001b[0m\u001b[1;32m      9\u001b[0m     \u001b[0;31m# n = 3\u001b[0m\u001b[0;34m\u001b[0m\u001b[0;34m\u001b[0m\u001b[0m\n\u001b[1;32m     10\u001b[0m     \u001b[0;31m# f(3) = f(2) + f(1) = 1 + 1 = 2\u001b[0m\u001b[0;34m\u001b[0m\u001b[0;34m\u001b[0m\u001b[0m\n",
            "\u001b[0;32m<ipython-input-214-dd0e4fbbb79a>\u001b[0m in \u001b[0;36mfibonacci\u001b[0;34m(n)\u001b[0m\n\u001b[1;32m      6\u001b[0m     \u001b[0;32mreturn\u001b[0m \u001b[0;36m1\u001b[0m\u001b[0;34m\u001b[0m\u001b[0;34m\u001b[0m\u001b[0m\n\u001b[1;32m      7\u001b[0m   \u001b[0;32melse\u001b[0m\u001b[0;34m:\u001b[0m\u001b[0;34m\u001b[0m\u001b[0;34m\u001b[0m\u001b[0m\n\u001b[0;32m----> 8\u001b[0;31m     \u001b[0;32mreturn\u001b[0m \u001b[0mfibonacci\u001b[0m\u001b[0;34m(\u001b[0m\u001b[0mn\u001b[0m\u001b[0;34m-\u001b[0m\u001b[0;36m1\u001b[0m\u001b[0;34m)\u001b[0m \u001b[0;34m+\u001b[0m \u001b[0mfibonacci\u001b[0m\u001b[0;34m(\u001b[0m\u001b[0mn\u001b[0m\u001b[0;34m-\u001b[0m\u001b[0;36m2\u001b[0m\u001b[0;34m)\u001b[0m\u001b[0;34m\u001b[0m\u001b[0;34m\u001b[0m\u001b[0m\n\u001b[0m\u001b[1;32m      9\u001b[0m     \u001b[0;31m# n = 3\u001b[0m\u001b[0;34m\u001b[0m\u001b[0;34m\u001b[0m\u001b[0m\n\u001b[1;32m     10\u001b[0m     \u001b[0;31m# f(3) = f(2) + f(1) = 1 + 1 = 2\u001b[0m\u001b[0;34m\u001b[0m\u001b[0;34m\u001b[0m\u001b[0m\n",
            "\u001b[0;32m<ipython-input-214-dd0e4fbbb79a>\u001b[0m in \u001b[0;36mfibonacci\u001b[0;34m(n)\u001b[0m\n\u001b[1;32m      6\u001b[0m     \u001b[0;32mreturn\u001b[0m \u001b[0;36m1\u001b[0m\u001b[0;34m\u001b[0m\u001b[0;34m\u001b[0m\u001b[0m\n\u001b[1;32m      7\u001b[0m   \u001b[0;32melse\u001b[0m\u001b[0;34m:\u001b[0m\u001b[0;34m\u001b[0m\u001b[0;34m\u001b[0m\u001b[0m\n\u001b[0;32m----> 8\u001b[0;31m     \u001b[0;32mreturn\u001b[0m \u001b[0mfibonacci\u001b[0m\u001b[0;34m(\u001b[0m\u001b[0mn\u001b[0m\u001b[0;34m-\u001b[0m\u001b[0;36m1\u001b[0m\u001b[0;34m)\u001b[0m \u001b[0;34m+\u001b[0m \u001b[0mfibonacci\u001b[0m\u001b[0;34m(\u001b[0m\u001b[0mn\u001b[0m\u001b[0;34m-\u001b[0m\u001b[0;36m2\u001b[0m\u001b[0;34m)\u001b[0m\u001b[0;34m\u001b[0m\u001b[0;34m\u001b[0m\u001b[0m\n\u001b[0m\u001b[1;32m      9\u001b[0m     \u001b[0;31m# n = 3\u001b[0m\u001b[0;34m\u001b[0m\u001b[0;34m\u001b[0m\u001b[0m\n\u001b[1;32m     10\u001b[0m     \u001b[0;31m# f(3) = f(2) + f(1) = 1 + 1 = 2\u001b[0m\u001b[0;34m\u001b[0m\u001b[0;34m\u001b[0m\u001b[0m\n",
            "\u001b[0;32m<ipython-input-214-dd0e4fbbb79a>\u001b[0m in \u001b[0;36mfibonacci\u001b[0;34m(n)\u001b[0m\n\u001b[1;32m      6\u001b[0m     \u001b[0;32mreturn\u001b[0m \u001b[0;36m1\u001b[0m\u001b[0;34m\u001b[0m\u001b[0;34m\u001b[0m\u001b[0m\n\u001b[1;32m      7\u001b[0m   \u001b[0;32melse\u001b[0m\u001b[0;34m:\u001b[0m\u001b[0;34m\u001b[0m\u001b[0;34m\u001b[0m\u001b[0m\n\u001b[0;32m----> 8\u001b[0;31m     \u001b[0;32mreturn\u001b[0m \u001b[0mfibonacci\u001b[0m\u001b[0;34m(\u001b[0m\u001b[0mn\u001b[0m\u001b[0;34m-\u001b[0m\u001b[0;36m1\u001b[0m\u001b[0;34m)\u001b[0m \u001b[0;34m+\u001b[0m \u001b[0mfibonacci\u001b[0m\u001b[0;34m(\u001b[0m\u001b[0mn\u001b[0m\u001b[0;34m-\u001b[0m\u001b[0;36m2\u001b[0m\u001b[0;34m)\u001b[0m\u001b[0;34m\u001b[0m\u001b[0;34m\u001b[0m\u001b[0m\n\u001b[0m\u001b[1;32m      9\u001b[0m     \u001b[0;31m# n = 3\u001b[0m\u001b[0;34m\u001b[0m\u001b[0;34m\u001b[0m\u001b[0m\n\u001b[1;32m     10\u001b[0m     \u001b[0;31m# f(3) = f(2) + f(1) = 1 + 1 = 2\u001b[0m\u001b[0;34m\u001b[0m\u001b[0;34m\u001b[0m\u001b[0m\n",
            "\u001b[0;32m<ipython-input-214-dd0e4fbbb79a>\u001b[0m in \u001b[0;36mfibonacci\u001b[0;34m(n)\u001b[0m\n\u001b[1;32m      6\u001b[0m     \u001b[0;32mreturn\u001b[0m \u001b[0;36m1\u001b[0m\u001b[0;34m\u001b[0m\u001b[0;34m\u001b[0m\u001b[0m\n\u001b[1;32m      7\u001b[0m   \u001b[0;32melse\u001b[0m\u001b[0;34m:\u001b[0m\u001b[0;34m\u001b[0m\u001b[0;34m\u001b[0m\u001b[0m\n\u001b[0;32m----> 8\u001b[0;31m     \u001b[0;32mreturn\u001b[0m \u001b[0mfibonacci\u001b[0m\u001b[0;34m(\u001b[0m\u001b[0mn\u001b[0m\u001b[0;34m-\u001b[0m\u001b[0;36m1\u001b[0m\u001b[0;34m)\u001b[0m \u001b[0;34m+\u001b[0m \u001b[0mfibonacci\u001b[0m\u001b[0;34m(\u001b[0m\u001b[0mn\u001b[0m\u001b[0;34m-\u001b[0m\u001b[0;36m2\u001b[0m\u001b[0;34m)\u001b[0m\u001b[0;34m\u001b[0m\u001b[0;34m\u001b[0m\u001b[0m\n\u001b[0m\u001b[1;32m      9\u001b[0m     \u001b[0;31m# n = 3\u001b[0m\u001b[0;34m\u001b[0m\u001b[0;34m\u001b[0m\u001b[0m\n\u001b[1;32m     10\u001b[0m     \u001b[0;31m# f(3) = f(2) + f(1) = 1 + 1 = 2\u001b[0m\u001b[0;34m\u001b[0m\u001b[0;34m\u001b[0m\u001b[0m\n",
            "\u001b[0;32m<ipython-input-214-dd0e4fbbb79a>\u001b[0m in \u001b[0;36mfibonacci\u001b[0;34m(n)\u001b[0m\n\u001b[1;32m      6\u001b[0m     \u001b[0;32mreturn\u001b[0m \u001b[0;36m1\u001b[0m\u001b[0;34m\u001b[0m\u001b[0;34m\u001b[0m\u001b[0m\n\u001b[1;32m      7\u001b[0m   \u001b[0;32melse\u001b[0m\u001b[0;34m:\u001b[0m\u001b[0;34m\u001b[0m\u001b[0;34m\u001b[0m\u001b[0m\n\u001b[0;32m----> 8\u001b[0;31m     \u001b[0;32mreturn\u001b[0m \u001b[0mfibonacci\u001b[0m\u001b[0;34m(\u001b[0m\u001b[0mn\u001b[0m\u001b[0;34m-\u001b[0m\u001b[0;36m1\u001b[0m\u001b[0;34m)\u001b[0m \u001b[0;34m+\u001b[0m \u001b[0mfibonacci\u001b[0m\u001b[0;34m(\u001b[0m\u001b[0mn\u001b[0m\u001b[0;34m-\u001b[0m\u001b[0;36m2\u001b[0m\u001b[0;34m)\u001b[0m\u001b[0;34m\u001b[0m\u001b[0;34m\u001b[0m\u001b[0m\n\u001b[0m\u001b[1;32m      9\u001b[0m     \u001b[0;31m# n = 3\u001b[0m\u001b[0;34m\u001b[0m\u001b[0;34m\u001b[0m\u001b[0m\n\u001b[1;32m     10\u001b[0m     \u001b[0;31m# f(3) = f(2) + f(1) = 1 + 1 = 2\u001b[0m\u001b[0;34m\u001b[0m\u001b[0;34m\u001b[0m\u001b[0m\n",
            "\u001b[0;32m<ipython-input-214-dd0e4fbbb79a>\u001b[0m in \u001b[0;36mfibonacci\u001b[0;34m(n)\u001b[0m\n\u001b[1;32m      6\u001b[0m     \u001b[0;32mreturn\u001b[0m \u001b[0;36m1\u001b[0m\u001b[0;34m\u001b[0m\u001b[0;34m\u001b[0m\u001b[0m\n\u001b[1;32m      7\u001b[0m   \u001b[0;32melse\u001b[0m\u001b[0;34m:\u001b[0m\u001b[0;34m\u001b[0m\u001b[0;34m\u001b[0m\u001b[0m\n\u001b[0;32m----> 8\u001b[0;31m     \u001b[0;32mreturn\u001b[0m \u001b[0mfibonacci\u001b[0m\u001b[0;34m(\u001b[0m\u001b[0mn\u001b[0m\u001b[0;34m-\u001b[0m\u001b[0;36m1\u001b[0m\u001b[0;34m)\u001b[0m \u001b[0;34m+\u001b[0m \u001b[0mfibonacci\u001b[0m\u001b[0;34m(\u001b[0m\u001b[0mn\u001b[0m\u001b[0;34m-\u001b[0m\u001b[0;36m2\u001b[0m\u001b[0;34m)\u001b[0m\u001b[0;34m\u001b[0m\u001b[0;34m\u001b[0m\u001b[0m\n\u001b[0m\u001b[1;32m      9\u001b[0m     \u001b[0;31m# n = 3\u001b[0m\u001b[0;34m\u001b[0m\u001b[0;34m\u001b[0m\u001b[0m\n\u001b[1;32m     10\u001b[0m     \u001b[0;31m# f(3) = f(2) + f(1) = 1 + 1 = 2\u001b[0m\u001b[0;34m\u001b[0m\u001b[0;34m\u001b[0m\u001b[0m\n",
            "\u001b[0;32m<ipython-input-214-dd0e4fbbb79a>\u001b[0m in \u001b[0;36mfibonacci\u001b[0;34m(n)\u001b[0m\n\u001b[1;32m      6\u001b[0m     \u001b[0;32mreturn\u001b[0m \u001b[0;36m1\u001b[0m\u001b[0;34m\u001b[0m\u001b[0;34m\u001b[0m\u001b[0m\n\u001b[1;32m      7\u001b[0m   \u001b[0;32melse\u001b[0m\u001b[0;34m:\u001b[0m\u001b[0;34m\u001b[0m\u001b[0;34m\u001b[0m\u001b[0m\n\u001b[0;32m----> 8\u001b[0;31m     \u001b[0;32mreturn\u001b[0m \u001b[0mfibonacci\u001b[0m\u001b[0;34m(\u001b[0m\u001b[0mn\u001b[0m\u001b[0;34m-\u001b[0m\u001b[0;36m1\u001b[0m\u001b[0;34m)\u001b[0m \u001b[0;34m+\u001b[0m \u001b[0mfibonacci\u001b[0m\u001b[0;34m(\u001b[0m\u001b[0mn\u001b[0m\u001b[0;34m-\u001b[0m\u001b[0;36m2\u001b[0m\u001b[0;34m)\u001b[0m\u001b[0;34m\u001b[0m\u001b[0;34m\u001b[0m\u001b[0m\n\u001b[0m\u001b[1;32m      9\u001b[0m     \u001b[0;31m# n = 3\u001b[0m\u001b[0;34m\u001b[0m\u001b[0;34m\u001b[0m\u001b[0m\n\u001b[1;32m     10\u001b[0m     \u001b[0;31m# f(3) = f(2) + f(1) = 1 + 1 = 2\u001b[0m\u001b[0;34m\u001b[0m\u001b[0;34m\u001b[0m\u001b[0m\n",
            "\u001b[0;32m<ipython-input-214-dd0e4fbbb79a>\u001b[0m in \u001b[0;36mfibonacci\u001b[0;34m(n)\u001b[0m\n\u001b[1;32m      6\u001b[0m     \u001b[0;32mreturn\u001b[0m \u001b[0;36m1\u001b[0m\u001b[0;34m\u001b[0m\u001b[0;34m\u001b[0m\u001b[0m\n\u001b[1;32m      7\u001b[0m   \u001b[0;32melse\u001b[0m\u001b[0;34m:\u001b[0m\u001b[0;34m\u001b[0m\u001b[0;34m\u001b[0m\u001b[0m\n\u001b[0;32m----> 8\u001b[0;31m     \u001b[0;32mreturn\u001b[0m \u001b[0mfibonacci\u001b[0m\u001b[0;34m(\u001b[0m\u001b[0mn\u001b[0m\u001b[0;34m-\u001b[0m\u001b[0;36m1\u001b[0m\u001b[0;34m)\u001b[0m \u001b[0;34m+\u001b[0m \u001b[0mfibonacci\u001b[0m\u001b[0;34m(\u001b[0m\u001b[0mn\u001b[0m\u001b[0;34m-\u001b[0m\u001b[0;36m2\u001b[0m\u001b[0;34m)\u001b[0m\u001b[0;34m\u001b[0m\u001b[0;34m\u001b[0m\u001b[0m\n\u001b[0m\u001b[1;32m      9\u001b[0m     \u001b[0;31m# n = 3\u001b[0m\u001b[0;34m\u001b[0m\u001b[0;34m\u001b[0m\u001b[0m\n\u001b[1;32m     10\u001b[0m     \u001b[0;31m# f(3) = f(2) + f(1) = 1 + 1 = 2\u001b[0m\u001b[0;34m\u001b[0m\u001b[0;34m\u001b[0m\u001b[0m\n",
            "\u001b[0;32m<ipython-input-214-dd0e4fbbb79a>\u001b[0m in \u001b[0;36mfibonacci\u001b[0;34m(n)\u001b[0m\n\u001b[1;32m      6\u001b[0m     \u001b[0;32mreturn\u001b[0m \u001b[0;36m1\u001b[0m\u001b[0;34m\u001b[0m\u001b[0;34m\u001b[0m\u001b[0m\n\u001b[1;32m      7\u001b[0m   \u001b[0;32melse\u001b[0m\u001b[0;34m:\u001b[0m\u001b[0;34m\u001b[0m\u001b[0;34m\u001b[0m\u001b[0m\n\u001b[0;32m----> 8\u001b[0;31m     \u001b[0;32mreturn\u001b[0m \u001b[0mfibonacci\u001b[0m\u001b[0;34m(\u001b[0m\u001b[0mn\u001b[0m\u001b[0;34m-\u001b[0m\u001b[0;36m1\u001b[0m\u001b[0;34m)\u001b[0m \u001b[0;34m+\u001b[0m \u001b[0mfibonacci\u001b[0m\u001b[0;34m(\u001b[0m\u001b[0mn\u001b[0m\u001b[0;34m-\u001b[0m\u001b[0;36m2\u001b[0m\u001b[0;34m)\u001b[0m\u001b[0;34m\u001b[0m\u001b[0;34m\u001b[0m\u001b[0m\n\u001b[0m\u001b[1;32m      9\u001b[0m     \u001b[0;31m# n = 3\u001b[0m\u001b[0;34m\u001b[0m\u001b[0;34m\u001b[0m\u001b[0m\n\u001b[1;32m     10\u001b[0m     \u001b[0;31m# f(3) = f(2) + f(1) = 1 + 1 = 2\u001b[0m\u001b[0;34m\u001b[0m\u001b[0;34m\u001b[0m\u001b[0m\n",
            "\u001b[0;32m<ipython-input-214-dd0e4fbbb79a>\u001b[0m in \u001b[0;36mfibonacci\u001b[0;34m(n)\u001b[0m\n\u001b[1;32m      6\u001b[0m     \u001b[0;32mreturn\u001b[0m \u001b[0;36m1\u001b[0m\u001b[0;34m\u001b[0m\u001b[0;34m\u001b[0m\u001b[0m\n\u001b[1;32m      7\u001b[0m   \u001b[0;32melse\u001b[0m\u001b[0;34m:\u001b[0m\u001b[0;34m\u001b[0m\u001b[0;34m\u001b[0m\u001b[0m\n\u001b[0;32m----> 8\u001b[0;31m     \u001b[0;32mreturn\u001b[0m \u001b[0mfibonacci\u001b[0m\u001b[0;34m(\u001b[0m\u001b[0mn\u001b[0m\u001b[0;34m-\u001b[0m\u001b[0;36m1\u001b[0m\u001b[0;34m)\u001b[0m \u001b[0;34m+\u001b[0m \u001b[0mfibonacci\u001b[0m\u001b[0;34m(\u001b[0m\u001b[0mn\u001b[0m\u001b[0;34m-\u001b[0m\u001b[0;36m2\u001b[0m\u001b[0;34m)\u001b[0m\u001b[0;34m\u001b[0m\u001b[0;34m\u001b[0m\u001b[0m\n\u001b[0m\u001b[1;32m      9\u001b[0m     \u001b[0;31m# n = 3\u001b[0m\u001b[0;34m\u001b[0m\u001b[0;34m\u001b[0m\u001b[0m\n\u001b[1;32m     10\u001b[0m     \u001b[0;31m# f(3) = f(2) + f(1) = 1 + 1 = 2\u001b[0m\u001b[0;34m\u001b[0m\u001b[0;34m\u001b[0m\u001b[0m\n",
            "\u001b[0;32m<ipython-input-214-dd0e4fbbb79a>\u001b[0m in \u001b[0;36mfibonacci\u001b[0;34m(n)\u001b[0m\n\u001b[1;32m      6\u001b[0m     \u001b[0;32mreturn\u001b[0m \u001b[0;36m1\u001b[0m\u001b[0;34m\u001b[0m\u001b[0;34m\u001b[0m\u001b[0m\n\u001b[1;32m      7\u001b[0m   \u001b[0;32melse\u001b[0m\u001b[0;34m:\u001b[0m\u001b[0;34m\u001b[0m\u001b[0;34m\u001b[0m\u001b[0m\n\u001b[0;32m----> 8\u001b[0;31m     \u001b[0;32mreturn\u001b[0m \u001b[0mfibonacci\u001b[0m\u001b[0;34m(\u001b[0m\u001b[0mn\u001b[0m\u001b[0;34m-\u001b[0m\u001b[0;36m1\u001b[0m\u001b[0;34m)\u001b[0m \u001b[0;34m+\u001b[0m \u001b[0mfibonacci\u001b[0m\u001b[0;34m(\u001b[0m\u001b[0mn\u001b[0m\u001b[0;34m-\u001b[0m\u001b[0;36m2\u001b[0m\u001b[0;34m)\u001b[0m\u001b[0;34m\u001b[0m\u001b[0;34m\u001b[0m\u001b[0m\n\u001b[0m\u001b[1;32m      9\u001b[0m     \u001b[0;31m# n = 3\u001b[0m\u001b[0;34m\u001b[0m\u001b[0;34m\u001b[0m\u001b[0m\n\u001b[1;32m     10\u001b[0m     \u001b[0;31m# f(3) = f(2) + f(1) = 1 + 1 = 2\u001b[0m\u001b[0;34m\u001b[0m\u001b[0;34m\u001b[0m\u001b[0m\n",
            "\u001b[0;32m<ipython-input-214-dd0e4fbbb79a>\u001b[0m in \u001b[0;36mfibonacci\u001b[0;34m(n)\u001b[0m\n\u001b[1;32m      6\u001b[0m     \u001b[0;32mreturn\u001b[0m \u001b[0;36m1\u001b[0m\u001b[0;34m\u001b[0m\u001b[0;34m\u001b[0m\u001b[0m\n\u001b[1;32m      7\u001b[0m   \u001b[0;32melse\u001b[0m\u001b[0;34m:\u001b[0m\u001b[0;34m\u001b[0m\u001b[0;34m\u001b[0m\u001b[0m\n\u001b[0;32m----> 8\u001b[0;31m     \u001b[0;32mreturn\u001b[0m \u001b[0mfibonacci\u001b[0m\u001b[0;34m(\u001b[0m\u001b[0mn\u001b[0m\u001b[0;34m-\u001b[0m\u001b[0;36m1\u001b[0m\u001b[0;34m)\u001b[0m \u001b[0;34m+\u001b[0m \u001b[0mfibonacci\u001b[0m\u001b[0;34m(\u001b[0m\u001b[0mn\u001b[0m\u001b[0;34m-\u001b[0m\u001b[0;36m2\u001b[0m\u001b[0;34m)\u001b[0m\u001b[0;34m\u001b[0m\u001b[0;34m\u001b[0m\u001b[0m\n\u001b[0m\u001b[1;32m      9\u001b[0m     \u001b[0;31m# n = 3\u001b[0m\u001b[0;34m\u001b[0m\u001b[0;34m\u001b[0m\u001b[0m\n\u001b[1;32m     10\u001b[0m     \u001b[0;31m# f(3) = f(2) + f(1) = 1 + 1 = 2\u001b[0m\u001b[0;34m\u001b[0m\u001b[0;34m\u001b[0m\u001b[0m\n",
            "\u001b[0;32m<ipython-input-214-dd0e4fbbb79a>\u001b[0m in \u001b[0;36mfibonacci\u001b[0;34m(n)\u001b[0m\n\u001b[1;32m      6\u001b[0m     \u001b[0;32mreturn\u001b[0m \u001b[0;36m1\u001b[0m\u001b[0;34m\u001b[0m\u001b[0;34m\u001b[0m\u001b[0m\n\u001b[1;32m      7\u001b[0m   \u001b[0;32melse\u001b[0m\u001b[0;34m:\u001b[0m\u001b[0;34m\u001b[0m\u001b[0;34m\u001b[0m\u001b[0m\n\u001b[0;32m----> 8\u001b[0;31m     \u001b[0;32mreturn\u001b[0m \u001b[0mfibonacci\u001b[0m\u001b[0;34m(\u001b[0m\u001b[0mn\u001b[0m\u001b[0;34m-\u001b[0m\u001b[0;36m1\u001b[0m\u001b[0;34m)\u001b[0m \u001b[0;34m+\u001b[0m \u001b[0mfibonacci\u001b[0m\u001b[0;34m(\u001b[0m\u001b[0mn\u001b[0m\u001b[0;34m-\u001b[0m\u001b[0;36m2\u001b[0m\u001b[0;34m)\u001b[0m\u001b[0;34m\u001b[0m\u001b[0;34m\u001b[0m\u001b[0m\n\u001b[0m\u001b[1;32m      9\u001b[0m     \u001b[0;31m# n = 3\u001b[0m\u001b[0;34m\u001b[0m\u001b[0;34m\u001b[0m\u001b[0m\n\u001b[1;32m     10\u001b[0m     \u001b[0;31m# f(3) = f(2) + f(1) = 1 + 1 = 2\u001b[0m\u001b[0;34m\u001b[0m\u001b[0;34m\u001b[0m\u001b[0m\n",
            "\u001b[0;32m<ipython-input-214-dd0e4fbbb79a>\u001b[0m in \u001b[0;36mfibonacci\u001b[0;34m(n)\u001b[0m\n\u001b[1;32m      6\u001b[0m     \u001b[0;32mreturn\u001b[0m \u001b[0;36m1\u001b[0m\u001b[0;34m\u001b[0m\u001b[0;34m\u001b[0m\u001b[0m\n\u001b[1;32m      7\u001b[0m   \u001b[0;32melse\u001b[0m\u001b[0;34m:\u001b[0m\u001b[0;34m\u001b[0m\u001b[0;34m\u001b[0m\u001b[0m\n\u001b[0;32m----> 8\u001b[0;31m     \u001b[0;32mreturn\u001b[0m \u001b[0mfibonacci\u001b[0m\u001b[0;34m(\u001b[0m\u001b[0mn\u001b[0m\u001b[0;34m-\u001b[0m\u001b[0;36m1\u001b[0m\u001b[0;34m)\u001b[0m \u001b[0;34m+\u001b[0m \u001b[0mfibonacci\u001b[0m\u001b[0;34m(\u001b[0m\u001b[0mn\u001b[0m\u001b[0;34m-\u001b[0m\u001b[0;36m2\u001b[0m\u001b[0;34m)\u001b[0m\u001b[0;34m\u001b[0m\u001b[0;34m\u001b[0m\u001b[0m\n\u001b[0m\u001b[1;32m      9\u001b[0m     \u001b[0;31m# n = 3\u001b[0m\u001b[0;34m\u001b[0m\u001b[0;34m\u001b[0m\u001b[0m\n\u001b[1;32m     10\u001b[0m     \u001b[0;31m# f(3) = f(2) + f(1) = 1 + 1 = 2\u001b[0m\u001b[0;34m\u001b[0m\u001b[0;34m\u001b[0m\u001b[0m\n",
            "\u001b[0;32m<ipython-input-214-dd0e4fbbb79a>\u001b[0m in \u001b[0;36mfibonacci\u001b[0;34m(n)\u001b[0m\n\u001b[1;32m      6\u001b[0m     \u001b[0;32mreturn\u001b[0m \u001b[0;36m1\u001b[0m\u001b[0;34m\u001b[0m\u001b[0;34m\u001b[0m\u001b[0m\n\u001b[1;32m      7\u001b[0m   \u001b[0;32melse\u001b[0m\u001b[0;34m:\u001b[0m\u001b[0;34m\u001b[0m\u001b[0;34m\u001b[0m\u001b[0m\n\u001b[0;32m----> 8\u001b[0;31m     \u001b[0;32mreturn\u001b[0m \u001b[0mfibonacci\u001b[0m\u001b[0;34m(\u001b[0m\u001b[0mn\u001b[0m\u001b[0;34m-\u001b[0m\u001b[0;36m1\u001b[0m\u001b[0;34m)\u001b[0m \u001b[0;34m+\u001b[0m \u001b[0mfibonacci\u001b[0m\u001b[0;34m(\u001b[0m\u001b[0mn\u001b[0m\u001b[0;34m-\u001b[0m\u001b[0;36m2\u001b[0m\u001b[0;34m)\u001b[0m\u001b[0;34m\u001b[0m\u001b[0;34m\u001b[0m\u001b[0m\n\u001b[0m\u001b[1;32m      9\u001b[0m     \u001b[0;31m# n = 3\u001b[0m\u001b[0;34m\u001b[0m\u001b[0;34m\u001b[0m\u001b[0m\n\u001b[1;32m     10\u001b[0m     \u001b[0;31m# f(3) = f(2) + f(1) = 1 + 1 = 2\u001b[0m\u001b[0;34m\u001b[0m\u001b[0;34m\u001b[0m\u001b[0m\n",
            "\u001b[0;32m<ipython-input-214-dd0e4fbbb79a>\u001b[0m in \u001b[0;36mfibonacci\u001b[0;34m(n)\u001b[0m\n\u001b[1;32m      6\u001b[0m     \u001b[0;32mreturn\u001b[0m \u001b[0;36m1\u001b[0m\u001b[0;34m\u001b[0m\u001b[0;34m\u001b[0m\u001b[0m\n\u001b[1;32m      7\u001b[0m   \u001b[0;32melse\u001b[0m\u001b[0;34m:\u001b[0m\u001b[0;34m\u001b[0m\u001b[0;34m\u001b[0m\u001b[0m\n\u001b[0;32m----> 8\u001b[0;31m     \u001b[0;32mreturn\u001b[0m \u001b[0mfibonacci\u001b[0m\u001b[0;34m(\u001b[0m\u001b[0mn\u001b[0m\u001b[0;34m-\u001b[0m\u001b[0;36m1\u001b[0m\u001b[0;34m)\u001b[0m \u001b[0;34m+\u001b[0m \u001b[0mfibonacci\u001b[0m\u001b[0;34m(\u001b[0m\u001b[0mn\u001b[0m\u001b[0;34m-\u001b[0m\u001b[0;36m2\u001b[0m\u001b[0;34m)\u001b[0m\u001b[0;34m\u001b[0m\u001b[0;34m\u001b[0m\u001b[0m\n\u001b[0m\u001b[1;32m      9\u001b[0m     \u001b[0;31m# n = 3\u001b[0m\u001b[0;34m\u001b[0m\u001b[0;34m\u001b[0m\u001b[0m\n\u001b[1;32m     10\u001b[0m     \u001b[0;31m# f(3) = f(2) + f(1) = 1 + 1 = 2\u001b[0m\u001b[0;34m\u001b[0m\u001b[0;34m\u001b[0m\u001b[0m\n",
            "\u001b[0;32m<ipython-input-214-dd0e4fbbb79a>\u001b[0m in \u001b[0;36mfibonacci\u001b[0;34m(n)\u001b[0m\n\u001b[1;32m      6\u001b[0m     \u001b[0;32mreturn\u001b[0m \u001b[0;36m1\u001b[0m\u001b[0;34m\u001b[0m\u001b[0;34m\u001b[0m\u001b[0m\n\u001b[1;32m      7\u001b[0m   \u001b[0;32melse\u001b[0m\u001b[0;34m:\u001b[0m\u001b[0;34m\u001b[0m\u001b[0;34m\u001b[0m\u001b[0m\n\u001b[0;32m----> 8\u001b[0;31m     \u001b[0;32mreturn\u001b[0m \u001b[0mfibonacci\u001b[0m\u001b[0;34m(\u001b[0m\u001b[0mn\u001b[0m\u001b[0;34m-\u001b[0m\u001b[0;36m1\u001b[0m\u001b[0;34m)\u001b[0m \u001b[0;34m+\u001b[0m \u001b[0mfibonacci\u001b[0m\u001b[0;34m(\u001b[0m\u001b[0mn\u001b[0m\u001b[0;34m-\u001b[0m\u001b[0;36m2\u001b[0m\u001b[0;34m)\u001b[0m\u001b[0;34m\u001b[0m\u001b[0;34m\u001b[0m\u001b[0m\n\u001b[0m\u001b[1;32m      9\u001b[0m     \u001b[0;31m# n = 3\u001b[0m\u001b[0;34m\u001b[0m\u001b[0;34m\u001b[0m\u001b[0m\n\u001b[1;32m     10\u001b[0m     \u001b[0;31m# f(3) = f(2) + f(1) = 1 + 1 = 2\u001b[0m\u001b[0;34m\u001b[0m\u001b[0;34m\u001b[0m\u001b[0m\n",
            "\u001b[0;32m<ipython-input-214-dd0e4fbbb79a>\u001b[0m in \u001b[0;36mfibonacci\u001b[0;34m(n)\u001b[0m\n\u001b[1;32m      6\u001b[0m     \u001b[0;32mreturn\u001b[0m \u001b[0;36m1\u001b[0m\u001b[0;34m\u001b[0m\u001b[0;34m\u001b[0m\u001b[0m\n\u001b[1;32m      7\u001b[0m   \u001b[0;32melse\u001b[0m\u001b[0;34m:\u001b[0m\u001b[0;34m\u001b[0m\u001b[0;34m\u001b[0m\u001b[0m\n\u001b[0;32m----> 8\u001b[0;31m     \u001b[0;32mreturn\u001b[0m \u001b[0mfibonacci\u001b[0m\u001b[0;34m(\u001b[0m\u001b[0mn\u001b[0m\u001b[0;34m-\u001b[0m\u001b[0;36m1\u001b[0m\u001b[0;34m)\u001b[0m \u001b[0;34m+\u001b[0m \u001b[0mfibonacci\u001b[0m\u001b[0;34m(\u001b[0m\u001b[0mn\u001b[0m\u001b[0;34m-\u001b[0m\u001b[0;36m2\u001b[0m\u001b[0;34m)\u001b[0m\u001b[0;34m\u001b[0m\u001b[0;34m\u001b[0m\u001b[0m\n\u001b[0m\u001b[1;32m      9\u001b[0m     \u001b[0;31m# n = 3\u001b[0m\u001b[0;34m\u001b[0m\u001b[0;34m\u001b[0m\u001b[0m\n\u001b[1;32m     10\u001b[0m     \u001b[0;31m# f(3) = f(2) + f(1) = 1 + 1 = 2\u001b[0m\u001b[0;34m\u001b[0m\u001b[0;34m\u001b[0m\u001b[0m\n",
            "\u001b[0;32m<ipython-input-214-dd0e4fbbb79a>\u001b[0m in \u001b[0;36mfibonacci\u001b[0;34m(n)\u001b[0m\n\u001b[1;32m      6\u001b[0m     \u001b[0;32mreturn\u001b[0m \u001b[0;36m1\u001b[0m\u001b[0;34m\u001b[0m\u001b[0;34m\u001b[0m\u001b[0m\n\u001b[1;32m      7\u001b[0m   \u001b[0;32melse\u001b[0m\u001b[0;34m:\u001b[0m\u001b[0;34m\u001b[0m\u001b[0;34m\u001b[0m\u001b[0m\n\u001b[0;32m----> 8\u001b[0;31m     \u001b[0;32mreturn\u001b[0m \u001b[0mfibonacci\u001b[0m\u001b[0;34m(\u001b[0m\u001b[0mn\u001b[0m\u001b[0;34m-\u001b[0m\u001b[0;36m1\u001b[0m\u001b[0;34m)\u001b[0m \u001b[0;34m+\u001b[0m \u001b[0mfibonacci\u001b[0m\u001b[0;34m(\u001b[0m\u001b[0mn\u001b[0m\u001b[0;34m-\u001b[0m\u001b[0;36m2\u001b[0m\u001b[0;34m)\u001b[0m\u001b[0;34m\u001b[0m\u001b[0;34m\u001b[0m\u001b[0m\n\u001b[0m\u001b[1;32m      9\u001b[0m     \u001b[0;31m# n = 3\u001b[0m\u001b[0;34m\u001b[0m\u001b[0;34m\u001b[0m\u001b[0m\n\u001b[1;32m     10\u001b[0m     \u001b[0;31m# f(3) = f(2) + f(1) = 1 + 1 = 2\u001b[0m\u001b[0;34m\u001b[0m\u001b[0;34m\u001b[0m\u001b[0m\n",
            "\u001b[0;32m<ipython-input-214-dd0e4fbbb79a>\u001b[0m in \u001b[0;36mfibonacci\u001b[0;34m(n)\u001b[0m\n\u001b[1;32m      6\u001b[0m     \u001b[0;32mreturn\u001b[0m \u001b[0;36m1\u001b[0m\u001b[0;34m\u001b[0m\u001b[0;34m\u001b[0m\u001b[0m\n\u001b[1;32m      7\u001b[0m   \u001b[0;32melse\u001b[0m\u001b[0;34m:\u001b[0m\u001b[0;34m\u001b[0m\u001b[0;34m\u001b[0m\u001b[0m\n\u001b[0;32m----> 8\u001b[0;31m     \u001b[0;32mreturn\u001b[0m \u001b[0mfibonacci\u001b[0m\u001b[0;34m(\u001b[0m\u001b[0mn\u001b[0m\u001b[0;34m-\u001b[0m\u001b[0;36m1\u001b[0m\u001b[0;34m)\u001b[0m \u001b[0;34m+\u001b[0m \u001b[0mfibonacci\u001b[0m\u001b[0;34m(\u001b[0m\u001b[0mn\u001b[0m\u001b[0;34m-\u001b[0m\u001b[0;36m2\u001b[0m\u001b[0;34m)\u001b[0m\u001b[0;34m\u001b[0m\u001b[0;34m\u001b[0m\u001b[0m\n\u001b[0m\u001b[1;32m      9\u001b[0m     \u001b[0;31m# n = 3\u001b[0m\u001b[0;34m\u001b[0m\u001b[0;34m\u001b[0m\u001b[0m\n\u001b[1;32m     10\u001b[0m     \u001b[0;31m# f(3) = f(2) + f(1) = 1 + 1 = 2\u001b[0m\u001b[0;34m\u001b[0m\u001b[0;34m\u001b[0m\u001b[0m\n",
            "\u001b[0;32m<ipython-input-214-dd0e4fbbb79a>\u001b[0m in \u001b[0;36mfibonacci\u001b[0;34m(n)\u001b[0m\n\u001b[1;32m      6\u001b[0m     \u001b[0;32mreturn\u001b[0m \u001b[0;36m1\u001b[0m\u001b[0;34m\u001b[0m\u001b[0;34m\u001b[0m\u001b[0m\n\u001b[1;32m      7\u001b[0m   \u001b[0;32melse\u001b[0m\u001b[0;34m:\u001b[0m\u001b[0;34m\u001b[0m\u001b[0;34m\u001b[0m\u001b[0m\n\u001b[0;32m----> 8\u001b[0;31m     \u001b[0;32mreturn\u001b[0m \u001b[0mfibonacci\u001b[0m\u001b[0;34m(\u001b[0m\u001b[0mn\u001b[0m\u001b[0;34m-\u001b[0m\u001b[0;36m1\u001b[0m\u001b[0;34m)\u001b[0m \u001b[0;34m+\u001b[0m \u001b[0mfibonacci\u001b[0m\u001b[0;34m(\u001b[0m\u001b[0mn\u001b[0m\u001b[0;34m-\u001b[0m\u001b[0;36m2\u001b[0m\u001b[0;34m)\u001b[0m\u001b[0;34m\u001b[0m\u001b[0;34m\u001b[0m\u001b[0m\n\u001b[0m\u001b[1;32m      9\u001b[0m     \u001b[0;31m# n = 3\u001b[0m\u001b[0;34m\u001b[0m\u001b[0;34m\u001b[0m\u001b[0m\n\u001b[1;32m     10\u001b[0m     \u001b[0;31m# f(3) = f(2) + f(1) = 1 + 1 = 2\u001b[0m\u001b[0;34m\u001b[0m\u001b[0;34m\u001b[0m\u001b[0m\n",
            "\u001b[0;32m<ipython-input-214-dd0e4fbbb79a>\u001b[0m in \u001b[0;36mfibonacci\u001b[0;34m(n)\u001b[0m\n\u001b[1;32m      6\u001b[0m     \u001b[0;32mreturn\u001b[0m \u001b[0;36m1\u001b[0m\u001b[0;34m\u001b[0m\u001b[0;34m\u001b[0m\u001b[0m\n\u001b[1;32m      7\u001b[0m   \u001b[0;32melse\u001b[0m\u001b[0;34m:\u001b[0m\u001b[0;34m\u001b[0m\u001b[0;34m\u001b[0m\u001b[0m\n\u001b[0;32m----> 8\u001b[0;31m     \u001b[0;32mreturn\u001b[0m \u001b[0mfibonacci\u001b[0m\u001b[0;34m(\u001b[0m\u001b[0mn\u001b[0m\u001b[0;34m-\u001b[0m\u001b[0;36m1\u001b[0m\u001b[0;34m)\u001b[0m \u001b[0;34m+\u001b[0m \u001b[0mfibonacci\u001b[0m\u001b[0;34m(\u001b[0m\u001b[0mn\u001b[0m\u001b[0;34m-\u001b[0m\u001b[0;36m2\u001b[0m\u001b[0;34m)\u001b[0m\u001b[0;34m\u001b[0m\u001b[0;34m\u001b[0m\u001b[0m\n\u001b[0m\u001b[1;32m      9\u001b[0m     \u001b[0;31m# n = 3\u001b[0m\u001b[0;34m\u001b[0m\u001b[0;34m\u001b[0m\u001b[0m\n\u001b[1;32m     10\u001b[0m     \u001b[0;31m# f(3) = f(2) + f(1) = 1 + 1 = 2\u001b[0m\u001b[0;34m\u001b[0m\u001b[0;34m\u001b[0m\u001b[0m\n",
            "\u001b[0;32m<ipython-input-214-dd0e4fbbb79a>\u001b[0m in \u001b[0;36mfibonacci\u001b[0;34m(n)\u001b[0m\n\u001b[1;32m      6\u001b[0m     \u001b[0;32mreturn\u001b[0m \u001b[0;36m1\u001b[0m\u001b[0;34m\u001b[0m\u001b[0;34m\u001b[0m\u001b[0m\n\u001b[1;32m      7\u001b[0m   \u001b[0;32melse\u001b[0m\u001b[0;34m:\u001b[0m\u001b[0;34m\u001b[0m\u001b[0;34m\u001b[0m\u001b[0m\n\u001b[0;32m----> 8\u001b[0;31m     \u001b[0;32mreturn\u001b[0m \u001b[0mfibonacci\u001b[0m\u001b[0;34m(\u001b[0m\u001b[0mn\u001b[0m\u001b[0;34m-\u001b[0m\u001b[0;36m1\u001b[0m\u001b[0;34m)\u001b[0m \u001b[0;34m+\u001b[0m \u001b[0mfibonacci\u001b[0m\u001b[0;34m(\u001b[0m\u001b[0mn\u001b[0m\u001b[0;34m-\u001b[0m\u001b[0;36m2\u001b[0m\u001b[0;34m)\u001b[0m\u001b[0;34m\u001b[0m\u001b[0;34m\u001b[0m\u001b[0m\n\u001b[0m\u001b[1;32m      9\u001b[0m     \u001b[0;31m# n = 3\u001b[0m\u001b[0;34m\u001b[0m\u001b[0;34m\u001b[0m\u001b[0m\n\u001b[1;32m     10\u001b[0m     \u001b[0;31m# f(3) = f(2) + f(1) = 1 + 1 = 2\u001b[0m\u001b[0;34m\u001b[0m\u001b[0;34m\u001b[0m\u001b[0m\n",
            "\u001b[0;32m<ipython-input-214-dd0e4fbbb79a>\u001b[0m in \u001b[0;36mfibonacci\u001b[0;34m(n)\u001b[0m\n\u001b[1;32m      6\u001b[0m     \u001b[0;32mreturn\u001b[0m \u001b[0;36m1\u001b[0m\u001b[0;34m\u001b[0m\u001b[0;34m\u001b[0m\u001b[0m\n\u001b[1;32m      7\u001b[0m   \u001b[0;32melse\u001b[0m\u001b[0;34m:\u001b[0m\u001b[0;34m\u001b[0m\u001b[0;34m\u001b[0m\u001b[0m\n\u001b[0;32m----> 8\u001b[0;31m     \u001b[0;32mreturn\u001b[0m \u001b[0mfibonacci\u001b[0m\u001b[0;34m(\u001b[0m\u001b[0mn\u001b[0m\u001b[0;34m-\u001b[0m\u001b[0;36m1\u001b[0m\u001b[0;34m)\u001b[0m \u001b[0;34m+\u001b[0m \u001b[0mfibonacci\u001b[0m\u001b[0;34m(\u001b[0m\u001b[0mn\u001b[0m\u001b[0;34m-\u001b[0m\u001b[0;36m2\u001b[0m\u001b[0;34m)\u001b[0m\u001b[0;34m\u001b[0m\u001b[0;34m\u001b[0m\u001b[0m\n\u001b[0m\u001b[1;32m      9\u001b[0m     \u001b[0;31m# n = 3\u001b[0m\u001b[0;34m\u001b[0m\u001b[0;34m\u001b[0m\u001b[0m\n\u001b[1;32m     10\u001b[0m     \u001b[0;31m# f(3) = f(2) + f(1) = 1 + 1 = 2\u001b[0m\u001b[0;34m\u001b[0m\u001b[0;34m\u001b[0m\u001b[0m\n",
            "\u001b[0;32m<ipython-input-214-dd0e4fbbb79a>\u001b[0m in \u001b[0;36mfibonacci\u001b[0;34m(n)\u001b[0m\n\u001b[1;32m      6\u001b[0m     \u001b[0;32mreturn\u001b[0m \u001b[0;36m1\u001b[0m\u001b[0;34m\u001b[0m\u001b[0;34m\u001b[0m\u001b[0m\n\u001b[1;32m      7\u001b[0m   \u001b[0;32melse\u001b[0m\u001b[0;34m:\u001b[0m\u001b[0;34m\u001b[0m\u001b[0;34m\u001b[0m\u001b[0m\n\u001b[0;32m----> 8\u001b[0;31m     \u001b[0;32mreturn\u001b[0m \u001b[0mfibonacci\u001b[0m\u001b[0;34m(\u001b[0m\u001b[0mn\u001b[0m\u001b[0;34m-\u001b[0m\u001b[0;36m1\u001b[0m\u001b[0;34m)\u001b[0m \u001b[0;34m+\u001b[0m \u001b[0mfibonacci\u001b[0m\u001b[0;34m(\u001b[0m\u001b[0mn\u001b[0m\u001b[0;34m-\u001b[0m\u001b[0;36m2\u001b[0m\u001b[0;34m)\u001b[0m\u001b[0;34m\u001b[0m\u001b[0;34m\u001b[0m\u001b[0m\n\u001b[0m\u001b[1;32m      9\u001b[0m     \u001b[0;31m# n = 3\u001b[0m\u001b[0;34m\u001b[0m\u001b[0;34m\u001b[0m\u001b[0m\n\u001b[1;32m     10\u001b[0m     \u001b[0;31m# f(3) = f(2) + f(1) = 1 + 1 = 2\u001b[0m\u001b[0;34m\u001b[0m\u001b[0;34m\u001b[0m\u001b[0m\n",
            "\u001b[0;32m<ipython-input-214-dd0e4fbbb79a>\u001b[0m in \u001b[0;36mfibonacci\u001b[0;34m(n)\u001b[0m\n\u001b[1;32m      6\u001b[0m     \u001b[0;32mreturn\u001b[0m \u001b[0;36m1\u001b[0m\u001b[0;34m\u001b[0m\u001b[0;34m\u001b[0m\u001b[0m\n\u001b[1;32m      7\u001b[0m   \u001b[0;32melse\u001b[0m\u001b[0;34m:\u001b[0m\u001b[0;34m\u001b[0m\u001b[0;34m\u001b[0m\u001b[0m\n\u001b[0;32m----> 8\u001b[0;31m     \u001b[0;32mreturn\u001b[0m \u001b[0mfibonacci\u001b[0m\u001b[0;34m(\u001b[0m\u001b[0mn\u001b[0m\u001b[0;34m-\u001b[0m\u001b[0;36m1\u001b[0m\u001b[0;34m)\u001b[0m \u001b[0;34m+\u001b[0m \u001b[0mfibonacci\u001b[0m\u001b[0;34m(\u001b[0m\u001b[0mn\u001b[0m\u001b[0;34m-\u001b[0m\u001b[0;36m2\u001b[0m\u001b[0;34m)\u001b[0m\u001b[0;34m\u001b[0m\u001b[0;34m\u001b[0m\u001b[0m\n\u001b[0m\u001b[1;32m      9\u001b[0m     \u001b[0;31m# n = 3\u001b[0m\u001b[0;34m\u001b[0m\u001b[0;34m\u001b[0m\u001b[0m\n\u001b[1;32m     10\u001b[0m     \u001b[0;31m# f(3) = f(2) + f(1) = 1 + 1 = 2\u001b[0m\u001b[0;34m\u001b[0m\u001b[0;34m\u001b[0m\u001b[0m\n",
            "\u001b[0;32m<ipython-input-214-dd0e4fbbb79a>\u001b[0m in \u001b[0;36mfibonacci\u001b[0;34m(n)\u001b[0m\n\u001b[1;32m      6\u001b[0m     \u001b[0;32mreturn\u001b[0m \u001b[0;36m1\u001b[0m\u001b[0;34m\u001b[0m\u001b[0;34m\u001b[0m\u001b[0m\n\u001b[1;32m      7\u001b[0m   \u001b[0;32melse\u001b[0m\u001b[0;34m:\u001b[0m\u001b[0;34m\u001b[0m\u001b[0;34m\u001b[0m\u001b[0m\n\u001b[0;32m----> 8\u001b[0;31m     \u001b[0;32mreturn\u001b[0m \u001b[0mfibonacci\u001b[0m\u001b[0;34m(\u001b[0m\u001b[0mn\u001b[0m\u001b[0;34m-\u001b[0m\u001b[0;36m1\u001b[0m\u001b[0;34m)\u001b[0m \u001b[0;34m+\u001b[0m \u001b[0mfibonacci\u001b[0m\u001b[0;34m(\u001b[0m\u001b[0mn\u001b[0m\u001b[0;34m-\u001b[0m\u001b[0;36m2\u001b[0m\u001b[0;34m)\u001b[0m\u001b[0;34m\u001b[0m\u001b[0;34m\u001b[0m\u001b[0m\n\u001b[0m\u001b[1;32m      9\u001b[0m     \u001b[0;31m# n = 3\u001b[0m\u001b[0;34m\u001b[0m\u001b[0;34m\u001b[0m\u001b[0m\n\u001b[1;32m     10\u001b[0m     \u001b[0;31m# f(3) = f(2) + f(1) = 1 + 1 = 2\u001b[0m\u001b[0;34m\u001b[0m\u001b[0;34m\u001b[0m\u001b[0m\n",
            "\u001b[0;32m<ipython-input-214-dd0e4fbbb79a>\u001b[0m in \u001b[0;36mfibonacci\u001b[0;34m(n)\u001b[0m\n\u001b[1;32m      6\u001b[0m     \u001b[0;32mreturn\u001b[0m \u001b[0;36m1\u001b[0m\u001b[0;34m\u001b[0m\u001b[0;34m\u001b[0m\u001b[0m\n\u001b[1;32m      7\u001b[0m   \u001b[0;32melse\u001b[0m\u001b[0;34m:\u001b[0m\u001b[0;34m\u001b[0m\u001b[0;34m\u001b[0m\u001b[0m\n\u001b[0;32m----> 8\u001b[0;31m     \u001b[0;32mreturn\u001b[0m \u001b[0mfibonacci\u001b[0m\u001b[0;34m(\u001b[0m\u001b[0mn\u001b[0m\u001b[0;34m-\u001b[0m\u001b[0;36m1\u001b[0m\u001b[0;34m)\u001b[0m \u001b[0;34m+\u001b[0m \u001b[0mfibonacci\u001b[0m\u001b[0;34m(\u001b[0m\u001b[0mn\u001b[0m\u001b[0;34m-\u001b[0m\u001b[0;36m2\u001b[0m\u001b[0;34m)\u001b[0m\u001b[0;34m\u001b[0m\u001b[0;34m\u001b[0m\u001b[0m\n\u001b[0m\u001b[1;32m      9\u001b[0m     \u001b[0;31m# n = 3\u001b[0m\u001b[0;34m\u001b[0m\u001b[0;34m\u001b[0m\u001b[0m\n\u001b[1;32m     10\u001b[0m     \u001b[0;31m# f(3) = f(2) + f(1) = 1 + 1 = 2\u001b[0m\u001b[0;34m\u001b[0m\u001b[0;34m\u001b[0m\u001b[0m\n",
            "\u001b[0;32m<ipython-input-214-dd0e4fbbb79a>\u001b[0m in \u001b[0;36mfibonacci\u001b[0;34m(n)\u001b[0m\n\u001b[1;32m      6\u001b[0m     \u001b[0;32mreturn\u001b[0m \u001b[0;36m1\u001b[0m\u001b[0;34m\u001b[0m\u001b[0;34m\u001b[0m\u001b[0m\n\u001b[1;32m      7\u001b[0m   \u001b[0;32melse\u001b[0m\u001b[0;34m:\u001b[0m\u001b[0;34m\u001b[0m\u001b[0;34m\u001b[0m\u001b[0m\n\u001b[0;32m----> 8\u001b[0;31m     \u001b[0;32mreturn\u001b[0m \u001b[0mfibonacci\u001b[0m\u001b[0;34m(\u001b[0m\u001b[0mn\u001b[0m\u001b[0;34m-\u001b[0m\u001b[0;36m1\u001b[0m\u001b[0;34m)\u001b[0m \u001b[0;34m+\u001b[0m \u001b[0mfibonacci\u001b[0m\u001b[0;34m(\u001b[0m\u001b[0mn\u001b[0m\u001b[0;34m-\u001b[0m\u001b[0;36m2\u001b[0m\u001b[0;34m)\u001b[0m\u001b[0;34m\u001b[0m\u001b[0;34m\u001b[0m\u001b[0m\n\u001b[0m\u001b[1;32m      9\u001b[0m     \u001b[0;31m# n = 3\u001b[0m\u001b[0;34m\u001b[0m\u001b[0;34m\u001b[0m\u001b[0m\n\u001b[1;32m     10\u001b[0m     \u001b[0;31m# f(3) = f(2) + f(1) = 1 + 1 = 2\u001b[0m\u001b[0;34m\u001b[0m\u001b[0;34m\u001b[0m\u001b[0m\n",
            "\u001b[0;32m<ipython-input-214-dd0e4fbbb79a>\u001b[0m in \u001b[0;36mfibonacci\u001b[0;34m(n)\u001b[0m\n\u001b[1;32m      6\u001b[0m     \u001b[0;32mreturn\u001b[0m \u001b[0;36m1\u001b[0m\u001b[0;34m\u001b[0m\u001b[0;34m\u001b[0m\u001b[0m\n\u001b[1;32m      7\u001b[0m   \u001b[0;32melse\u001b[0m\u001b[0;34m:\u001b[0m\u001b[0;34m\u001b[0m\u001b[0;34m\u001b[0m\u001b[0m\n\u001b[0;32m----> 8\u001b[0;31m     \u001b[0;32mreturn\u001b[0m \u001b[0mfibonacci\u001b[0m\u001b[0;34m(\u001b[0m\u001b[0mn\u001b[0m\u001b[0;34m-\u001b[0m\u001b[0;36m1\u001b[0m\u001b[0;34m)\u001b[0m \u001b[0;34m+\u001b[0m \u001b[0mfibonacci\u001b[0m\u001b[0;34m(\u001b[0m\u001b[0mn\u001b[0m\u001b[0;34m-\u001b[0m\u001b[0;36m2\u001b[0m\u001b[0;34m)\u001b[0m\u001b[0;34m\u001b[0m\u001b[0;34m\u001b[0m\u001b[0m\n\u001b[0m\u001b[1;32m      9\u001b[0m     \u001b[0;31m# n = 3\u001b[0m\u001b[0;34m\u001b[0m\u001b[0;34m\u001b[0m\u001b[0m\n\u001b[1;32m     10\u001b[0m     \u001b[0;31m# f(3) = f(2) + f(1) = 1 + 1 = 2\u001b[0m\u001b[0;34m\u001b[0m\u001b[0;34m\u001b[0m\u001b[0m\n",
            "\u001b[0;32m<ipython-input-214-dd0e4fbbb79a>\u001b[0m in \u001b[0;36mfibonacci\u001b[0;34m(n)\u001b[0m\n\u001b[1;32m      6\u001b[0m     \u001b[0;32mreturn\u001b[0m \u001b[0;36m1\u001b[0m\u001b[0;34m\u001b[0m\u001b[0;34m\u001b[0m\u001b[0m\n\u001b[1;32m      7\u001b[0m   \u001b[0;32melse\u001b[0m\u001b[0;34m:\u001b[0m\u001b[0;34m\u001b[0m\u001b[0;34m\u001b[0m\u001b[0m\n\u001b[0;32m----> 8\u001b[0;31m     \u001b[0;32mreturn\u001b[0m \u001b[0mfibonacci\u001b[0m\u001b[0;34m(\u001b[0m\u001b[0mn\u001b[0m\u001b[0;34m-\u001b[0m\u001b[0;36m1\u001b[0m\u001b[0;34m)\u001b[0m \u001b[0;34m+\u001b[0m \u001b[0mfibonacci\u001b[0m\u001b[0;34m(\u001b[0m\u001b[0mn\u001b[0m\u001b[0;34m-\u001b[0m\u001b[0;36m2\u001b[0m\u001b[0;34m)\u001b[0m\u001b[0;34m\u001b[0m\u001b[0;34m\u001b[0m\u001b[0m\n\u001b[0m\u001b[1;32m      9\u001b[0m     \u001b[0;31m# n = 3\u001b[0m\u001b[0;34m\u001b[0m\u001b[0;34m\u001b[0m\u001b[0m\n\u001b[1;32m     10\u001b[0m     \u001b[0;31m# f(3) = f(2) + f(1) = 1 + 1 = 2\u001b[0m\u001b[0;34m\u001b[0m\u001b[0;34m\u001b[0m\u001b[0m\n",
            "\u001b[0;32m<ipython-input-214-dd0e4fbbb79a>\u001b[0m in \u001b[0;36mfibonacci\u001b[0;34m(n)\u001b[0m\n\u001b[1;32m      6\u001b[0m     \u001b[0;32mreturn\u001b[0m \u001b[0;36m1\u001b[0m\u001b[0;34m\u001b[0m\u001b[0;34m\u001b[0m\u001b[0m\n\u001b[1;32m      7\u001b[0m   \u001b[0;32melse\u001b[0m\u001b[0;34m:\u001b[0m\u001b[0;34m\u001b[0m\u001b[0;34m\u001b[0m\u001b[0m\n\u001b[0;32m----> 8\u001b[0;31m     \u001b[0;32mreturn\u001b[0m \u001b[0mfibonacci\u001b[0m\u001b[0;34m(\u001b[0m\u001b[0mn\u001b[0m\u001b[0;34m-\u001b[0m\u001b[0;36m1\u001b[0m\u001b[0;34m)\u001b[0m \u001b[0;34m+\u001b[0m \u001b[0mfibonacci\u001b[0m\u001b[0;34m(\u001b[0m\u001b[0mn\u001b[0m\u001b[0;34m-\u001b[0m\u001b[0;36m2\u001b[0m\u001b[0;34m)\u001b[0m\u001b[0;34m\u001b[0m\u001b[0;34m\u001b[0m\u001b[0m\n\u001b[0m\u001b[1;32m      9\u001b[0m     \u001b[0;31m# n = 3\u001b[0m\u001b[0;34m\u001b[0m\u001b[0;34m\u001b[0m\u001b[0m\n\u001b[1;32m     10\u001b[0m     \u001b[0;31m# f(3) = f(2) + f(1) = 1 + 1 = 2\u001b[0m\u001b[0;34m\u001b[0m\u001b[0;34m\u001b[0m\u001b[0m\n",
            "\u001b[0;32m<ipython-input-214-dd0e4fbbb79a>\u001b[0m in \u001b[0;36mfibonacci\u001b[0;34m(n)\u001b[0m\n\u001b[1;32m      6\u001b[0m     \u001b[0;32mreturn\u001b[0m \u001b[0;36m1\u001b[0m\u001b[0;34m\u001b[0m\u001b[0;34m\u001b[0m\u001b[0m\n\u001b[1;32m      7\u001b[0m   \u001b[0;32melse\u001b[0m\u001b[0;34m:\u001b[0m\u001b[0;34m\u001b[0m\u001b[0;34m\u001b[0m\u001b[0m\n\u001b[0;32m----> 8\u001b[0;31m     \u001b[0;32mreturn\u001b[0m \u001b[0mfibonacci\u001b[0m\u001b[0;34m(\u001b[0m\u001b[0mn\u001b[0m\u001b[0;34m-\u001b[0m\u001b[0;36m1\u001b[0m\u001b[0;34m)\u001b[0m \u001b[0;34m+\u001b[0m \u001b[0mfibonacci\u001b[0m\u001b[0;34m(\u001b[0m\u001b[0mn\u001b[0m\u001b[0;34m-\u001b[0m\u001b[0;36m2\u001b[0m\u001b[0;34m)\u001b[0m\u001b[0;34m\u001b[0m\u001b[0;34m\u001b[0m\u001b[0m\n\u001b[0m\u001b[1;32m      9\u001b[0m     \u001b[0;31m# n = 3\u001b[0m\u001b[0;34m\u001b[0m\u001b[0;34m\u001b[0m\u001b[0m\n\u001b[1;32m     10\u001b[0m     \u001b[0;31m# f(3) = f(2) + f(1) = 1 + 1 = 2\u001b[0m\u001b[0;34m\u001b[0m\u001b[0;34m\u001b[0m\u001b[0m\n",
            "\u001b[0;32m<ipython-input-214-dd0e4fbbb79a>\u001b[0m in \u001b[0;36mfibonacci\u001b[0;34m(n)\u001b[0m\n\u001b[1;32m      6\u001b[0m     \u001b[0;32mreturn\u001b[0m \u001b[0;36m1\u001b[0m\u001b[0;34m\u001b[0m\u001b[0;34m\u001b[0m\u001b[0m\n\u001b[1;32m      7\u001b[0m   \u001b[0;32melse\u001b[0m\u001b[0;34m:\u001b[0m\u001b[0;34m\u001b[0m\u001b[0;34m\u001b[0m\u001b[0m\n\u001b[0;32m----> 8\u001b[0;31m     \u001b[0;32mreturn\u001b[0m \u001b[0mfibonacci\u001b[0m\u001b[0;34m(\u001b[0m\u001b[0mn\u001b[0m\u001b[0;34m-\u001b[0m\u001b[0;36m1\u001b[0m\u001b[0;34m)\u001b[0m \u001b[0;34m+\u001b[0m \u001b[0mfibonacci\u001b[0m\u001b[0;34m(\u001b[0m\u001b[0mn\u001b[0m\u001b[0;34m-\u001b[0m\u001b[0;36m2\u001b[0m\u001b[0;34m)\u001b[0m\u001b[0;34m\u001b[0m\u001b[0;34m\u001b[0m\u001b[0m\n\u001b[0m\u001b[1;32m      9\u001b[0m     \u001b[0;31m# n = 3\u001b[0m\u001b[0;34m\u001b[0m\u001b[0;34m\u001b[0m\u001b[0m\n\u001b[1;32m     10\u001b[0m     \u001b[0;31m# f(3) = f(2) + f(1) = 1 + 1 = 2\u001b[0m\u001b[0;34m\u001b[0m\u001b[0;34m\u001b[0m\u001b[0m\n",
            "\u001b[0;32m<ipython-input-214-dd0e4fbbb79a>\u001b[0m in \u001b[0;36mfibonacci\u001b[0;34m(n)\u001b[0m\n\u001b[1;32m      1\u001b[0m \u001b[0;31m# 피보나치 수열 = 앞의 두 숫자를 합한게 다음 숫자\u001b[0m\u001b[0;34m\u001b[0m\u001b[0;34m\u001b[0m\u001b[0m\n\u001b[0;32m----> 2\u001b[0;31m \u001b[0;32mdef\u001b[0m \u001b[0mfibonacci\u001b[0m\u001b[0;34m(\u001b[0m\u001b[0mn\u001b[0m\u001b[0;34m)\u001b[0m\u001b[0;34m:\u001b[0m\u001b[0;34m\u001b[0m\u001b[0;34m\u001b[0m\u001b[0m\n\u001b[0m\u001b[1;32m      3\u001b[0m   \u001b[0;32mif\u001b[0m \u001b[0mn\u001b[0m \u001b[0;34m==\u001b[0m \u001b[0;36m1\u001b[0m\u001b[0;34m:\u001b[0m\u001b[0;34m\u001b[0m\u001b[0;34m\u001b[0m\u001b[0m\n\u001b[1;32m      4\u001b[0m     \u001b[0;32mreturn\u001b[0m \u001b[0;36m1\u001b[0m\u001b[0;34m\u001b[0m\u001b[0;34m\u001b[0m\u001b[0m\n\u001b[1;32m      5\u001b[0m   \u001b[0;32melif\u001b[0m \u001b[0mn\u001b[0m \u001b[0;34m==\u001b[0m \u001b[0;36m2\u001b[0m\u001b[0;34m:\u001b[0m\u001b[0;34m\u001b[0m\u001b[0;34m\u001b[0m\u001b[0m\n",
            "\u001b[0;31mKeyboardInterrupt\u001b[0m: "
          ]
        }
      ]
    },
    {
      "cell_type": "markdown",
      "source": [
        "## 변수 사용 범위"
      ],
      "metadata": {
        "id": "cBmybtUTkwfa"
      }
    },
    {
      "cell_type": "code",
      "source": [
        "def test(y):\n",
        "  print(x)\n",
        "  y = 4 # 지역 변수\n",
        "  print(\"함수 내부: \", y)\n",
        "\n",
        "x = 2 # 전역 변수\n",
        "test(x)\n",
        "print(\"\\n\")\n",
        "print(\"프로그램 전체: \", x)\n",
        "print(\"\\n\")\n",
        "print(\"함수 내부: \", y) # 함수 내부에서만 사용 가능하기 때문에 오류 발생"
      ],
      "metadata": {
        "colab": {
          "base_uri": "https://localhost:8080/",
          "height": 312
        },
        "id": "IqpdxG3nkwfm",
        "outputId": "686bbc17-4f1d-4bcf-c6f9-767b1a4fa0bb"
      },
      "execution_count": null,
      "outputs": [
        {
          "output_type": "stream",
          "name": "stdout",
          "text": [
            "2\n",
            "함수 내부:  4\n",
            "\n",
            "\n",
            "프로그램 전체:  2\n",
            "\n",
            "\n"
          ]
        },
        {
          "output_type": "error",
          "ename": "NameError",
          "evalue": "name 'y' is not defined",
          "traceback": [
            "\u001b[0;31m---------------------------------------------------------------------------\u001b[0m",
            "\u001b[0;31mNameError\u001b[0m                                 Traceback (most recent call last)",
            "\u001b[0;32m<ipython-input-218-ab6d3cf0f57a>\u001b[0m in \u001b[0;36m<cell line: 11>\u001b[0;34m()\u001b[0m\n\u001b[1;32m      9\u001b[0m \u001b[0mprint\u001b[0m\u001b[0;34m(\u001b[0m\u001b[0;34m\"프로그램 전체: \"\u001b[0m\u001b[0;34m,\u001b[0m \u001b[0mx\u001b[0m\u001b[0;34m)\u001b[0m\u001b[0;34m\u001b[0m\u001b[0;34m\u001b[0m\u001b[0m\n\u001b[1;32m     10\u001b[0m \u001b[0mprint\u001b[0m\u001b[0;34m(\u001b[0m\u001b[0;34m\"\\n\"\u001b[0m\u001b[0;34m)\u001b[0m\u001b[0;34m\u001b[0m\u001b[0;34m\u001b[0m\u001b[0m\n\u001b[0;32m---> 11\u001b[0;31m \u001b[0mprint\u001b[0m\u001b[0;34m(\u001b[0m\u001b[0;34m\"함수 내부: \"\u001b[0m\u001b[0;34m,\u001b[0m \u001b[0my\u001b[0m\u001b[0;34m)\u001b[0m \u001b[0;31m# 함수 내부에서만 사용 가능하기 때문에 오류 발생\u001b[0m\u001b[0;34m\u001b[0m\u001b[0;34m\u001b[0m\u001b[0m\n\u001b[0m",
            "\u001b[0;31mNameError\u001b[0m: name 'y' is not defined"
          ]
        }
      ]
    },
    {
      "cell_type": "markdown",
      "source": [
        "## 키워드 global"
      ],
      "metadata": {
        "id": "CPb4gVi_9eJS"
      }
    },
    {
      "cell_type": "code",
      "source": [
        "def test():\n",
        "  s = \"지역변수\"\n",
        "  print(s)\n",
        "\n",
        "test()\n",
        "print(s) # 지역 변수는 함수 실행이 끝나면 사라지기 때문"
      ],
      "metadata": {
        "id": "dCuD1Uxi6TDO",
        "colab": {
          "base_uri": "https://localhost:8080/",
          "height": 202
        },
        "outputId": "ac4ae5bb-d954-43bf-882a-817557cede8d"
      },
      "execution_count": null,
      "outputs": [
        {
          "output_type": "stream",
          "name": "stdout",
          "text": [
            "지역변수\n"
          ]
        },
        {
          "output_type": "error",
          "ename": "NameError",
          "evalue": "name 's' is not defined",
          "traceback": [
            "\u001b[0;31m---------------------------------------------------------------------------\u001b[0m",
            "\u001b[0;31mNameError\u001b[0m                                 Traceback (most recent call last)",
            "\u001b[0;32m<ipython-input-1-9affdaa83b72>\u001b[0m in \u001b[0;36m<cell line: 6>\u001b[0;34m()\u001b[0m\n\u001b[1;32m      4\u001b[0m \u001b[0;34m\u001b[0m\u001b[0m\n\u001b[1;32m      5\u001b[0m \u001b[0mtest\u001b[0m\u001b[0;34m(\u001b[0m\u001b[0;34m)\u001b[0m\u001b[0;34m\u001b[0m\u001b[0;34m\u001b[0m\u001b[0m\n\u001b[0;32m----> 6\u001b[0;31m \u001b[0mprint\u001b[0m\u001b[0;34m(\u001b[0m\u001b[0ms\u001b[0m\u001b[0;34m)\u001b[0m \u001b[0;31m# 지역 변수는 함수 실행이 끝나면 사라지기 때문\u001b[0m\u001b[0;34m\u001b[0m\u001b[0;34m\u001b[0m\u001b[0m\n\u001b[0m",
            "\u001b[0;31mNameError\u001b[0m: name 's' is not defined"
          ]
        }
      ]
    },
    {
      "cell_type": "code",
      "source": [
        "def test():\n",
        "  s = \"지역변수\"\n",
        "  print(s)\n",
        "\n",
        "s = \"전역변수\"\n",
        "test()\n",
        "print(s)"
      ],
      "metadata": {
        "colab": {
          "base_uri": "https://localhost:8080/"
        },
        "id": "pPtbbowJotUz",
        "outputId": "bf728392-e7c8-44a0-fbe5-0e86712e8077"
      },
      "execution_count": null,
      "outputs": [
        {
          "output_type": "stream",
          "name": "stdout",
          "text": [
            "지역변수\n",
            "전역변수\n"
          ]
        }
      ]
    },
    {
      "cell_type": "code",
      "source": [
        "def test():\n",
        "  global s\n",
        "  s = \"지역변수\"\n",
        "  print(s)\n",
        "\n",
        "s = \"전역변수\"\n",
        "test()\n",
        "print(s) # global 선언으로 같은 주소를 사용하는 변수 = 같은 변수\n",
        "# s 값 변경: 전역변수 => 지역변수"
      ],
      "metadata": {
        "colab": {
          "base_uri": "https://localhost:8080/"
        },
        "id": "GzzZgtdNxAcn",
        "outputId": "1dfc62fb-ee76-4163-a21f-c37e0dcf477d"
      },
      "execution_count": null,
      "outputs": [
        {
          "output_type": "stream",
          "name": "stdout",
          "text": [
            "지역변수\n",
            "지역변수\n"
          ]
        }
      ]
    },
    {
      "cell_type": "code",
      "source": [
        "# 재귀 함수 사용 횟수 계산\n",
        "# 함수 밖에 있는 변수 참조하기 위해서 global 키워드가 필요\n",
        "count = 0\n",
        "def fibonacci(n):\n",
        "  global count\n",
        "  count += 1\n",
        "  if n == 1:\n",
        "    return 1\n",
        "  elif n == 2:\n",
        "    return 1\n",
        "  else:\n",
        "    return fibonacci(n-1) + fibonacci(n-2)\n",
        "\n",
        "print(fibonacci(1))\n",
        "print(count)\n",
        "# fibonacci(1) 1회"
      ],
      "metadata": {
        "colab": {
          "base_uri": "https://localhost:8080/"
        },
        "id": "6IhPbzTFoBbj",
        "outputId": "78a8bb97-8244-416d-cdba-1602253001f7"
      },
      "execution_count": null,
      "outputs": [
        {
          "output_type": "stream",
          "name": "stdout",
          "text": [
            "1\n",
            "1\n"
          ]
        }
      ]
    },
    {
      "cell_type": "code",
      "source": [
        "count = 0\n",
        "def fibonacci(n):\n",
        "  global count\n",
        "  count += 1\n",
        "  if n == 1:\n",
        "    return 1\n",
        "  elif n == 2:\n",
        "    return 1\n",
        "  else:\n",
        "    return fibonacci(n-1) + fibonacci(n-2)\n",
        "\n",
        "print(fibonacci(2))\n",
        "print(count)\n",
        "# fibonacci(2) 1회"
      ],
      "metadata": {
        "colab": {
          "base_uri": "https://localhost:8080/"
        },
        "id": "book6941sf--",
        "outputId": "52d33459-e16d-4e0f-d59c-1b7867be3985"
      },
      "execution_count": null,
      "outputs": [
        {
          "output_type": "stream",
          "name": "stdout",
          "text": [
            "1\n",
            "1\n"
          ]
        }
      ]
    },
    {
      "cell_type": "code",
      "source": [
        "count = 0\n",
        "def fibonacci(n):\n",
        "  global count\n",
        "  count += 1\n",
        "  if n == 1:\n",
        "    return 1\n",
        "  elif n == 2:\n",
        "    return 1\n",
        "  else:\n",
        "    return fibonacci(n-1) + fibonacci(n-2)\n",
        "\n",
        "print(fibonacci(3))\n",
        "print(count)\n",
        "# fibonacci(3) 1회\n",
        "# fibonacci(2) 1회\n",
        "# fibonacci(1) 1회\n",
        "# 총 3회"
      ],
      "metadata": {
        "colab": {
          "base_uri": "https://localhost:8080/"
        },
        "id": "MkTsQ4c0sk7g",
        "outputId": "6a057b27-4340-4360-da92-93d2e3573712"
      },
      "execution_count": null,
      "outputs": [
        {
          "output_type": "stream",
          "name": "stdout",
          "text": [
            "2\n",
            "3\n"
          ]
        }
      ]
    },
    {
      "cell_type": "code",
      "source": [
        "count = 0\n",
        "def fibonacci(n):\n",
        "  global count\n",
        "  count += 1\n",
        "  if n == 1:\n",
        "    return 1\n",
        "  elif n == 2:\n",
        "    return 1\n",
        "  else:\n",
        "    return fibonacci(n-1) + fibonacci(n-2)\n",
        "\n",
        "print(fibonacci(25))\n",
        "print(count)"
      ],
      "metadata": {
        "colab": {
          "base_uri": "https://localhost:8080/"
        },
        "id": "9Eq_9yBdsqAl",
        "outputId": "cdccb7c8-1ea2-4179-c81b-c740c64c9631"
      },
      "execution_count": null,
      "outputs": [
        {
          "output_type": "stream",
          "name": "stdout",
          "text": [
            "75025\n",
            "150049\n"
          ]
        }
      ]
    },
    {
      "cell_type": "code",
      "source": [
        "# global 키워드가 없는 경우\n",
        "count = 0\n",
        "def fibonacci(n):\n",
        "  # global count # 여기에 global 키워드 넣어야 에러 없음\n",
        "  count += 1\n",
        "  if n == 1:\n",
        "    return 1\n",
        "  elif n == 2:\n",
        "    return 1\n",
        "  else:\n",
        "    return fibonacci(n-1) + fibonacci(n-2)\n",
        "print(fibonacci(25))\n",
        "print(count)"
      ],
      "metadata": {
        "colab": {
          "base_uri": "https://localhost:8080/",
          "height": 331
        },
        "id": "9b3Y4dUWCvTU",
        "outputId": "f42eeebe-d2c8-42e7-d9ab-f7992705bbd3"
      },
      "execution_count": null,
      "outputs": [
        {
          "output_type": "error",
          "ename": "UnboundLocalError",
          "evalue": "local variable 'count' referenced before assignment",
          "traceback": [
            "\u001b[0;31m---------------------------------------------------------------------------\u001b[0m",
            "\u001b[0;31mUnboundLocalError\u001b[0m                         Traceback (most recent call last)",
            "\u001b[0;32m<ipython-input-8-ae8eaf9c8316>\u001b[0m in \u001b[0;36m<cell line: 12>\u001b[0;34m()\u001b[0m\n\u001b[1;32m     10\u001b[0m   \u001b[0;32melse\u001b[0m\u001b[0;34m:\u001b[0m\u001b[0;34m\u001b[0m\u001b[0;34m\u001b[0m\u001b[0m\n\u001b[1;32m     11\u001b[0m     \u001b[0;32mreturn\u001b[0m \u001b[0mfibonacci\u001b[0m\u001b[0;34m(\u001b[0m\u001b[0mn\u001b[0m\u001b[0;34m-\u001b[0m\u001b[0;36m1\u001b[0m\u001b[0;34m)\u001b[0m \u001b[0;34m+\u001b[0m \u001b[0mfibonacci\u001b[0m\u001b[0;34m(\u001b[0m\u001b[0mn\u001b[0m\u001b[0;34m-\u001b[0m\u001b[0;36m2\u001b[0m\u001b[0;34m)\u001b[0m\u001b[0;34m\u001b[0m\u001b[0;34m\u001b[0m\u001b[0m\n\u001b[0;32m---> 12\u001b[0;31m \u001b[0mprint\u001b[0m\u001b[0;34m(\u001b[0m\u001b[0mfibonacci\u001b[0m\u001b[0;34m(\u001b[0m\u001b[0;36m25\u001b[0m\u001b[0;34m)\u001b[0m\u001b[0;34m)\u001b[0m\u001b[0;34m\u001b[0m\u001b[0;34m\u001b[0m\u001b[0m\n\u001b[0m\u001b[1;32m     13\u001b[0m \u001b[0mprint\u001b[0m\u001b[0;34m(\u001b[0m\u001b[0mcount\u001b[0m\u001b[0;34m)\u001b[0m\u001b[0;34m\u001b[0m\u001b[0;34m\u001b[0m\u001b[0m\n",
            "\u001b[0;32m<ipython-input-8-ae8eaf9c8316>\u001b[0m in \u001b[0;36mfibonacci\u001b[0;34m(n)\u001b[0m\n\u001b[1;32m      3\u001b[0m \u001b[0;32mdef\u001b[0m \u001b[0mfibonacci\u001b[0m\u001b[0;34m(\u001b[0m\u001b[0mn\u001b[0m\u001b[0;34m)\u001b[0m\u001b[0;34m:\u001b[0m\u001b[0;34m\u001b[0m\u001b[0;34m\u001b[0m\u001b[0m\n\u001b[1;32m      4\u001b[0m   \u001b[0;31m# global count # 여기에 global 키워드 넣어야 에러 없음\u001b[0m\u001b[0;34m\u001b[0m\u001b[0;34m\u001b[0m\u001b[0m\n\u001b[0;32m----> 5\u001b[0;31m   \u001b[0mcount\u001b[0m \u001b[0;34m+=\u001b[0m \u001b[0;36m1\u001b[0m\u001b[0;34m\u001b[0m\u001b[0;34m\u001b[0m\u001b[0m\n\u001b[0m\u001b[1;32m      6\u001b[0m   \u001b[0;32mif\u001b[0m \u001b[0mn\u001b[0m \u001b[0;34m==\u001b[0m \u001b[0;36m1\u001b[0m\u001b[0;34m:\u001b[0m\u001b[0;34m\u001b[0m\u001b[0;34m\u001b[0m\u001b[0m\n\u001b[1;32m      7\u001b[0m     \u001b[0;32mreturn\u001b[0m \u001b[0;36m1\u001b[0m\u001b[0;34m\u001b[0m\u001b[0;34m\u001b[0m\u001b[0m\n",
            "\u001b[0;31mUnboundLocalError\u001b[0m: local variable 'count' referenced before assignment"
          ]
        }
      ]
    },
    {
      "cell_type": "markdown",
      "source": [
        "## 메모화"
      ],
      "metadata": {
        "id": "xVqUPi_S_tEQ"
      }
    },
    {
      "cell_type": "code",
      "source": [
        "f_dict = {\n",
        "    1: 1,\n",
        "    2: 1\n",
        "}\n",
        "# 조기리턴\n",
        "def fibonacci(n): # n 은 딕셔너리 키\n",
        "  if n in f_dict:\n",
        "    return f_dict[n] # 존재하는 키의 값을 가져오는 경우 = 계산한 것이 있음\n",
        "  output = fibonacci(n-1) + fibonacci(n-2)\n",
        "  f_dict[n] = output # 존재하지 않는 키의 값을 저장하는 경우 = 계산한 것이 없음\n",
        "  return output"
      ],
      "metadata": {
        "id": "ZDlYgCXh-FYN"
      },
      "execution_count": null,
      "outputs": []
    },
    {
      "cell_type": "code",
      "source": [
        "print(fibonacci(50))"
      ],
      "metadata": {
        "id": "aCuE7zWkBVWL",
        "colab": {
          "base_uri": "https://localhost:8080/"
        },
        "outputId": "ae7e00f1-c338-41ad-ef16-fcff8c930494"
      },
      "execution_count": null,
      "outputs": [
        {
          "output_type": "stream",
          "name": "stdout",
          "text": [
            "12586269025\n"
          ]
        }
      ]
    },
    {
      "cell_type": "code",
      "source": [
        "f_dict"
      ],
      "metadata": {
        "id": "Nh-S3H7RBY4o",
        "colab": {
          "base_uri": "https://localhost:8080/"
        },
        "outputId": "3a802f0c-fac3-4197-d566-dd059b5aba60"
      },
      "execution_count": null,
      "outputs": [
        {
          "output_type": "execute_result",
          "data": {
            "text/plain": [
              "{1: 1,\n",
              " 2: 1,\n",
              " 3: 2,\n",
              " 4: 3,\n",
              " 5: 5,\n",
              " 6: 8,\n",
              " 7: 13,\n",
              " 8: 21,\n",
              " 9: 34,\n",
              " 10: 55,\n",
              " 11: 89,\n",
              " 12: 144,\n",
              " 13: 233,\n",
              " 14: 377,\n",
              " 15: 610,\n",
              " 16: 987,\n",
              " 17: 1597,\n",
              " 18: 2584,\n",
              " 19: 4181,\n",
              " 20: 6765,\n",
              " 21: 10946,\n",
              " 22: 17711,\n",
              " 23: 28657,\n",
              " 24: 46368,\n",
              " 25: 75025,\n",
              " 26: 121393,\n",
              " 27: 196418,\n",
              " 28: 317811,\n",
              " 29: 514229,\n",
              " 30: 832040,\n",
              " 31: 1346269,\n",
              " 32: 2178309,\n",
              " 33: 3524578,\n",
              " 34: 5702887,\n",
              " 35: 9227465,\n",
              " 36: 14930352,\n",
              " 37: 24157817,\n",
              " 38: 39088169,\n",
              " 39: 63245986,\n",
              " 40: 102334155,\n",
              " 41: 165580141,\n",
              " 42: 267914296,\n",
              " 43: 433494437,\n",
              " 44: 701408733,\n",
              " 45: 1134903170,\n",
              " 46: 1836311903,\n",
              " 47: 2971215073,\n",
              " 48: 4807526976,\n",
              " 49: 7778742049,\n",
              " 50: 12586269025}"
            ]
          },
          "metadata": {},
          "execution_count": 11
        }
      ]
    },
    {
      "cell_type": "code",
      "source": [
        "# 조기리턴 사용하지 않는 경우\n",
        "def fibonacci(n): # n 은 딕셔너리 키\n",
        "  if n in f_dict:\n",
        "    return f_dict[n] # 존재하는 키의 값을 가져오는 경우 = 계산한 것이 있음\n",
        "  else:\n",
        "    output = fibonacci(n-1) + fibonacci(n-2)\n",
        "    f_dict[n] = output # 존재하지 않는 키의 값을 저장하는 경우 = 계산한 것이 없음\n",
        "    return output"
      ],
      "metadata": {
        "id": "8mbqHQh5D3l_"
      },
      "execution_count": null,
      "outputs": []
    },
    {
      "cell_type": "markdown",
      "source": [
        "## 리스트 평탄화"
      ],
      "metadata": {
        "id": "KVOycoEUFPj2"
      }
    },
    {
      "cell_type": "code",
      "source": [
        "# 2차원 리스트 반복문 2번 사용해서 평탄화\n",
        "# 실제로 중괄호가 몇 번 나올지 예상할 수 없음\n",
        "def flatten(data):\n",
        "    output = []\n",
        "    for item in data:\n",
        "        if type(item) == list:\n",
        "            output += item # 리스트인 경우 추가(리스트 추가)\n",
        "        else:\n",
        "            output.append(item) # 리스트가 아닌 경우 추가(요소 추가)\n",
        "    return output\n",
        "    # 여전히 리스트 [5, 6] 가 풀어지지 않음 => 다시 반복문 사용해야 함"
      ],
      "metadata": {
        "id": "fL_cW0BcFSP3"
      },
      "execution_count": null,
      "outputs": []
    },
    {
      "cell_type": "code",
      "source": [
        "a = [[1,2,3], [4, [5, 6]], 7, [8,9]]\n",
        "print(a)\n",
        "print(flatten(a))"
      ],
      "metadata": {
        "colab": {
          "base_uri": "https://localhost:8080/"
        },
        "id": "MbWrjj7WKmjI",
        "outputId": "f95750db-250c-4b7a-d503-8cccf8a691e9"
      },
      "execution_count": null,
      "outputs": [
        {
          "output_type": "stream",
          "name": "stdout",
          "text": [
            "[[1, 2, 3], [4, [5, 6]], 7, [8, 9]]\n",
            "[1, 2, 3, 4, [5, 6], 7, 8, 9]\n"
          ]
        }
      ]
    },
    {
      "cell_type": "code",
      "source": [
        "# 위 과정을 순서대로 쉽게 바꿔보면?\n",
        "output = []\n",
        "output += [1,2,3]\n",
        "output += [4, [5, 6]]\n",
        "output.append(7)\n",
        "output += [8,9]\n",
        "output"
      ],
      "metadata": {
        "colab": {
          "base_uri": "https://localhost:8080/"
        },
        "id": "boAofbLT89vh",
        "outputId": "5368bf24-9a18-40ef-cf92-364043ff9207"
      },
      "execution_count": null,
      "outputs": [
        {
          "output_type": "execute_result",
          "data": {
            "text/plain": [
              "[1, 2, 3, 4, [5, 6], 7, 8, 9]"
            ]
          },
          "metadata": {},
          "execution_count": 15
        }
      ]
    },
    {
      "cell_type": "code",
      "source": [
        "# 재귀함수로 해결 가능\n",
        "def flatten(data):\n",
        "  output = []\n",
        "  for i in data: # 반복\n",
        "    if type(i) == list: # 리스트인 경우\n",
        "      output += flatten(i) # 재귀함수로 변경 = 리스트가 아닐 때까지 반복\n",
        "    else: # 요소인 경우\n",
        "      output.append(i) # 요소 추가\n",
        "  return output\n",
        "# [1,2,3] => flatten([1,2,3]) => 리스트 아니므로 요소 추가\n",
        "# [4, [5, 6]] => flatten([4, [5, 6]]) => 4는 요소 추가\n",
        "# [5, 6] => flatten([5, 6]) => 리스트 아니므로 요소 추가\n",
        "# 7 => 리스트 아니므로 요소 추가\n",
        "# [8,9] => flatten([8,9]) => 리스트 아니므로 요소 추가"
      ],
      "metadata": {
        "id": "FtglsqTI6v-W"
      },
      "execution_count": null,
      "outputs": []
    },
    {
      "cell_type": "code",
      "source": [
        "a = [[1,2,3], [4, [5, 6]], 7, [8,9]]\n",
        "print(a)\n",
        "print(flatten(a))"
      ],
      "metadata": {
        "colab": {
          "base_uri": "https://localhost:8080/"
        },
        "id": "JsfPT_5J6xqh",
        "outputId": "38683587-1b76-4cb9-bba6-10d8d7980a46"
      },
      "execution_count": null,
      "outputs": [
        {
          "output_type": "stream",
          "name": "stdout",
          "text": [
            "[[1, 2, 3], [4, [5, 6]], 7, [8, 9]]\n",
            "[1, 2, 3, 4, 5, 6, 7, 8, 9]\n"
          ]
        }
      ]
    },
    {
      "cell_type": "code",
      "source": [
        "def flatten(data):\n",
        "  output = []\n",
        "  for i in data: # 반복\n",
        "    if type(i) == list: # 리스트인 경우\n",
        "      output += flatten(i) # 리스트가 아닐 때까지 반복\n",
        "    else: # 요소인 경우\n",
        "      output += i # 요소 추가가 아닌 리스트 연결\n",
        "  return output\n",
        "a = [[1,2,3], [4, [5, 6]], 7, [8,9]]\n",
        "print(a)\n",
        "print(flatten(a))"
      ],
      "metadata": {
        "colab": {
          "base_uri": "https://localhost:8080/",
          "height": 355
        },
        "id": "zL28F1cBMYVo",
        "outputId": "84657ae4-625f-4500-945f-55438a850f01"
      },
      "execution_count": null,
      "outputs": [
        {
          "output_type": "stream",
          "name": "stdout",
          "text": [
            "[[1, 2, 3], [4, [5, 6]], 7, [8, 9]]\n"
          ]
        },
        {
          "output_type": "error",
          "ename": "TypeError",
          "evalue": "'int' object is not iterable",
          "traceback": [
            "\u001b[0;31m---------------------------------------------------------------------------\u001b[0m",
            "\u001b[0;31mTypeError\u001b[0m                                 Traceback (most recent call last)",
            "\u001b[0;32m<ipython-input-18-5e26552f8c8c>\u001b[0m in \u001b[0;36m<cell line: 11>\u001b[0;34m()\u001b[0m\n\u001b[1;32m      9\u001b[0m \u001b[0ma\u001b[0m \u001b[0;34m=\u001b[0m \u001b[0;34m[\u001b[0m\u001b[0;34m[\u001b[0m\u001b[0;36m1\u001b[0m\u001b[0;34m,\u001b[0m\u001b[0;36m2\u001b[0m\u001b[0;34m,\u001b[0m\u001b[0;36m3\u001b[0m\u001b[0;34m]\u001b[0m\u001b[0;34m,\u001b[0m \u001b[0;34m[\u001b[0m\u001b[0;36m4\u001b[0m\u001b[0;34m,\u001b[0m \u001b[0;34m[\u001b[0m\u001b[0;36m5\u001b[0m\u001b[0;34m,\u001b[0m \u001b[0;36m6\u001b[0m\u001b[0;34m]\u001b[0m\u001b[0;34m]\u001b[0m\u001b[0;34m,\u001b[0m \u001b[0;36m7\u001b[0m\u001b[0;34m,\u001b[0m \u001b[0;34m[\u001b[0m\u001b[0;36m8\u001b[0m\u001b[0;34m,\u001b[0m\u001b[0;36m9\u001b[0m\u001b[0;34m]\u001b[0m\u001b[0;34m]\u001b[0m\u001b[0;34m\u001b[0m\u001b[0;34m\u001b[0m\u001b[0m\n\u001b[1;32m     10\u001b[0m \u001b[0mprint\u001b[0m\u001b[0;34m(\u001b[0m\u001b[0ma\u001b[0m\u001b[0;34m)\u001b[0m\u001b[0;34m\u001b[0m\u001b[0;34m\u001b[0m\u001b[0m\n\u001b[0;32m---> 11\u001b[0;31m \u001b[0mprint\u001b[0m\u001b[0;34m(\u001b[0m\u001b[0mflatten\u001b[0m\u001b[0;34m(\u001b[0m\u001b[0ma\u001b[0m\u001b[0;34m)\u001b[0m\u001b[0;34m)\u001b[0m\u001b[0;34m\u001b[0m\u001b[0;34m\u001b[0m\u001b[0m\n\u001b[0m",
            "\u001b[0;32m<ipython-input-18-5e26552f8c8c>\u001b[0m in \u001b[0;36mflatten\u001b[0;34m(data)\u001b[0m\n\u001b[1;32m      3\u001b[0m   \u001b[0;32mfor\u001b[0m \u001b[0mi\u001b[0m \u001b[0;32min\u001b[0m \u001b[0mdata\u001b[0m\u001b[0;34m:\u001b[0m \u001b[0;31m# 반복\u001b[0m\u001b[0;34m\u001b[0m\u001b[0;34m\u001b[0m\u001b[0m\n\u001b[1;32m      4\u001b[0m     \u001b[0;32mif\u001b[0m \u001b[0mtype\u001b[0m\u001b[0;34m(\u001b[0m\u001b[0mi\u001b[0m\u001b[0;34m)\u001b[0m \u001b[0;34m==\u001b[0m \u001b[0mlist\u001b[0m\u001b[0;34m:\u001b[0m \u001b[0;31m# 리스트인 경우\u001b[0m\u001b[0;34m\u001b[0m\u001b[0;34m\u001b[0m\u001b[0m\n\u001b[0;32m----> 5\u001b[0;31m       \u001b[0moutput\u001b[0m \u001b[0;34m+=\u001b[0m \u001b[0mflatten\u001b[0m\u001b[0;34m(\u001b[0m\u001b[0mi\u001b[0m\u001b[0;34m)\u001b[0m \u001b[0;31m# 리스트가 아닐 때까지 반복\u001b[0m\u001b[0;34m\u001b[0m\u001b[0;34m\u001b[0m\u001b[0m\n\u001b[0m\u001b[1;32m      6\u001b[0m     \u001b[0;32melse\u001b[0m\u001b[0;34m:\u001b[0m \u001b[0;31m# 요소인 경우\u001b[0m\u001b[0;34m\u001b[0m\u001b[0;34m\u001b[0m\u001b[0m\n\u001b[1;32m      7\u001b[0m       \u001b[0moutput\u001b[0m \u001b[0;34m+=\u001b[0m \u001b[0mi\u001b[0m \u001b[0;31m# 요소 추가가 아닌 리스트 연결\u001b[0m\u001b[0;34m\u001b[0m\u001b[0;34m\u001b[0m\u001b[0m\n",
            "\u001b[0;32m<ipython-input-18-5e26552f8c8c>\u001b[0m in \u001b[0;36mflatten\u001b[0;34m(data)\u001b[0m\n\u001b[1;32m      5\u001b[0m       \u001b[0moutput\u001b[0m \u001b[0;34m+=\u001b[0m \u001b[0mflatten\u001b[0m\u001b[0;34m(\u001b[0m\u001b[0mi\u001b[0m\u001b[0;34m)\u001b[0m \u001b[0;31m# 리스트가 아닐 때까지 반복\u001b[0m\u001b[0;34m\u001b[0m\u001b[0;34m\u001b[0m\u001b[0m\n\u001b[1;32m      6\u001b[0m     \u001b[0;32melse\u001b[0m\u001b[0;34m:\u001b[0m \u001b[0;31m# 요소인 경우\u001b[0m\u001b[0;34m\u001b[0m\u001b[0;34m\u001b[0m\u001b[0m\n\u001b[0;32m----> 7\u001b[0;31m       \u001b[0moutput\u001b[0m \u001b[0;34m+=\u001b[0m \u001b[0mi\u001b[0m \u001b[0;31m# 요소 추가가 아닌 리스트 연결\u001b[0m\u001b[0;34m\u001b[0m\u001b[0;34m\u001b[0m\u001b[0m\n\u001b[0m\u001b[1;32m      8\u001b[0m   \u001b[0;32mreturn\u001b[0m \u001b[0moutput\u001b[0m\u001b[0;34m\u001b[0m\u001b[0;34m\u001b[0m\u001b[0m\n\u001b[1;32m      9\u001b[0m \u001b[0ma\u001b[0m \u001b[0;34m=\u001b[0m \u001b[0;34m[\u001b[0m\u001b[0;34m[\u001b[0m\u001b[0;36m1\u001b[0m\u001b[0;34m,\u001b[0m\u001b[0;36m2\u001b[0m\u001b[0;34m,\u001b[0m\u001b[0;36m3\u001b[0m\u001b[0;34m]\u001b[0m\u001b[0;34m,\u001b[0m \u001b[0;34m[\u001b[0m\u001b[0;36m4\u001b[0m\u001b[0;34m,\u001b[0m \u001b[0;34m[\u001b[0m\u001b[0;36m5\u001b[0m\u001b[0;34m,\u001b[0m \u001b[0;36m6\u001b[0m\u001b[0;34m]\u001b[0m\u001b[0;34m]\u001b[0m\u001b[0;34m,\u001b[0m \u001b[0;36m7\u001b[0m\u001b[0;34m,\u001b[0m \u001b[0;34m[\u001b[0m\u001b[0;36m8\u001b[0m\u001b[0;34m,\u001b[0m\u001b[0;36m9\u001b[0m\u001b[0;34m]\u001b[0m\u001b[0;34m]\u001b[0m\u001b[0;34m\u001b[0m\u001b[0;34m\u001b[0m\u001b[0m\n",
            "\u001b[0;31mTypeError\u001b[0m: 'int' object is not iterable"
          ]
        }
      ]
    },
    {
      "cell_type": "code",
      "source": [
        "def flatten(data):\n",
        "  output = []\n",
        "  for i in data: # 반복\n",
        "    if type(i) == list: # 리스트인 경우\n",
        "      output += flatten(i) # 리스트가 아닐 때까지 반복\n",
        "    else: # 요소인 경우\n",
        "      output.extend(i) # 요소 추가가 아닌 리스트 연결\n",
        "  return output\n",
        "a = [[1,2,3], [4, [5, 6]], 7, [8,9]]\n",
        "print(a)\n",
        "print(flatten(a))"
      ],
      "metadata": {
        "colab": {
          "base_uri": "https://localhost:8080/",
          "height": 355
        },
        "id": "2jUBPnkwEp8X",
        "outputId": "ddca3353-0858-4002-d3dd-ee9d3643eefb"
      },
      "execution_count": null,
      "outputs": [
        {
          "output_type": "stream",
          "name": "stdout",
          "text": [
            "[[1, 2, 3], [4, [5, 6]], 7, [8, 9]]\n"
          ]
        },
        {
          "output_type": "error",
          "ename": "TypeError",
          "evalue": "'int' object is not iterable",
          "traceback": [
            "\u001b[0;31m---------------------------------------------------------------------------\u001b[0m",
            "\u001b[0;31mTypeError\u001b[0m                                 Traceback (most recent call last)",
            "\u001b[0;32m<ipython-input-19-88a1e7430f66>\u001b[0m in \u001b[0;36m<cell line: 11>\u001b[0;34m()\u001b[0m\n\u001b[1;32m      9\u001b[0m \u001b[0ma\u001b[0m \u001b[0;34m=\u001b[0m \u001b[0;34m[\u001b[0m\u001b[0;34m[\u001b[0m\u001b[0;36m1\u001b[0m\u001b[0;34m,\u001b[0m\u001b[0;36m2\u001b[0m\u001b[0;34m,\u001b[0m\u001b[0;36m3\u001b[0m\u001b[0;34m]\u001b[0m\u001b[0;34m,\u001b[0m \u001b[0;34m[\u001b[0m\u001b[0;36m4\u001b[0m\u001b[0;34m,\u001b[0m \u001b[0;34m[\u001b[0m\u001b[0;36m5\u001b[0m\u001b[0;34m,\u001b[0m \u001b[0;36m6\u001b[0m\u001b[0;34m]\u001b[0m\u001b[0;34m]\u001b[0m\u001b[0;34m,\u001b[0m \u001b[0;36m7\u001b[0m\u001b[0;34m,\u001b[0m \u001b[0;34m[\u001b[0m\u001b[0;36m8\u001b[0m\u001b[0;34m,\u001b[0m\u001b[0;36m9\u001b[0m\u001b[0;34m]\u001b[0m\u001b[0;34m]\u001b[0m\u001b[0;34m\u001b[0m\u001b[0;34m\u001b[0m\u001b[0m\n\u001b[1;32m     10\u001b[0m \u001b[0mprint\u001b[0m\u001b[0;34m(\u001b[0m\u001b[0ma\u001b[0m\u001b[0;34m)\u001b[0m\u001b[0;34m\u001b[0m\u001b[0;34m\u001b[0m\u001b[0m\n\u001b[0;32m---> 11\u001b[0;31m \u001b[0mprint\u001b[0m\u001b[0;34m(\u001b[0m\u001b[0mflatten\u001b[0m\u001b[0;34m(\u001b[0m\u001b[0ma\u001b[0m\u001b[0;34m)\u001b[0m\u001b[0;34m)\u001b[0m\u001b[0;34m\u001b[0m\u001b[0;34m\u001b[0m\u001b[0m\n\u001b[0m",
            "\u001b[0;32m<ipython-input-19-88a1e7430f66>\u001b[0m in \u001b[0;36mflatten\u001b[0;34m(data)\u001b[0m\n\u001b[1;32m      3\u001b[0m   \u001b[0;32mfor\u001b[0m \u001b[0mi\u001b[0m \u001b[0;32min\u001b[0m \u001b[0mdata\u001b[0m\u001b[0;34m:\u001b[0m \u001b[0;31m# 반복\u001b[0m\u001b[0;34m\u001b[0m\u001b[0;34m\u001b[0m\u001b[0m\n\u001b[1;32m      4\u001b[0m     \u001b[0;32mif\u001b[0m \u001b[0mtype\u001b[0m\u001b[0;34m(\u001b[0m\u001b[0mi\u001b[0m\u001b[0;34m)\u001b[0m \u001b[0;34m==\u001b[0m \u001b[0mlist\u001b[0m\u001b[0;34m:\u001b[0m \u001b[0;31m# 리스트인 경우\u001b[0m\u001b[0;34m\u001b[0m\u001b[0;34m\u001b[0m\u001b[0m\n\u001b[0;32m----> 5\u001b[0;31m       \u001b[0moutput\u001b[0m \u001b[0;34m+=\u001b[0m \u001b[0mflatten\u001b[0m\u001b[0;34m(\u001b[0m\u001b[0mi\u001b[0m\u001b[0;34m)\u001b[0m \u001b[0;31m# 리스트가 아닐 때까지 반복\u001b[0m\u001b[0;34m\u001b[0m\u001b[0;34m\u001b[0m\u001b[0m\n\u001b[0m\u001b[1;32m      6\u001b[0m     \u001b[0;32melse\u001b[0m\u001b[0;34m:\u001b[0m \u001b[0;31m# 요소인 경우\u001b[0m\u001b[0;34m\u001b[0m\u001b[0;34m\u001b[0m\u001b[0m\n\u001b[1;32m      7\u001b[0m       \u001b[0moutput\u001b[0m\u001b[0;34m.\u001b[0m\u001b[0mextend\u001b[0m\u001b[0;34m(\u001b[0m\u001b[0mi\u001b[0m\u001b[0;34m)\u001b[0m \u001b[0;31m# 요소 추가가 아닌 리스트 연결\u001b[0m\u001b[0;34m\u001b[0m\u001b[0;34m\u001b[0m\u001b[0m\n",
            "\u001b[0;32m<ipython-input-19-88a1e7430f66>\u001b[0m in \u001b[0;36mflatten\u001b[0;34m(data)\u001b[0m\n\u001b[1;32m      5\u001b[0m       \u001b[0moutput\u001b[0m \u001b[0;34m+=\u001b[0m \u001b[0mflatten\u001b[0m\u001b[0;34m(\u001b[0m\u001b[0mi\u001b[0m\u001b[0;34m)\u001b[0m \u001b[0;31m# 리스트가 아닐 때까지 반복\u001b[0m\u001b[0;34m\u001b[0m\u001b[0;34m\u001b[0m\u001b[0m\n\u001b[1;32m      6\u001b[0m     \u001b[0;32melse\u001b[0m\u001b[0;34m:\u001b[0m \u001b[0;31m# 요소인 경우\u001b[0m\u001b[0;34m\u001b[0m\u001b[0;34m\u001b[0m\u001b[0m\n\u001b[0;32m----> 7\u001b[0;31m       \u001b[0moutput\u001b[0m\u001b[0;34m.\u001b[0m\u001b[0mextend\u001b[0m\u001b[0;34m(\u001b[0m\u001b[0mi\u001b[0m\u001b[0;34m)\u001b[0m \u001b[0;31m# 요소 추가가 아닌 리스트 연결\u001b[0m\u001b[0;34m\u001b[0m\u001b[0;34m\u001b[0m\u001b[0m\n\u001b[0m\u001b[1;32m      8\u001b[0m   \u001b[0;32mreturn\u001b[0m \u001b[0moutput\u001b[0m\u001b[0;34m\u001b[0m\u001b[0;34m\u001b[0m\u001b[0m\n\u001b[1;32m      9\u001b[0m \u001b[0ma\u001b[0m \u001b[0;34m=\u001b[0m \u001b[0;34m[\u001b[0m\u001b[0;34m[\u001b[0m\u001b[0;36m1\u001b[0m\u001b[0;34m,\u001b[0m\u001b[0;36m2\u001b[0m\u001b[0;34m,\u001b[0m\u001b[0;36m3\u001b[0m\u001b[0;34m]\u001b[0m\u001b[0;34m,\u001b[0m \u001b[0;34m[\u001b[0m\u001b[0;36m4\u001b[0m\u001b[0;34m,\u001b[0m \u001b[0;34m[\u001b[0m\u001b[0;36m5\u001b[0m\u001b[0;34m,\u001b[0m \u001b[0;36m6\u001b[0m\u001b[0;34m]\u001b[0m\u001b[0;34m]\u001b[0m\u001b[0;34m,\u001b[0m \u001b[0;36m7\u001b[0m\u001b[0;34m,\u001b[0m \u001b[0;34m[\u001b[0m\u001b[0;36m8\u001b[0m\u001b[0;34m,\u001b[0m\u001b[0;36m9\u001b[0m\u001b[0;34m]\u001b[0m\u001b[0;34m]\u001b[0m\u001b[0;34m\u001b[0m\u001b[0;34m\u001b[0m\u001b[0m\n",
            "\u001b[0;31mTypeError\u001b[0m: 'int' object is not iterable"
          ]
        }
      ]
    },
    {
      "cell_type": "markdown",
      "source": [
        "# 콜백 함수"
      ],
      "metadata": {
        "id": "hsuQGOXTd8Tu"
      }
    },
    {
      "cell_type": "code",
      "source": [
        "# 함수의 매개변수에 사용하는 함수 = 콜백 함수\n",
        "def repeat_10(x):\n",
        "  for i in range(10):\n",
        "    x() # 함수 호출 = print_hi() = print(\"hi\")\n",
        "def print_hi():\n",
        "  print(\"hi\")\n",
        "repeat_10(print_hi) # print_hi = 콜백 함수"
      ],
      "metadata": {
        "id": "123cjDIiduI1",
        "colab": {
          "base_uri": "https://localhost:8080/"
        },
        "outputId": "e13f235d-9a77-41e4-8e1f-686bf5b8575b"
      },
      "execution_count": null,
      "outputs": [
        {
          "output_type": "stream",
          "name": "stdout",
          "text": [
            "hi\n",
            "hi\n",
            "hi\n",
            "hi\n",
            "hi\n",
            "hi\n",
            "hi\n",
            "hi\n",
            "hi\n",
            "hi\n"
          ]
        }
      ]
    },
    {
      "cell_type": "markdown",
      "source": [
        "## map"
      ],
      "metadata": {
        "id": "mLBBN9NLkcVL"
      }
    },
    {
      "cell_type": "code",
      "source": [
        "# 함수를 매개변수로 사용하는 대표적인 표준함수\n",
        "# map 함수 = 콜백 함수 적용 결과 값\n",
        "def sqr(x):\n",
        "  return x ** 2\n",
        "\n",
        "list_a = [1,2,3]\n",
        "output_map = map(sqr, list_a)\n",
        "print(output_map) # 제너레이터\n",
        "print(list(output_map)) # 리스트로 반환"
      ],
      "metadata": {
        "id": "L10luq9oebF_",
        "colab": {
          "base_uri": "https://localhost:8080/"
        },
        "outputId": "31fd9d0a-def2-41d4-951b-5b406cd0c170"
      },
      "execution_count": null,
      "outputs": [
        {
          "output_type": "stream",
          "name": "stdout",
          "text": [
            "<map object at 0x7c0b586ae8f0>\n",
            "[1, 4, 9]\n"
          ]
        }
      ]
    },
    {
      "cell_type": "code",
      "source": [
        "# list 를 사용하지 않는다면 다음처럼 코딩하는 것이 좋음\n",
        "def sqr(x):\n",
        "  return x ** 2\n",
        "\n",
        "list_a = [1,2,3]\n",
        "for i in map(sqr, list_a):\n",
        "  print(i)"
      ],
      "metadata": {
        "colab": {
          "base_uri": "https://localhost:8080/"
        },
        "id": "Mj5MGs8YqP2w",
        "outputId": "efc073d4-a906-420b-a40a-031b9c90c548"
      },
      "execution_count": null,
      "outputs": [
        {
          "output_type": "stream",
          "name": "stdout",
          "text": [
            "1\n",
            "4\n",
            "9\n"
          ]
        }
      ]
    },
    {
      "cell_type": "markdown",
      "source": [
        "### map 의 기타 기능"
      ],
      "metadata": {
        "id": "OcmaCfQjyogO"
      }
    },
    {
      "cell_type": "code",
      "source": [
        "# 2개 이상의 시퀀스 자료형 처리 = zip 함수\n",
        "def test(x, y):\n",
        "  return x + y\n",
        "\n",
        "list_a = [1,2,3]\n",
        "output_map = map(test, list_a, list_a)\n",
        "print(output_map) # 제너레이터\n",
        "print(list(output_map)) # 리스트로 반환"
      ],
      "metadata": {
        "colab": {
          "base_uri": "https://localhost:8080/"
        },
        "id": "44egYNdiiEMc",
        "outputId": "dfdbb007-cf46-4779-c4a8-884e097c0da6"
      },
      "execution_count": null,
      "outputs": [
        {
          "output_type": "stream",
          "name": "stdout",
          "text": [
            "<map object at 0x7c0b586aec50>\n",
            "[2, 4, 6]\n"
          ]
        }
      ]
    },
    {
      "cell_type": "code",
      "source": [
        "# 람다 문법으로 변경\n",
        "test = lambda x, y: x + y\n",
        "\n",
        "list_a = [1,2,3]\n",
        "output_map = map(test, list_a, list_a)\n",
        "print(output_map) # 제너레이터\n",
        "print(list(output_map)) # 리스트로 반환"
      ],
      "metadata": {
        "colab": {
          "base_uri": "https://localhost:8080/"
        },
        "id": "F9YxVT9jwRx5",
        "outputId": "670ae362-4394-43fa-c4f4-dd0c4d1f9a27"
      },
      "execution_count": null,
      "outputs": [
        {
          "output_type": "stream",
          "name": "stdout",
          "text": [
            "<map object at 0x7c0b586c8e20>\n",
            "[2, 4, 6]\n"
          ]
        }
      ]
    },
    {
      "cell_type": "code",
      "source": [
        "# 리스트 컴프리헨션 문법으로 변경\n",
        "list_a = [1,2,3]\n",
        "[x + y for x, y in zip(list_a, list_a)]"
      ],
      "metadata": {
        "colab": {
          "base_uri": "https://localhost:8080/"
        },
        "id": "H5vr-7DSljWy",
        "outputId": "e9dd178d-6de8-46da-df09-b28a69442f1f"
      },
      "execution_count": null,
      "outputs": [
        {
          "output_type": "execute_result",
          "data": {
            "text/plain": [
              "[2, 4, 6]"
            ]
          },
          "metadata": {},
          "execution_count": 25
        }
      ]
    },
    {
      "cell_type": "code",
      "source": [
        "# 필터링 기능\n",
        "# 짝수인 경우에만 적용\n",
        "# 람다 문법\n",
        "list_a = [1,2,3,4,5,6]\n",
        "output_map = map(lambda x: x ** 2 if x % 2 == 0 else x, list_a)\n",
        "print(output_map) # 제너레이터\n",
        "print(list(output_map)) # 리스트로 반환"
      ],
      "metadata": {
        "colab": {
          "base_uri": "https://localhost:8080/"
        },
        "id": "iqhAzN0HnJ5L",
        "outputId": "6e1bb99e-3e15-47fa-b3e1-3cbd8faccebe"
      },
      "execution_count": null,
      "outputs": [
        {
          "output_type": "stream",
          "name": "stdout",
          "text": [
            "<map object at 0x7c0b59f73190>\n",
            "[1, 4, 3, 16, 5, 36]\n"
          ]
        }
      ]
    },
    {
      "cell_type": "code",
      "source": [
        "# 리스트 컴프리헨션 문법으로 변경\n",
        "list_a = [1,2,3,4,5,6]\n",
        "[x ** 2 if x % 2 == 0 else x for x in list_a]"
      ],
      "metadata": {
        "colab": {
          "base_uri": "https://localhost:8080/"
        },
        "id": "aTKjZGe5o4yb",
        "outputId": "b9c60292-3ee1-4aac-ca96-06aa19c4be20"
      },
      "execution_count": null,
      "outputs": [
        {
          "output_type": "execute_result",
          "data": {
            "text/plain": [
              "[1, 4, 3, 16, 5, 36]"
            ]
          },
          "metadata": {},
          "execution_count": 34
        }
      ]
    },
    {
      "cell_type": "markdown",
      "source": [
        "## reduce"
      ],
      "metadata": {
        "id": "DStB8X9WwvY4"
      }
    },
    {
      "cell_type": "code",
      "source": [
        "from functools import reduce\n",
        "\n",
        "def x_plus_y(x, y):\n",
        "  return x + y\n",
        "\n",
        "list_a = [1,2,3,4,5,6]\n",
        "\n",
        "reduce(x_plus_y, list_a)\n",
        "# 1 + 2 = 3\n",
        "# 3 + 3 = 6\n",
        "# 6 + 4 = 10\n",
        "# 10 + 5 = 15\n",
        "# 15 + 6 = 21"
      ],
      "metadata": {
        "colab": {
          "base_uri": "https://localhost:8080/"
        },
        "outputId": "794c74a2-756a-41ab-ad88-72951a82ade6",
        "id": "qtRzwJzq11jC"
      },
      "execution_count": null,
      "outputs": [
        {
          "output_type": "execute_result",
          "data": {
            "text/plain": [
              "21"
            ]
          },
          "metadata": {},
          "execution_count": 28
        }
      ]
    },
    {
      "cell_type": "code",
      "source": [
        "from functools import reduce\n",
        "list_a = [1,2,3,4,5,6]\n",
        "reduce(lambda x, y: x + y, list_a)\n",
        "# 1 + 2 = 3\n",
        "# 3 + 3 = 6\n",
        "# 6 + 4 = 10\n",
        "# 10 + 5 = 15\n",
        "# 15 + 6 = 21"
      ],
      "metadata": {
        "colab": {
          "base_uri": "https://localhost:8080/"
        },
        "id": "IUH581eAwxcL",
        "outputId": "839a3a59-38b0-4ccb-be31-016f0367e052"
      },
      "execution_count": null,
      "outputs": [
        {
          "output_type": "execute_result",
          "data": {
            "text/plain": [
              "21"
            ]
          },
          "metadata": {},
          "execution_count": 29
        }
      ]
    },
    {
      "cell_type": "code",
      "source": [
        "# 다음 코드처럼 바꿔보면 좀 더 이해하기 쉬움\n",
        "x = 0\n",
        "list_a = [1,2,3,4,5,6]\n",
        "for i in list_a:\n",
        "  x += i\n",
        "\n",
        "print(x)"
      ],
      "metadata": {
        "colab": {
          "base_uri": "https://localhost:8080/"
        },
        "id": "hralzHwoxXRP",
        "outputId": "33dfae40-75b7-4074-bc58-22ddd3bf7d29"
      },
      "execution_count": null,
      "outputs": [
        {
          "output_type": "stream",
          "name": "stdout",
          "text": [
            "21\n"
          ]
        }
      ]
    },
    {
      "cell_type": "markdown",
      "source": [
        "## filter"
      ],
      "metadata": {
        "id": "M-Lx9ozQnFrJ"
      }
    },
    {
      "cell_type": "code",
      "source": [
        "# filter 함수 = 콜백 함수 적용 결과 중에서 True 인 것\n",
        "def under_3(x):\n",
        "  return x < 3\n",
        "\n",
        "list_a = [1,2,3]\n",
        "output_filter = filter(under_3, list_a)\n",
        "print(output_filter) # 제너레이터\n",
        "print(list(output_filter)) # 리스트로 반환"
      ],
      "metadata": {
        "colab": {
          "base_uri": "https://localhost:8080/"
        },
        "id": "4pKptR2mfs_g",
        "outputId": "3fb298fb-b3f0-44be-aff6-b752865c3284"
      },
      "execution_count": null,
      "outputs": [
        {
          "output_type": "stream",
          "name": "stdout",
          "text": [
            "<filter object at 0x7c0b586adae0>\n",
            "[1, 2]\n"
          ]
        }
      ]
    },
    {
      "cell_type": "markdown",
      "source": [
        "### try ~ except ~ else ~ finally"
      ],
      "metadata": {
        "id": "gwXw6vCP4RMQ"
      }
    },
    {
      "cell_type": "code",
      "source": [
        "# try ~ except ~ else ~ finally 구문\n",
        "# 정수 입력\n",
        "try: # 예외 발생할 수 있는 코드 입력\n",
        "  number = input(\"원의 반지름을 입력하세요(단, 정수)>\")\n",
        "  pi = 3.14\n",
        "  number = int(number)\n",
        "except: # 예외 발생할 때 처리할 코드\n",
        "  print(\"정수를 입력해주시겠어요?\")\n",
        "else: # 예외 발생하지 않을 때 처리할 코드\n",
        "  print(\"원의 반지름\", number)\n",
        "  print(\"원의 둘레\", 2*pi*number)\n",
        "  print(\"원의 넓이\", pi*number*number)\n",
        "finally:\n",
        "  print(\"하여튼 프로그램이 정상적으로 종료되었어요\")"
      ],
      "metadata": {
        "colab": {
          "base_uri": "https://localhost:8080/"
        },
        "id": "mG-ZEzkU4PHt",
        "outputId": "9b427ab1-16ef-4b13-db7f-d2ab970dc484"
      },
      "execution_count": null,
      "outputs": [
        {
          "output_type": "stream",
          "name": "stdout",
          "text": [
            "원의 반지름을 입력하세요(단, 정수)>5\n",
            "원의 반지름 5\n",
            "원의 둘레 31.400000000000002\n",
            "원의 넓이 78.5\n",
            "하여튼 프로그램이 정상적으로 종료되었어요\n"
          ]
        }
      ]
    },
    {
      "cell_type": "code",
      "source": [
        "# 실수 입력\n",
        "try: # 예외 발생할 수 있는 코드 입력\n",
        "  number = input(\"원의 반지름을 입력하세요(단, 정수)>\")\n",
        "  pi = 3.14\n",
        "  number = int(number)\n",
        "except: # 예외 발생할 때 처리할 코드\n",
        "  print(\"정수를 입력해주시겠어요?\")\n",
        "else: # 예외 발생하지 않을 때 처리할 코드\n",
        "  print(\"원의 반지름\", number)\n",
        "  print(\"원의 둘레\", 2*pi*number)\n",
        "  print(\"원의 넓이\", pi*number*number)\n",
        "finally:\n",
        "  print(\"하여튼 프로그램이 정상적으로 종료되었어요\")"
      ],
      "metadata": {
        "colab": {
          "base_uri": "https://localhost:8080/"
        },
        "id": "C29uNLKUMJoS",
        "outputId": "f1eebe77-4870-496a-e1ae-0953bf91391b"
      },
      "execution_count": null,
      "outputs": [
        {
          "output_type": "stream",
          "name": "stdout",
          "text": [
            "원의 반지름을 입력하세요(단, 정수)>5.5\n",
            "정수를 입력해주시겠어요?\n",
            "하여튼 프로그램이 정상적으로 종료되었어요\n"
          ]
        }
      ]
    },
    {
      "cell_type": "code",
      "source": [
        "# 문자 입력\n",
        "try: # 예외 발생할 수 있는 코드 입력\n",
        "  number = input(\"원의 반지름을 입력하세요(단, 정수)>\")\n",
        "  pi = 3.14\n",
        "  number = int(number)\n",
        "except: # 예외 발생할 때 처리할 코드\n",
        "  print(\"정수를 입력해주시겠어요?\")\n",
        "else: # 예외 발생하지 않을 때 처리할 코드\n",
        "  print(\"원의 반지름\", number)\n",
        "  print(\"원의 둘레\", 2*pi*number)\n",
        "  print(\"원의 넓이\", pi*number*number)\n",
        "finally:\n",
        "  print(\"하여튼 프로그램이 정상적으로 종료되었어요\")"
      ],
      "metadata": {
        "colab": {
          "base_uri": "https://localhost:8080/"
        },
        "id": "VQNoJVJlMMGV",
        "outputId": "5c5b833e-6a6e-455e-e171-5febef7009df"
      },
      "execution_count": null,
      "outputs": [
        {
          "output_type": "stream",
          "name": "stdout",
          "text": [
            "원의 반지름을 입력하세요(단, 정수)>5cm\n",
            "정수를 입력해주시겠어요?\n",
            "하여튼 프로그램이 정상적으로 종료되었어요\n"
          ]
        }
      ]
    },
    {
      "cell_type": "markdown",
      "source": [
        "# 예외객체"
      ],
      "metadata": {
        "id": "GlW8C7Qd7Xy3"
      }
    },
    {
      "cell_type": "code",
      "source": [
        "# 예외 정보를 저장하는 객체\n",
        "# 정수 입력\n",
        "try:\n",
        "  number = input(\"원의 반지름을 입력하세요(단, 정수)>\")\n",
        "  pi = 3.14\n",
        "  number = int(number)\n",
        "  print(\"원의 반지름\", number)\n",
        "  print(\"원의 둘레\", 2*pi*number)\n",
        "  print(\"원의 넓이\", pi*number*number)\n",
        "except Exception as exception: # 예외객체\n",
        "  print(\"예외 종류: \", type(exception))\n",
        "  print(\"예외 객체: \", exception)"
      ],
      "metadata": {
        "colab": {
          "base_uri": "https://localhost:8080/"
        },
        "id": "tOBRI1ey4kwc",
        "outputId": "cff89857-f15d-4d75-ffca-0163ce547c14"
      },
      "execution_count": null,
      "outputs": [
        {
          "output_type": "stream",
          "name": "stdout",
          "text": [
            "원의 반지름을 입력하세요(단, 정수)>5\n",
            "원의 반지름 5\n",
            "원의 둘레 31.400000000000002\n",
            "원의 넓이 78.5\n"
          ]
        }
      ]
    },
    {
      "cell_type": "code",
      "source": [
        "# 실수 입력\n",
        "try:\n",
        "  number = input(\"원의 반지름을 입력하세요(단, 정수)>\")\n",
        "  pi = 3.14\n",
        "  number = int(number)\n",
        "  print(\"원의 반지름\", number)\n",
        "  print(\"원의 둘레\", 2*pi*number)\n",
        "  print(\"원의 넓이\", pi*number*number)\n",
        "except Exception as exception: # 예외객체\n",
        "  print(\"예외 종류: \", type(exception))\n",
        "  print(\"예외 객체: \", exception)"
      ],
      "metadata": {
        "colab": {
          "base_uri": "https://localhost:8080/"
        },
        "id": "WtaQPLHkYPji",
        "outputId": "b6ae88c4-4dcb-4e5f-a6fc-f70a5f095dd5"
      },
      "execution_count": null,
      "outputs": [
        {
          "output_type": "stream",
          "name": "stdout",
          "text": [
            "원의 반지름을 입력하세요(단, 정수)>5.5\n",
            "예외 종류:  <class 'ValueError'>\n",
            "예외 객체:  invalid literal for int() with base 10: '5.5'\n"
          ]
        }
      ]
    },
    {
      "cell_type": "code",
      "source": [
        "# 문자 입력\n",
        "try:\n",
        "  number = input(\"원의 반지름을 입력하세요(단, 정수)>\")\n",
        "  pi = 3.14\n",
        "  number = int(number)\n",
        "  print(\"원의 반지름\", number)\n",
        "  print(\"원의 둘레\", 2*pi*number)\n",
        "  print(\"원의 넓이\", pi*number*number)\n",
        "except Exception as exception: # 예외객체\n",
        "  print(\"예외 종류: \", type(exception))\n",
        "  print(\"예외 객체: \", exception)"
      ],
      "metadata": {
        "colab": {
          "base_uri": "https://localhost:8080/"
        },
        "id": "O9t2ylizYSu0",
        "outputId": "e870780f-856e-48f1-b9d1-10f45cc876e4"
      },
      "execution_count": null,
      "outputs": [
        {
          "output_type": "stream",
          "name": "stdout",
          "text": [
            "원의 반지름을 입력하세요(단, 정수)>5cm\n",
            "예외 종류:  <class 'ValueError'>\n",
            "예외 객체:  invalid literal for int() with base 10: '5cm'\n"
          ]
        }
      ]
    },
    {
      "cell_type": "markdown",
      "source": [
        "## 예외구분"
      ],
      "metadata": {
        "id": "ldigjPx_AA44"
      }
    },
    {
      "cell_type": "code",
      "source": [
        "# 정상 실행 = 아무 예외 상황 없음\n",
        "# 정수 4 입력\n",
        "a = [1,2,3,4,5] # 0 ~ 4\n",
        "try:\n",
        "  number = int(input(\"정수를 입력하세요> \"))\n",
        "  print(\"{} 번째 요소는 {}입니다.\".format(number, a[number]))\n",
        "except Exception as exception: # 예외객체\n",
        "  print(\"예외 종류: \", type(exception))\n",
        "  print(\"예외 객체: \", exception)"
      ],
      "metadata": {
        "colab": {
          "base_uri": "https://localhost:8080/"
        },
        "id": "rDvT0SkccfPI",
        "outputId": "71a1f323-27dc-4b86-ec62-6ed32152ff2c"
      },
      "execution_count": null,
      "outputs": [
        {
          "output_type": "stream",
          "name": "stdout",
          "text": [
            "정수를 입력하세요> 4\n",
            "4 번째 요소는 5입니다.\n"
          ]
        }
      ]
    },
    {
      "cell_type": "code",
      "source": [
        "# 여러가지 예외 상황 (2가지)\n",
        "# 1 번째 예외 상황: 정수가 아닌 문자열 입력 (4번째라고 입력)\n",
        "a = [1,2,3,4,5] # 0 ~ 4\n",
        "try:\n",
        "  number = int(input(\"정수를 입력하세요> \"))\n",
        "  print(\"{} 번째 요소는 {}입니다.\".format(number, a[number]))\n",
        "except Exception as exception: # 예외객체\n",
        "  print(\"예외 종류: \", type(exception))\n",
        "  print(\"예외 객체: \", exception)"
      ],
      "metadata": {
        "colab": {
          "base_uri": "https://localhost:8080/"
        },
        "id": "0br3J96d8Gx_",
        "outputId": "5bedc2dd-6b71-40a5-ac84-c7d08f82bb23"
      },
      "execution_count": null,
      "outputs": [
        {
          "output_type": "stream",
          "name": "stdout",
          "text": [
            "정수를 입력하세요> 4번째\n",
            "예외 종류:  <class 'ValueError'>\n",
            "예외 객체:  invalid literal for int() with base 10: '4번째'\n"
          ]
        }
      ]
    },
    {
      "cell_type": "code",
      "source": [
        "# 2 번째 예외 상황: 인덱스에 없는 정수 번호를 입력한 경우 (10 입력)\n",
        "a = [1,2,3,4,5] # 0 ~ 4\n",
        "try:\n",
        "  number = int(input(\"정수를 입력하세요> \"))\n",
        "  print(\"{} 번째 요소는 {}입니다.\".format(number, a[number]))\n",
        "except Exception as exception: # 예외객체\n",
        "  print(\"예외 종류: \", type(exception))\n",
        "  print(\"예외 객체: \", exception)"
      ],
      "metadata": {
        "colab": {
          "base_uri": "https://localhost:8080/"
        },
        "id": "iQIju-wzZjyw",
        "outputId": "e8776ba6-e180-4c8b-99a6-34c0503c0dcd"
      },
      "execution_count": null,
      "outputs": [
        {
          "output_type": "stream",
          "name": "stdout",
          "text": [
            "정수를 입력하세요> 10\n",
            "예외 종류:  <class 'IndexError'>\n",
            "예외 객체:  list index out of range\n"
          ]
        }
      ]
    },
    {
      "cell_type": "code",
      "source": [
        "# 예외 구분\n",
        "# 1 번째 예외 상황: 정수가 아닌 문자열 입력 (4번째라고 입력)\n",
        "a = [1,2,3,4,5] # 0 ~ 4\n",
        "try:\n",
        "  number = int(input(\"정수를 입력하세요> \"))\n",
        "  print(\"{} 번째 요소는 {}입니다.\".format(number, a[number]))\n",
        "except ValueError: # 1 번째 예외 상황: 정수가 아닌 문자열 입력 (4번째라고 입력)\n",
        "  print(\"정수를 입력주시겠어요?\")\n",
        "except IndexError: # 2 번째 예외 상황: 인덱스에 없는 정수 번호를 입력한 경우 (10 입력)\n",
        "  print(\"정수를 잘 입력하셨지만 인덱스 범위에 있는 정수를 입력해주세요\")"
      ],
      "metadata": {
        "colab": {
          "base_uri": "https://localhost:8080/"
        },
        "id": "DpPBceq1-oFw",
        "outputId": "d20d3315-bd0d-45a4-a3fc-5a4e6025feca"
      },
      "execution_count": null,
      "outputs": [
        {
          "output_type": "stream",
          "name": "stdout",
          "text": [
            "정수를 입력하세요> 4번째\n",
            "정수를 입력주시겠어요?\n"
          ]
        }
      ]
    },
    {
      "cell_type": "code",
      "source": [
        "# 2 번째 예외 상황: 인덱스에 없는 정수 번호를 입력한 경우 (10 입력)\n",
        "a = [1,2,3,4,5] # 0 ~ 4\n",
        "try:\n",
        "  number = int(input(\"정수를 입력하세요> \"))\n",
        "  print(\"{} 번째 요소는 {}입니다.\".format(number, a[number]))\n",
        "except ValueError: # 1 번째 예외 상황: 정수가 아닌 문자열 입력 (4번째라고 입력)\n",
        "  print(\"정수를 입력주시겠어요?\")\n",
        "except IndexError: # 2 번째 예외 상황: 인덱스에 없는 정수 번호를 입력한 경우 (10 입력)\n",
        "  print(\"정수를 잘 입력하셨지만 인덱스 범위에 있는 정수를 입력해주세요\")\n",
        "# 하지만 try 구문에서 코드를 계속 입력한다고 가정\n",
        "# 어떤 예외가 발생할지 모름 = 대처가 안됨"
      ],
      "metadata": {
        "colab": {
          "base_uri": "https://localhost:8080/"
        },
        "id": "hU80CLhVbf1I",
        "outputId": "8d518b93-522b-4388-d9a1-c2630536904c"
      },
      "execution_count": null,
      "outputs": [
        {
          "output_type": "stream",
          "name": "stdout",
          "text": [
            "정수를 입력하세요> 10\n",
            "정수를 잘 입력하셨지만 인덱스 범위에 있는 정수를 입력해주세요\n"
          ]
        }
      ]
    },
    {
      "cell_type": "code",
      "source": [
        "# 3번째 예외상황\n",
        "# 예외 조건에 일치하는 것이 없다면 당연히 예외가 발생하며 프로그램이 강제 종료\n",
        "# 3 번째 예외 상황: 식별자에 없는 이름 사용 (4 입력)\n",
        "a = [1,2,3,4,5] # 0 ~ 4\n",
        "try:\n",
        "  number = int(input(\"정수를 입력하세요> \"))\n",
        "  print(\"{} 번째 요소는 {}입니다.\".format(number, a[number]))\n",
        "  예외발생해라()\n",
        "except ValueError: # 1 번째 예외 상황: 정수가 아닌 문자열 입력 (4번째라고 입력)\n",
        "  print(\"정수를 입력주시겠어요?\")\n",
        "except IndexError: # 2 번째 예외 상황: 인덱스에 없는 정수 번호를 입력한 경우 (10 입력)\n",
        "  print(\"정수를 잘 입력하셨지만 인덱스 범위에 있는 정수를 입력해주세요\")"
      ],
      "metadata": {
        "colab": {
          "base_uri": "https://localhost:8080/",
          "height": 257
        },
        "id": "WsCV3XDFFj0x",
        "outputId": "f6a2dff0-ad18-4639-ad3b-c0d54dd195c4"
      },
      "execution_count": null,
      "outputs": [
        {
          "output_type": "stream",
          "name": "stdout",
          "text": [
            "정수를 입력하세요> 4\n",
            "4 번째 요소는 5입니다.\n"
          ]
        },
        {
          "output_type": "error",
          "ename": "NameError",
          "evalue": "name '예외발생해라' is not defined",
          "traceback": [
            "\u001b[0;31m---------------------------------------------------------------------------\u001b[0m",
            "\u001b[0;31mNameError\u001b[0m                                 Traceback (most recent call last)",
            "\u001b[0;32m<ipython-input-46-50f670769229>\u001b[0m in \u001b[0;36m<cell line: 5>\u001b[0;34m()\u001b[0m\n\u001b[1;32m      6\u001b[0m   \u001b[0mnumber\u001b[0m \u001b[0;34m=\u001b[0m \u001b[0mint\u001b[0m\u001b[0;34m(\u001b[0m\u001b[0minput\u001b[0m\u001b[0;34m(\u001b[0m\u001b[0;34m\"정수를 입력하세요> \"\u001b[0m\u001b[0;34m)\u001b[0m\u001b[0;34m)\u001b[0m\u001b[0;34m\u001b[0m\u001b[0;34m\u001b[0m\u001b[0m\n\u001b[1;32m      7\u001b[0m   \u001b[0mprint\u001b[0m\u001b[0;34m(\u001b[0m\u001b[0;34m\"{} 번째 요소는 {}입니다.\"\u001b[0m\u001b[0;34m.\u001b[0m\u001b[0mformat\u001b[0m\u001b[0;34m(\u001b[0m\u001b[0mnumber\u001b[0m\u001b[0;34m,\u001b[0m \u001b[0ma\u001b[0m\u001b[0;34m[\u001b[0m\u001b[0mnumber\u001b[0m\u001b[0;34m]\u001b[0m\u001b[0;34m)\u001b[0m\u001b[0;34m)\u001b[0m\u001b[0;34m\u001b[0m\u001b[0;34m\u001b[0m\u001b[0m\n\u001b[0;32m----> 8\u001b[0;31m   \u001b[0m예외발생해라\u001b[0m\u001b[0;34m(\u001b[0m\u001b[0;34m)\u001b[0m\u001b[0;34m\u001b[0m\u001b[0;34m\u001b[0m\u001b[0m\n\u001b[0m\u001b[1;32m      9\u001b[0m \u001b[0;32mexcept\u001b[0m \u001b[0mValueError\u001b[0m\u001b[0;34m:\u001b[0m \u001b[0;31m# 1 번째 예외 상황: 정수가 아닌 문자열 입력 (4번째라고 입력)\u001b[0m\u001b[0;34m\u001b[0m\u001b[0;34m\u001b[0m\u001b[0m\n\u001b[1;32m     10\u001b[0m   \u001b[0mprint\u001b[0m\u001b[0;34m(\u001b[0m\u001b[0;34m\"정수를 입력주시겠어요?\"\u001b[0m\u001b[0;34m)\u001b[0m\u001b[0;34m\u001b[0m\u001b[0;34m\u001b[0m\u001b[0m\n",
            "\u001b[0;31mNameError\u001b[0m: name '예외발생해라' is not defined"
          ]
        }
      ]
    },
    {
      "cell_type": "code",
      "source": [
        "# 예상할 수 없는 예외도 대처\n",
        "# 정수 4 입력\n",
        "a = [1,2,3,4,5] # 0 ~ 4\n",
        "try:\n",
        "  number = int(input(\"정수를 입력하세요> \"))\n",
        "  print(\"{} 번째 요소는 {}입니다.\".format(number, a[number]))\n",
        "  예외발생해라()\n",
        "except ValueError as exception: # 1 번째 예외 상황: 정수가 아닌 문자열 입력 (4번째라고 입력)\n",
        "  print(\"정수를 입력주시겠어요?\")\n",
        "  print(\"예외 객체: \", exception)\n",
        "except IndexError as exception: # 2 번째 예외 상황: 인덱스에 없는 정수 번호를 입력한 경우 (10 입력)\n",
        "  print(\"정수를 잘 입력하셨지만 인덱스 범위에 있는 정수를 입력해주세요\")\n",
        "  print(\"예외 객체: \", exception)\n",
        "except Exception as exception: # 3 번째 예외 상황: 식별자에 없는 이름 사용 (4 입력)\n",
        "  print(\"예외 종류: \", type(exception))\n",
        "  print(\"예외 객체: \", exception)"
      ],
      "metadata": {
        "colab": {
          "base_uri": "https://localhost:8080/"
        },
        "id": "5OdSw-65Af8o",
        "outputId": "c0e94d9d-3f2c-4b46-d3f1-b1ddad305a9d"
      },
      "execution_count": null,
      "outputs": [
        {
          "output_type": "stream",
          "name": "stdout",
          "text": [
            "정수를 입력하세요> 4\n",
            "4 번째 요소는 5입니다.\n",
            "예외 종류:  <class 'NameError'>\n",
            "예외 객체:  name '예외발생해라' is not defined\n"
          ]
        }
      ]
    },
    {
      "cell_type": "markdown",
      "source": [
        "# 클래스"
      ],
      "metadata": {
        "id": "2-d3j_rNbmFp"
      }
    },
    {
      "cell_type": "code",
      "source": [
        "# 객체 생성\n",
        "# 한 명의 농구 선수가 3 개의 속성을 가짐\n",
        "players = [\n",
        "    {\"name\": \"정대만\", \"point3\": 24, \"point2\": 6, \"ft\": 3},\n",
        "    {\"name\": \"강백호\", \"point3\": 0, \"point2\": 4, \"ft\": 0},\n",
        "    {\"name\": \"서태웅\", \"point3\": 12, \"point2\": 16, \"ft\": 5}\n",
        "]\n",
        "for player in players:\n",
        "  score_sum = player[\"point3\"] + player[\"point2\"] + player[\"ft\"]\n",
        "  print(player[\"name\"], score_sum)\n",
        "# 딕셔너리를 만들 때 키와 값을 입력해야 하고, 키를 잘못 입력할 가능성이 있음"
      ],
      "metadata": {
        "id": "dQy15StfYUHM",
        "colab": {
          "base_uri": "https://localhost:8080/"
        },
        "outputId": "c7bb1f3f-1906-43ec-bf9a-0ecdd5028aa1"
      },
      "execution_count": null,
      "outputs": [
        {
          "output_type": "stream",
          "name": "stdout",
          "text": [
            "정대만 33\n",
            "강백호 4\n",
            "서태웅 33\n"
          ]
        }
      ]
    },
    {
      "cell_type": "code",
      "source": [
        "# 함수로 객체 만들기\n",
        "def create_player(name, point3, point2, ft):\n",
        "  return {\"name\": name,\n",
        "          \"point3\": point3,\n",
        "          \"point2\": point2,\n",
        "          \"ft\": ft}\n",
        "players = [\n",
        "    create_player(\"정대만\", 24, 6, 3),\n",
        "    create_player(\"강백호\", 0, 4, 0),\n",
        "    create_player(\"서태웅\", 12, 16, 5)\n",
        "]\n",
        "for player in players:\n",
        "  score_sum = player[\"point3\"] + player[\"point2\"] + player[\"ft\"]\n",
        "  print(player[\"name\"], score_sum)\n",
        "  # 딕셔너리를 직접 입력할 때보다 쉽고, 키를 잘못 입력하는 실수를 하지 않음"
      ],
      "metadata": {
        "colab": {
          "base_uri": "https://localhost:8080/"
        },
        "id": "jv1CvS8yXZhT",
        "outputId": "7cffce26-1380-44e0-cf84-74507f9b4eca"
      },
      "execution_count": null,
      "outputs": [
        {
          "output_type": "stream",
          "name": "stdout",
          "text": [
            "정대만 33\n",
            "강백호 4\n",
            "서태웅 33\n"
          ]
        }
      ]
    },
    {
      "cell_type": "code",
      "source": [
        "# 코드 분리\n",
        "# 객체와 관련된 기능을 위로, 객체를 사용하는 코드를 아래로 작성하여 구분\n",
        "\n",
        "# 객체 관련 코드\n",
        "def create_player(name, point3, point2, ft):\n",
        "  return {\"name\": name,\n",
        "          \"point3\": point3,\n",
        "          \"point2\": point2,\n",
        "          \"ft\": ft}\n",
        "def score_sum(player): # 점수의 합을 구하는 기능을 함수로 분리\n",
        "  return player[\"point3\"] + player[\"point2\"] + player[\"ft\"]\n",
        "\n",
        "# 객체 사용 코드\n",
        "players = [\n",
        "    create_player(\"정대만\", 24, 6, 3),\n",
        "    create_player(\"강백호\", 0, 4, 0),\n",
        "    create_player(\"서태웅\", 12, 16, 5)\n",
        "]\n",
        "for player in players:\n",
        "  print(player[\"name\"], score_sum(player))"
      ],
      "metadata": {
        "colab": {
          "base_uri": "https://localhost:8080/"
        },
        "id": "qnGByTpTd5lh",
        "outputId": "f3337ab9-fa5a-4b4a-ae1c-202231193c60"
      },
      "execution_count": null,
      "outputs": [
        {
          "output_type": "stream",
          "name": "stdout",
          "text": [
            "정대만 33\n",
            "강백호 4\n",
            "서태웅 33\n"
          ]
        }
      ]
    },
    {
      "cell_type": "code",
      "source": [
        "# 클래스 - 객체를 조금 더 효율적으로 생성\n",
        "class Player:\n",
        "  # 생성자 함수 형태 - 객체 생성할 때 처리할 내용 작성\n",
        "  def __init__(self, name, point3, point2, ft):\n",
        "    self.name = name\n",
        "    self.point3 = point3\n",
        "    self.point2 = point2\n",
        "    self.ft = ft\n",
        "\n",
        "# 클래스 이름 = 생성자 함수를 이용하여 객체 생성\n",
        "# name, point3, point2, ft 순서대로 입력\n",
        "players = [\n",
        "    Player(\"정대만\", 24, 6, 3),\n",
        "    Player(\"강백호\", 0, 4, 0),\n",
        "    Player(\"서태웅\", 12, 16, 5)\n",
        "]\n",
        "\n",
        "print(players) # 인스턴스 3 개\n",
        "print(players[0]) # 1 번 인스턴스\n",
        "# 1 번 인스턴스 속성\n",
        "print(players[0].name)\n",
        "print(players[0].point3)\n",
        "print(players[0].point2)\n",
        "print(players[0].ft)"
      ],
      "metadata": {
        "id": "-N5ijoywjnT2",
        "colab": {
          "base_uri": "https://localhost:8080/"
        },
        "outputId": "d0c74e44-4cb5-405b-bc7f-4cc9c0bcb02e"
      },
      "execution_count": null,
      "outputs": [
        {
          "output_type": "stream",
          "name": "stdout",
          "text": [
            "[<__main__.Player object at 0x7c0b59f72dd0>, <__main__.Player object at 0x7c0b586ae8c0>, <__main__.Player object at 0x7c0b586aee00>]\n",
            "<__main__.Player object at 0x7c0b59f72dd0>\n",
            "정대만\n",
            "24\n",
            "6\n",
            "3\n"
          ]
        }
      ]
    }
  ]
}